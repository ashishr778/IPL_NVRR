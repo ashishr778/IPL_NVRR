{
 "cells": [
  {
   "cell_type": "code",
   "execution_count": 1,
   "id": "a1309e46",
   "metadata": {},
   "outputs": [],
   "source": [
    "import pandas as pd\n",
    "import numpy as np\n",
    "import matplotlib.pyplot as plt\n",
    "import plotly.express as px"
   ]
  },
  {
   "cell_type": "markdown",
   "id": "435c4f5b",
   "metadata": {},
   "source": [
    "# Importing to DFs"
   ]
  },
  {
   "cell_type": "code",
   "execution_count": 2,
   "id": "3d36fa40",
   "metadata": {},
   "outputs": [],
   "source": [
    "all_df = pd.read_csv('IPL_Since2022_Cleaned.csv')\n",
    "\n",
    "all_df.pop('Unnamed: 0');\n",
    "\n",
    "all_df.fillna(0, inplace=True)"
   ]
  },
  {
   "cell_type": "code",
   "execution_count": 3,
   "id": "12b69c3c",
   "metadata": {},
   "outputs": [
    {
     "data": {
      "text/html": [
       "<div>\n",
       "<style scoped>\n",
       "    .dataframe tbody tr th:only-of-type {\n",
       "        vertical-align: middle;\n",
       "    }\n",
       "\n",
       "    .dataframe tbody tr th {\n",
       "        vertical-align: top;\n",
       "    }\n",
       "\n",
       "    .dataframe thead th {\n",
       "        text-align: right;\n",
       "    }\n",
       "</style>\n",
       "<table border=\"1\" class=\"dataframe\">\n",
       "  <thead>\n",
       "    <tr style=\"text-align: right;\">\n",
       "      <th></th>\n",
       "      <th>runs_off_bat</th>\n",
       "      <th>ball</th>\n",
       "    </tr>\n",
       "    <tr>\n",
       "      <th>striker</th>\n",
       "      <th></th>\n",
       "      <th></th>\n",
       "    </tr>\n",
       "  </thead>\n",
       "  <tbody>\n",
       "    <tr>\n",
       "      <th>V Kohli</th>\n",
       "      <td>6624</td>\n",
       "      <td>5129</td>\n",
       "    </tr>\n",
       "    <tr>\n",
       "      <th>S Dhawan</th>\n",
       "      <td>6244</td>\n",
       "      <td>4942</td>\n",
       "    </tr>\n",
       "  </tbody>\n",
       "</table>\n",
       "</div>"
      ],
      "text/plain": [
       "          runs_off_bat  ball\n",
       "striker                     \n",
       "V Kohli           6624  5129\n",
       "S Dhawan          6244  4942"
      ]
     },
     "execution_count": 3,
     "metadata": {},
     "output_type": "execute_result"
    }
   ],
   "source": [
    "all_df[all_df['wides']<1].groupby('striker').agg({\"runs_off_bat\":'sum', 'ball':'count'}).sort_values('runs_off_bat', ascending=False).nlargest(2, 'runs_off_bat')"
   ]
  },
  {
   "cell_type": "markdown",
   "id": "05dfaaf7",
   "metadata": {},
   "source": [
    "# Cleaning"
   ]
  },
  {
   "cell_type": "code",
   "execution_count": 4,
   "id": "01e2847d",
   "metadata": {},
   "outputs": [],
   "source": [
    "# Creating df for only runs that have come off the bat\n",
    "\n",
    "all_df_no_wides = all_df[all_df['wides']==0]"
   ]
  },
  {
   "cell_type": "code",
   "execution_count": 5,
   "id": "860a04d0",
   "metadata": {},
   "outputs": [
    {
     "name": "stderr",
     "output_type": "stream",
     "text": [
      "C:\\Users\\ashis\\AppData\\Local\\Temp\\ipykernel_19336\\2607006990.py:3: SettingWithCopyWarning: \n",
      "A value is trying to be set on a copy of a slice from a DataFrame.\n",
      "Try using .loc[row_indexer,col_indexer] = value instead\n",
      "\n",
      "See the caveats in the documentation: https://pandas.pydata.org/pandas-docs/stable/user_guide/indexing.html#returning-a-view-versus-a-copy\n",
      "  all_df_no_wides['ball'] = all_df_no_wides['ball'].astype('str');\n",
      "C:\\Users\\ashis\\AppData\\Local\\Temp\\ipykernel_19336\\2607006990.py:5: SettingWithCopyWarning: \n",
      "A value is trying to be set on a copy of a slice from a DataFrame.\n",
      "Try using .loc[row_indexer,col_indexer] = value instead\n",
      "\n",
      "See the caveats in the documentation: https://pandas.pydata.org/pandas-docs/stable/user_guide/indexing.html#returning-a-view-versus-a-copy\n",
      "  all_df_no_wides[['Over', 'Ball']] = all_df_no_wides.ball.str.split('.', expand=True);\n",
      "C:\\Users\\ashis\\AppData\\Local\\Temp\\ipykernel_19336\\2607006990.py:5: SettingWithCopyWarning: \n",
      "A value is trying to be set on a copy of a slice from a DataFrame.\n",
      "Try using .loc[row_indexer,col_indexer] = value instead\n",
      "\n",
      "See the caveats in the documentation: https://pandas.pydata.org/pandas-docs/stable/user_guide/indexing.html#returning-a-view-versus-a-copy\n",
      "  all_df_no_wides[['Over', 'Ball']] = all_df_no_wides.ball.str.split('.', expand=True);\n",
      "C:\\Users\\ashis\\AppData\\Local\\Temp\\ipykernel_19336\\2607006990.py:7: SettingWithCopyWarning: \n",
      "A value is trying to be set on a copy of a slice from a DataFrame.\n",
      "Try using .loc[row_indexer,col_indexer] = value instead\n",
      "\n",
      "See the caveats in the documentation: https://pandas.pydata.org/pandas-docs/stable/user_guide/indexing.html#returning-a-view-versus-a-copy\n",
      "  all_df_no_wides['Over'] = all_df_no_wides['Over'].astype('int');\n",
      "C:\\Users\\ashis\\AppData\\Local\\Temp\\ipykernel_19336\\2607006990.py:9: SettingWithCopyWarning: \n",
      "A value is trying to be set on a copy of a slice from a DataFrame.\n",
      "Try using .loc[row_indexer,col_indexer] = value instead\n",
      "\n",
      "See the caveats in the documentation: https://pandas.pydata.org/pandas-docs/stable/user_guide/indexing.html#returning-a-view-versus-a-copy\n",
      "  all_df_no_wides['Ball'] = all_df_no_wides['Ball'].astype('int');\n"
     ]
    }
   ],
   "source": [
    "# Converting \"ball\" column to string to split it and then converting overs and ball number back to \"int\"\n",
    "\n",
    "all_df_no_wides['ball'] = all_df_no_wides['ball'].astype('str');\n",
    "\n",
    "all_df_no_wides[['Over', 'Ball']] = all_df_no_wides.ball.str.split('.', expand=True);\n",
    "\n",
    "all_df_no_wides['Over'] = all_df_no_wides['Over'].astype('int');\n",
    "\n",
    "all_df_no_wides['Ball'] = all_df_no_wides['Ball'].astype('int');"
   ]
  },
  {
   "cell_type": "code",
   "execution_count": 6,
   "id": "3b619177",
   "metadata": {},
   "outputs": [
    {
     "data": {
      "text/html": [
       "<div>\n",
       "<style scoped>\n",
       "    .dataframe tbody tr th:only-of-type {\n",
       "        vertical-align: middle;\n",
       "    }\n",
       "\n",
       "    .dataframe tbody tr th {\n",
       "        vertical-align: top;\n",
       "    }\n",
       "\n",
       "    .dataframe thead th {\n",
       "        text-align: right;\n",
       "    }\n",
       "</style>\n",
       "<table border=\"1\" class=\"dataframe\">\n",
       "  <thead>\n",
       "    <tr style=\"text-align: right;\">\n",
       "      <th></th>\n",
       "      <th>match_id</th>\n",
       "      <th>season</th>\n",
       "      <th>start_date</th>\n",
       "      <th>venue</th>\n",
       "      <th>innings</th>\n",
       "      <th>ball</th>\n",
       "      <th>batting_team</th>\n",
       "      <th>bowling_team</th>\n",
       "      <th>striker</th>\n",
       "      <th>non_striker</th>\n",
       "      <th>...</th>\n",
       "      <th>noballs</th>\n",
       "      <th>byes</th>\n",
       "      <th>legbyes</th>\n",
       "      <th>penalty</th>\n",
       "      <th>wicket_type</th>\n",
       "      <th>player_dismissed</th>\n",
       "      <th>other_wicket_type</th>\n",
       "      <th>other_player_dismissed</th>\n",
       "      <th>Over</th>\n",
       "      <th>Ball</th>\n",
       "    </tr>\n",
       "  </thead>\n",
       "  <tbody>\n",
       "    <tr>\n",
       "      <th>0</th>\n",
       "      <td>335982</td>\n",
       "      <td>2008</td>\n",
       "      <td>2008-04-18</td>\n",
       "      <td>M Chinnaswamy Stadium</td>\n",
       "      <td>1</td>\n",
       "      <td>0.1</td>\n",
       "      <td>Kolkata Knight Riders</td>\n",
       "      <td>Royal Challengers Bangalore</td>\n",
       "      <td>SC Ganguly</td>\n",
       "      <td>BB McCullum</td>\n",
       "      <td>...</td>\n",
       "      <td>0.0</td>\n",
       "      <td>0.0</td>\n",
       "      <td>1.0</td>\n",
       "      <td>0.0</td>\n",
       "      <td>0</td>\n",
       "      <td>0</td>\n",
       "      <td>0.0</td>\n",
       "      <td>0.0</td>\n",
       "      <td>0</td>\n",
       "      <td>1</td>\n",
       "    </tr>\n",
       "    <tr>\n",
       "      <th>1</th>\n",
       "      <td>335982</td>\n",
       "      <td>2008</td>\n",
       "      <td>2008-04-18</td>\n",
       "      <td>M Chinnaswamy Stadium</td>\n",
       "      <td>1</td>\n",
       "      <td>0.2</td>\n",
       "      <td>Kolkata Knight Riders</td>\n",
       "      <td>Royal Challengers Bangalore</td>\n",
       "      <td>BB McCullum</td>\n",
       "      <td>SC Ganguly</td>\n",
       "      <td>...</td>\n",
       "      <td>0.0</td>\n",
       "      <td>0.0</td>\n",
       "      <td>0.0</td>\n",
       "      <td>0.0</td>\n",
       "      <td>0</td>\n",
       "      <td>0</td>\n",
       "      <td>0.0</td>\n",
       "      <td>0.0</td>\n",
       "      <td>0</td>\n",
       "      <td>2</td>\n",
       "    </tr>\n",
       "  </tbody>\n",
       "</table>\n",
       "<p>2 rows × 24 columns</p>\n",
       "</div>"
      ],
      "text/plain": [
       "   match_id  season  start_date                  venue  innings ball  \\\n",
       "0    335982    2008  2008-04-18  M Chinnaswamy Stadium        1  0.1   \n",
       "1    335982    2008  2008-04-18  M Chinnaswamy Stadium        1  0.2   \n",
       "\n",
       "            batting_team                 bowling_team      striker  \\\n",
       "0  Kolkata Knight Riders  Royal Challengers Bangalore   SC Ganguly   \n",
       "1  Kolkata Knight Riders  Royal Challengers Bangalore  BB McCullum   \n",
       "\n",
       "   non_striker  ... noballs  byes  legbyes  penalty  wicket_type  \\\n",
       "0  BB McCullum  ...     0.0   0.0      1.0      0.0            0   \n",
       "1   SC Ganguly  ...     0.0   0.0      0.0      0.0            0   \n",
       "\n",
       "   player_dismissed  other_wicket_type  other_player_dismissed Over Ball  \n",
       "0                 0                0.0                     0.0    0    1  \n",
       "1                 0                0.0                     0.0    0    2  \n",
       "\n",
       "[2 rows x 24 columns]"
      ]
     },
     "execution_count": 6,
     "metadata": {},
     "output_type": "execute_result"
    }
   ],
   "source": [
    "all_df_no_wides.head(2)"
   ]
  },
  {
   "cell_type": "markdown",
   "id": "4a88a7f8",
   "metadata": {},
   "source": [
    "# Getting venue records on overall level (sum total)"
   ]
  },
  {
   "cell_type": "code",
   "execution_count": 7,
   "id": "95aff3d3",
   "metadata": {},
   "outputs": [],
   "source": [
    "venue_overs_overall = all_df_no_wides.groupby(['venue', 'Over']).agg({'runs_off_bat':'sum', 'ball':'count'}).reset_index().sort_values(['venue', 'Over'])"
   ]
  },
  {
   "cell_type": "code",
   "execution_count": 8,
   "id": "8d3a26b1",
   "metadata": {},
   "outputs": [
    {
     "data": {
      "text/plain": [
       "array([ 0,  1,  2,  3,  4,  5,  6,  7,  8,  9, 10, 11, 12, 13, 14, 15, 16,\n",
       "       17, 18, 19], dtype=int64)"
      ]
     },
     "execution_count": 8,
     "metadata": {},
     "output_type": "execute_result"
    }
   ],
   "source": [
    "venue_overs_overall.Over.unique()"
   ]
  },
  {
   "cell_type": "code",
   "execution_count": 9,
   "id": "b39ff870",
   "metadata": {},
   "outputs": [],
   "source": [
    "# Changing start from 0 to 1\n",
    "\n",
    "venue_overs_overall['Over'] = venue_overs_overall['Over'] + 1 "
   ]
  },
  {
   "cell_type": "code",
   "execution_count": 10,
   "id": "b242bb9a",
   "metadata": {},
   "outputs": [
    {
     "data": {
      "text/plain": [
       "array([ 1,  2,  3,  4,  5,  6,  7,  8,  9, 10, 11, 12, 13, 14, 15, 16, 17,\n",
       "       18, 19, 20], dtype=int64)"
      ]
     },
     "execution_count": 10,
     "metadata": {},
     "output_type": "execute_result"
    }
   ],
   "source": [
    "venue_overs_overall.Over.unique()"
   ]
  },
  {
   "cell_type": "code",
   "execution_count": 11,
   "id": "71dfea47",
   "metadata": {},
   "outputs": [
    {
     "data": {
      "text/plain": [
       "(980, 4)"
      ]
     },
     "execution_count": 11,
     "metadata": {},
     "output_type": "execute_result"
    }
   ],
   "source": [
    "venue_overs_overall.shape"
   ]
  },
  {
   "cell_type": "code",
   "execution_count": 12,
   "id": "e51d4dc8",
   "metadata": {},
   "outputs": [],
   "source": [
    "# phase definitions\n",
    "\n",
    "powerplay = list(range(1,7))\n",
    "middle = list(range(7,16))\n",
    "death = list(range(16,21))"
   ]
  },
  {
   "cell_type": "code",
   "execution_count": 13,
   "id": "9ed4c687",
   "metadata": {},
   "outputs": [
    {
     "name": "stderr",
     "output_type": "stream",
     "text": [
      "C:\\Users\\ashis\\AppData\\Local\\Temp\\ipykernel_19336\\3233774879.py:5: SettingWithCopyWarning: \n",
      "A value is trying to be set on a copy of a slice from a DataFrame.\n",
      "Try using .loc[row_indexer,col_indexer] = value instead\n",
      "\n",
      "See the caveats in the documentation: https://pandas.pydata.org/pandas-docs/stable/user_guide/indexing.html#returning-a-view-versus-a-copy\n",
      "  powerplay_venue_df['Over_type'] = 'powerplay'\n"
     ]
    },
    {
     "data": {
      "text/plain": [
       "(294, 5)"
      ]
     },
     "execution_count": 13,
     "metadata": {},
     "output_type": "execute_result"
    }
   ],
   "source": [
    "# Labelling overs by phase\n",
    "\n",
    "powerplay_venue_df = venue_overs_overall[venue_overs_overall['Over'].isin(powerplay)]\n",
    "\n",
    "powerplay_venue_df['Over_type'] = 'powerplay'\n",
    "\n",
    "powerplay_venue_df.shape"
   ]
  },
  {
   "cell_type": "code",
   "execution_count": 14,
   "id": "a1eb8260",
   "metadata": {},
   "outputs": [
    {
     "name": "stderr",
     "output_type": "stream",
     "text": [
      "C:\\Users\\ashis\\AppData\\Local\\Temp\\ipykernel_19336\\1265410253.py:5: SettingWithCopyWarning: \n",
      "A value is trying to be set on a copy of a slice from a DataFrame.\n",
      "Try using .loc[row_indexer,col_indexer] = value instead\n",
      "\n",
      "See the caveats in the documentation: https://pandas.pydata.org/pandas-docs/stable/user_guide/indexing.html#returning-a-view-versus-a-copy\n",
      "  middle_venue_df['Over_type'] = 'middle overs'\n"
     ]
    },
    {
     "data": {
      "text/plain": [
       "(441, 5)"
      ]
     },
     "execution_count": 14,
     "metadata": {},
     "output_type": "execute_result"
    }
   ],
   "source": [
    "# Labelling overs by phase\n",
    "\n",
    "middle_venue_df = venue_overs_overall[venue_overs_overall['Over'].isin(middle)]\n",
    "\n",
    "middle_venue_df['Over_type'] = 'middle overs'\n",
    "\n",
    "middle_venue_df.shape"
   ]
  },
  {
   "cell_type": "code",
   "execution_count": 15,
   "id": "3ae8b4ca",
   "metadata": {},
   "outputs": [
    {
     "name": "stderr",
     "output_type": "stream",
     "text": [
      "C:\\Users\\ashis\\AppData\\Local\\Temp\\ipykernel_19336\\3078442512.py:5: SettingWithCopyWarning: \n",
      "A value is trying to be set on a copy of a slice from a DataFrame.\n",
      "Try using .loc[row_indexer,col_indexer] = value instead\n",
      "\n",
      "See the caveats in the documentation: https://pandas.pydata.org/pandas-docs/stable/user_guide/indexing.html#returning-a-view-versus-a-copy\n",
      "  death_venue_df['Over_type'] = 'death overs'\n"
     ]
    },
    {
     "data": {
      "text/plain": [
       "(245, 5)"
      ]
     },
     "execution_count": 15,
     "metadata": {},
     "output_type": "execute_result"
    }
   ],
   "source": [
    "# Labelling overs by phase\n",
    "\n",
    "death_venue_df = venue_overs_overall[venue_overs_overall['Over'].isin(death)]\n",
    "\n",
    "death_venue_df['Over_type'] = 'death overs'\n",
    "\n",
    "death_venue_df.shape"
   ]
  },
  {
   "cell_type": "code",
   "execution_count": 16,
   "id": "b2bd6be4",
   "metadata": {},
   "outputs": [],
   "source": [
    "venue_overs_overall_labelled = pd.concat([powerplay_venue_df, middle_venue_df, death_venue_df])"
   ]
  },
  {
   "cell_type": "code",
   "execution_count": 17,
   "id": "d59adba7",
   "metadata": {},
   "outputs": [
    {
     "data": {
      "text/plain": [
       "(980, 5)"
      ]
     },
     "execution_count": 17,
     "metadata": {},
     "output_type": "execute_result"
    }
   ],
   "source": [
    "venue_overs_overall_labelled.shape"
   ]
  },
  {
   "cell_type": "code",
   "execution_count": 18,
   "id": "c22a87b1",
   "metadata": {},
   "outputs": [
    {
     "data": {
      "text/html": [
       "<div>\n",
       "<style scoped>\n",
       "    .dataframe tbody tr th:only-of-type {\n",
       "        vertical-align: middle;\n",
       "    }\n",
       "\n",
       "    .dataframe tbody tr th {\n",
       "        vertical-align: top;\n",
       "    }\n",
       "\n",
       "    .dataframe thead th {\n",
       "        text-align: right;\n",
       "    }\n",
       "</style>\n",
       "<table border=\"1\" class=\"dataframe\">\n",
       "  <thead>\n",
       "    <tr style=\"text-align: right;\">\n",
       "      <th></th>\n",
       "      <th>venue</th>\n",
       "      <th>Over</th>\n",
       "      <th>runs_off_bat</th>\n",
       "      <th>ball</th>\n",
       "      <th>Over_type</th>\n",
       "    </tr>\n",
       "  </thead>\n",
       "  <tbody>\n",
       "    <tr>\n",
       "      <th>0</th>\n",
       "      <td>Arun Jaitley Stadium</td>\n",
       "      <td>1</td>\n",
       "      <td>160</td>\n",
       "      <td>168</td>\n",
       "      <td>powerplay</td>\n",
       "    </tr>\n",
       "    <tr>\n",
       "      <th>1</th>\n",
       "      <td>Arun Jaitley Stadium</td>\n",
       "      <td>2</td>\n",
       "      <td>220</td>\n",
       "      <td>168</td>\n",
       "      <td>powerplay</td>\n",
       "    </tr>\n",
       "    <tr>\n",
       "      <th>2</th>\n",
       "      <td>Arun Jaitley Stadium</td>\n",
       "      <td>3</td>\n",
       "      <td>260</td>\n",
       "      <td>168</td>\n",
       "      <td>powerplay</td>\n",
       "    </tr>\n",
       "    <tr>\n",
       "      <th>3</th>\n",
       "      <td>Arun Jaitley Stadium</td>\n",
       "      <td>4</td>\n",
       "      <td>252</td>\n",
       "      <td>168</td>\n",
       "      <td>powerplay</td>\n",
       "    </tr>\n",
       "    <tr>\n",
       "      <th>4</th>\n",
       "      <td>Arun Jaitley Stadium</td>\n",
       "      <td>5</td>\n",
       "      <td>213</td>\n",
       "      <td>168</td>\n",
       "      <td>powerplay</td>\n",
       "    </tr>\n",
       "  </tbody>\n",
       "</table>\n",
       "</div>"
      ],
      "text/plain": [
       "                  venue  Over  runs_off_bat  ball  Over_type\n",
       "0  Arun Jaitley Stadium     1           160   168  powerplay\n",
       "1  Arun Jaitley Stadium     2           220   168  powerplay\n",
       "2  Arun Jaitley Stadium     3           260   168  powerplay\n",
       "3  Arun Jaitley Stadium     4           252   168  powerplay\n",
       "4  Arun Jaitley Stadium     5           213   168  powerplay"
      ]
     },
     "execution_count": 18,
     "metadata": {},
     "output_type": "execute_result"
    }
   ],
   "source": [
    "venue_overs_overall_labelled.head(5)"
   ]
  },
  {
   "cell_type": "markdown",
   "id": "0ab2721e",
   "metadata": {},
   "source": [
    "# Subgrouping by year, venue, over"
   ]
  },
  {
   "cell_type": "code",
   "execution_count": 19,
   "id": "abcb3eb4",
   "metadata": {},
   "outputs": [],
   "source": [
    "venue_overs_by_year = all_df_no_wides.groupby(['season', 'venue', 'Over']).agg({'runs_off_bat':'sum', 'ball':'count'}).reset_index().sort_values(['venue', 'Over'])"
   ]
  },
  {
   "cell_type": "code",
   "execution_count": 20,
   "id": "ba5208b4",
   "metadata": {},
   "outputs": [
    {
     "data": {
      "text/plain": [
       "(3000, 5)"
      ]
     },
     "execution_count": 20,
     "metadata": {},
     "output_type": "execute_result"
    }
   ],
   "source": [
    "venue_overs_by_year.shape"
   ]
  },
  {
   "cell_type": "code",
   "execution_count": 21,
   "id": "980a2981",
   "metadata": {},
   "outputs": [
    {
     "data": {
      "text/html": [
       "<div>\n",
       "<style scoped>\n",
       "    .dataframe tbody tr th:only-of-type {\n",
       "        vertical-align: middle;\n",
       "    }\n",
       "\n",
       "    .dataframe tbody tr th {\n",
       "        vertical-align: top;\n",
       "    }\n",
       "\n",
       "    .dataframe thead th {\n",
       "        text-align: right;\n",
       "    }\n",
       "</style>\n",
       "<table border=\"1\" class=\"dataframe\">\n",
       "  <thead>\n",
       "    <tr style=\"text-align: right;\">\n",
       "      <th></th>\n",
       "      <th>season</th>\n",
       "      <th>venue</th>\n",
       "      <th>Over</th>\n",
       "      <th>runs_off_bat</th>\n",
       "      <th>ball</th>\n",
       "    </tr>\n",
       "  </thead>\n",
       "  <tbody>\n",
       "    <tr>\n",
       "      <th>2300</th>\n",
       "      <td>2018</td>\n",
       "      <td>Arun Jaitley Stadium</td>\n",
       "      <td>0</td>\n",
       "      <td>74</td>\n",
       "      <td>84</td>\n",
       "    </tr>\n",
       "    <tr>\n",
       "      <th>2500</th>\n",
       "      <td>2019</td>\n",
       "      <td>Arun Jaitley Stadium</td>\n",
       "      <td>0</td>\n",
       "      <td>86</td>\n",
       "      <td>84</td>\n",
       "    </tr>\n",
       "    <tr>\n",
       "      <th>2301</th>\n",
       "      <td>2018</td>\n",
       "      <td>Arun Jaitley Stadium</td>\n",
       "      <td>1</td>\n",
       "      <td>111</td>\n",
       "      <td>84</td>\n",
       "    </tr>\n",
       "    <tr>\n",
       "      <th>2501</th>\n",
       "      <td>2019</td>\n",
       "      <td>Arun Jaitley Stadium</td>\n",
       "      <td>1</td>\n",
       "      <td>109</td>\n",
       "      <td>84</td>\n",
       "    </tr>\n",
       "    <tr>\n",
       "      <th>2302</th>\n",
       "      <td>2018</td>\n",
       "      <td>Arun Jaitley Stadium</td>\n",
       "      <td>2</td>\n",
       "      <td>138</td>\n",
       "      <td>84</td>\n",
       "    </tr>\n",
       "  </tbody>\n",
       "</table>\n",
       "</div>"
      ],
      "text/plain": [
       "      season                 venue  Over  runs_off_bat  ball\n",
       "2300    2018  Arun Jaitley Stadium     0            74    84\n",
       "2500    2019  Arun Jaitley Stadium     0            86    84\n",
       "2301    2018  Arun Jaitley Stadium     1           111    84\n",
       "2501    2019  Arun Jaitley Stadium     1           109    84\n",
       "2302    2018  Arun Jaitley Stadium     2           138    84"
      ]
     },
     "execution_count": 21,
     "metadata": {},
     "output_type": "execute_result"
    }
   ],
   "source": [
    "venue_overs_by_year.head()"
   ]
  },
  {
   "cell_type": "code",
   "execution_count": 22,
   "id": "3f2d347e",
   "metadata": {},
   "outputs": [],
   "source": [
    "venue_overs_by_year['Over'] = venue_overs_by_year['Over']+1"
   ]
  },
  {
   "cell_type": "code",
   "execution_count": 23,
   "id": "a0f30803",
   "metadata": {},
   "outputs": [
    {
     "name": "stderr",
     "output_type": "stream",
     "text": [
      "C:\\Users\\ashis\\AppData\\Local\\Temp\\ipykernel_19336\\3331451772.py:5: SettingWithCopyWarning: \n",
      "A value is trying to be set on a copy of a slice from a DataFrame.\n",
      "Try using .loc[row_indexer,col_indexer] = value instead\n",
      "\n",
      "See the caveats in the documentation: https://pandas.pydata.org/pandas-docs/stable/user_guide/indexing.html#returning-a-view-versus-a-copy\n",
      "  powerplay_venue_df['Over_type'] = 'powerplay'\n"
     ]
    },
    {
     "data": {
      "text/plain": [
       "(900, 6)"
      ]
     },
     "execution_count": 23,
     "metadata": {},
     "output_type": "execute_result"
    }
   ],
   "source": [
    "# Labelling overs by phase\n",
    "\n",
    "powerplay_venue_df = venue_overs_by_year[venue_overs_by_year['Over'].isin(powerplay)]\n",
    "\n",
    "powerplay_venue_df['Over_type'] = 'powerplay'\n",
    "\n",
    "powerplay_venue_df.shape"
   ]
  },
  {
   "cell_type": "code",
   "execution_count": 24,
   "id": "a2241e06",
   "metadata": {},
   "outputs": [
    {
     "name": "stderr",
     "output_type": "stream",
     "text": [
      "C:\\Users\\ashis\\AppData\\Local\\Temp\\ipykernel_19336\\1075193399.py:5: SettingWithCopyWarning: \n",
      "A value is trying to be set on a copy of a slice from a DataFrame.\n",
      "Try using .loc[row_indexer,col_indexer] = value instead\n",
      "\n",
      "See the caveats in the documentation: https://pandas.pydata.org/pandas-docs/stable/user_guide/indexing.html#returning-a-view-versus-a-copy\n",
      "  middle_venue_df['Over_type'] = 'middle overs'\n"
     ]
    },
    {
     "data": {
      "text/plain": [
       "(1350, 6)"
      ]
     },
     "execution_count": 24,
     "metadata": {},
     "output_type": "execute_result"
    }
   ],
   "source": [
    "# Labelling overs by phase\n",
    "\n",
    "middle_venue_df = venue_overs_by_year[venue_overs_by_year['Over'].isin(middle)]\n",
    "\n",
    "middle_venue_df['Over_type'] = 'middle overs'\n",
    "\n",
    "middle_venue_df.shape"
   ]
  },
  {
   "cell_type": "code",
   "execution_count": 25,
   "id": "1e44b66d",
   "metadata": {},
   "outputs": [
    {
     "name": "stderr",
     "output_type": "stream",
     "text": [
      "C:\\Users\\ashis\\AppData\\Local\\Temp\\ipykernel_19336\\3834784956.py:5: SettingWithCopyWarning: \n",
      "A value is trying to be set on a copy of a slice from a DataFrame.\n",
      "Try using .loc[row_indexer,col_indexer] = value instead\n",
      "\n",
      "See the caveats in the documentation: https://pandas.pydata.org/pandas-docs/stable/user_guide/indexing.html#returning-a-view-versus-a-copy\n",
      "  death_venue_df['Over_type'] = 'death overs'\n"
     ]
    },
    {
     "data": {
      "text/plain": [
       "(750, 6)"
      ]
     },
     "execution_count": 25,
     "metadata": {},
     "output_type": "execute_result"
    }
   ],
   "source": [
    "# Labelling overs by phase\n",
    "\n",
    "death_venue_df = venue_overs_by_year[venue_overs_by_year['Over'].isin(death)]\n",
    "\n",
    "death_venue_df['Over_type'] = 'death overs'\n",
    "\n",
    "death_venue_df.shape"
   ]
  },
  {
   "cell_type": "code",
   "execution_count": 26,
   "id": "1b085e52",
   "metadata": {},
   "outputs": [],
   "source": [
    "venue_overs_by_year_labelled = pd.concat([powerplay_venue_df, middle_venue_df, death_venue_df])"
   ]
  },
  {
   "cell_type": "code",
   "execution_count": 27,
   "id": "59639c9b",
   "metadata": {},
   "outputs": [
    {
     "data": {
      "text/plain": [
       "(3000, 6)"
      ]
     },
     "execution_count": 27,
     "metadata": {},
     "output_type": "execute_result"
    }
   ],
   "source": [
    "venue_overs_by_year_labelled.shape"
   ]
  },
  {
   "cell_type": "code",
   "execution_count": 28,
   "id": "7aad4836",
   "metadata": {},
   "outputs": [
    {
     "data": {
      "text/plain": [
       "array([2008, 2009, 2010, 2011, 2012, 2013, 2014, 2015, 2016, 2017, 2018,\n",
       "       2019, 2020, 2021, 2022], dtype=int64)"
      ]
     },
     "execution_count": 28,
     "metadata": {},
     "output_type": "execute_result"
    }
   ],
   "source": [
    "np.sort(venue_overs_by_year_labelled.season.unique())"
   ]
  },
  {
   "cell_type": "code",
   "execution_count": 29,
   "id": "4214bb6f",
   "metadata": {},
   "outputs": [],
   "source": [
    "# venue_overs_by_year_labelled.pop('Over')"
   ]
  },
  {
   "cell_type": "code",
   "execution_count": 30,
   "id": "34aba478",
   "metadata": {},
   "outputs": [
    {
     "data": {
      "text/html": [
       "<div>\n",
       "<style scoped>\n",
       "    .dataframe tbody tr th:only-of-type {\n",
       "        vertical-align: middle;\n",
       "    }\n",
       "\n",
       "    .dataframe tbody tr th {\n",
       "        vertical-align: top;\n",
       "    }\n",
       "\n",
       "    .dataframe thead th {\n",
       "        text-align: right;\n",
       "    }\n",
       "</style>\n",
       "<table border=\"1\" class=\"dataframe\">\n",
       "  <thead>\n",
       "    <tr style=\"text-align: right;\">\n",
       "      <th></th>\n",
       "      <th>season</th>\n",
       "      <th>venue</th>\n",
       "      <th>Over</th>\n",
       "      <th>runs_off_bat</th>\n",
       "      <th>ball</th>\n",
       "      <th>Over_type</th>\n",
       "    </tr>\n",
       "  </thead>\n",
       "  <tbody>\n",
       "    <tr>\n",
       "      <th>2300</th>\n",
       "      <td>2018</td>\n",
       "      <td>Arun Jaitley Stadium</td>\n",
       "      <td>1</td>\n",
       "      <td>74</td>\n",
       "      <td>84</td>\n",
       "      <td>powerplay</td>\n",
       "    </tr>\n",
       "    <tr>\n",
       "      <th>2500</th>\n",
       "      <td>2019</td>\n",
       "      <td>Arun Jaitley Stadium</td>\n",
       "      <td>1</td>\n",
       "      <td>86</td>\n",
       "      <td>84</td>\n",
       "      <td>powerplay</td>\n",
       "    </tr>\n",
       "    <tr>\n",
       "      <th>2301</th>\n",
       "      <td>2018</td>\n",
       "      <td>Arun Jaitley Stadium</td>\n",
       "      <td>2</td>\n",
       "      <td>111</td>\n",
       "      <td>84</td>\n",
       "      <td>powerplay</td>\n",
       "    </tr>\n",
       "    <tr>\n",
       "      <th>2501</th>\n",
       "      <td>2019</td>\n",
       "      <td>Arun Jaitley Stadium</td>\n",
       "      <td>2</td>\n",
       "      <td>109</td>\n",
       "      <td>84</td>\n",
       "      <td>powerplay</td>\n",
       "    </tr>\n",
       "    <tr>\n",
       "      <th>2302</th>\n",
       "      <td>2018</td>\n",
       "      <td>Arun Jaitley Stadium</td>\n",
       "      <td>3</td>\n",
       "      <td>138</td>\n",
       "      <td>84</td>\n",
       "      <td>powerplay</td>\n",
       "    </tr>\n",
       "  </tbody>\n",
       "</table>\n",
       "</div>"
      ],
      "text/plain": [
       "      season                 venue  Over  runs_off_bat  ball  Over_type\n",
       "2300    2018  Arun Jaitley Stadium     1            74    84  powerplay\n",
       "2500    2019  Arun Jaitley Stadium     1            86    84  powerplay\n",
       "2301    2018  Arun Jaitley Stadium     2           111    84  powerplay\n",
       "2501    2019  Arun Jaitley Stadium     2           109    84  powerplay\n",
       "2302    2018  Arun Jaitley Stadium     3           138    84  powerplay"
      ]
     },
     "execution_count": 30,
     "metadata": {},
     "output_type": "execute_result"
    }
   ],
   "source": [
    "venue_overs_by_year_labelled.head()"
   ]
  },
  {
   "cell_type": "code",
   "execution_count": 31,
   "id": "390cc364",
   "metadata": {},
   "outputs": [],
   "source": [
    "# Further grouping by Over_type (phase of the innings)\n",
    "\n",
    "venue_overs_by_year_labelled_v2 = venue_overs_by_year_labelled.groupby(['season', 'venue', 'Over_type']).agg({'runs_off_bat': 'sum', 'ball':'sum'}).reset_index()"
   ]
  },
  {
   "cell_type": "code",
   "execution_count": 32,
   "id": "ef60b1fb",
   "metadata": {},
   "outputs": [
    {
     "data": {
      "text/html": [
       "<div>\n",
       "<style scoped>\n",
       "    .dataframe tbody tr th:only-of-type {\n",
       "        vertical-align: middle;\n",
       "    }\n",
       "\n",
       "    .dataframe tbody tr th {\n",
       "        vertical-align: top;\n",
       "    }\n",
       "\n",
       "    .dataframe thead th {\n",
       "        text-align: right;\n",
       "    }\n",
       "</style>\n",
       "<table border=\"1\" class=\"dataframe\">\n",
       "  <thead>\n",
       "    <tr style=\"text-align: right;\">\n",
       "      <th></th>\n",
       "      <th>season</th>\n",
       "      <th>venue</th>\n",
       "      <th>Over_type</th>\n",
       "      <th>runs_off_bat</th>\n",
       "      <th>ball</th>\n",
       "    </tr>\n",
       "  </thead>\n",
       "  <tbody>\n",
       "    <tr>\n",
       "      <th>0</th>\n",
       "      <td>2008</td>\n",
       "      <td>Dr DY Patil Sports Academy</td>\n",
       "      <td>death overs</td>\n",
       "      <td>206</td>\n",
       "      <td>155</td>\n",
       "    </tr>\n",
       "    <tr>\n",
       "      <th>1</th>\n",
       "      <td>2008</td>\n",
       "      <td>Dr DY Patil Sports Academy</td>\n",
       "      <td>middle overs</td>\n",
       "      <td>538</td>\n",
       "      <td>418</td>\n",
       "    </tr>\n",
       "    <tr>\n",
       "      <th>2</th>\n",
       "      <td>2008</td>\n",
       "      <td>Dr DY Patil Sports Academy</td>\n",
       "      <td>powerplay</td>\n",
       "      <td>320</td>\n",
       "      <td>289</td>\n",
       "    </tr>\n",
       "    <tr>\n",
       "      <th>3</th>\n",
       "      <td>2008</td>\n",
       "      <td>Eden Gardens</td>\n",
       "      <td>death overs</td>\n",
       "      <td>416</td>\n",
       "      <td>285</td>\n",
       "    </tr>\n",
       "    <tr>\n",
       "      <th>4</th>\n",
       "      <td>2008</td>\n",
       "      <td>Eden Gardens</td>\n",
       "      <td>middle overs</td>\n",
       "      <td>785</td>\n",
       "      <td>718</td>\n",
       "    </tr>\n",
       "  </tbody>\n",
       "</table>\n",
       "</div>"
      ],
      "text/plain": [
       "   season                       venue     Over_type  runs_off_bat  ball\n",
       "0    2008  Dr DY Patil Sports Academy   death overs           206   155\n",
       "1    2008  Dr DY Patil Sports Academy  middle overs           538   418\n",
       "2    2008  Dr DY Patil Sports Academy     powerplay           320   289\n",
       "3    2008                Eden Gardens   death overs           416   285\n",
       "4    2008                Eden Gardens  middle overs           785   718"
      ]
     },
     "execution_count": 32,
     "metadata": {},
     "output_type": "execute_result"
    }
   ],
   "source": [
    "venue_overs_by_year_labelled_v2.head()"
   ]
  },
  {
   "cell_type": "markdown",
   "id": "618619a4",
   "metadata": {},
   "source": [
    "#### Testing "
   ]
  },
  {
   "cell_type": "code",
   "execution_count": 33,
   "id": "07f8091a",
   "metadata": {},
   "outputs": [],
   "source": [
    "Bangalore_2016 = venue_overs_by_year[(venue_overs_by_year['season']==2016) & (venue_overs_by_year['venue']=='M Chinnaswamy Stadium')]"
   ]
  },
  {
   "cell_type": "code",
   "execution_count": 34,
   "id": "3084673b",
   "metadata": {},
   "outputs": [
    {
     "name": "stderr",
     "output_type": "stream",
     "text": [
      "C:\\Users\\ashis\\AppData\\Local\\Temp\\ipykernel_19336\\920271604.py:1: SettingWithCopyWarning: \n",
      "A value is trying to be set on a copy of a slice from a DataFrame.\n",
      "Try using .loc[row_indexer,col_indexer] = value instead\n",
      "\n",
      "See the caveats in the documentation: https://pandas.pydata.org/pandas-docs/stable/user_guide/indexing.html#returning-a-view-versus-a-copy\n",
      "  Bangalore_2016['Venue_RpO'] = Bangalore_2016['runs_off_bat']/Bangalore_2016['ball']\n"
     ]
    }
   ],
   "source": [
    "Bangalore_2016['Venue_RpO'] = Bangalore_2016['runs_off_bat']/Bangalore_2016['ball']"
   ]
  },
  {
   "cell_type": "code",
   "execution_count": 35,
   "id": "26c8cc44",
   "metadata": {},
   "outputs": [
    {
     "data": {
      "text/html": [
       "<div>\n",
       "<style scoped>\n",
       "    .dataframe tbody tr th:only-of-type {\n",
       "        vertical-align: middle;\n",
       "    }\n",
       "\n",
       "    .dataframe tbody tr th {\n",
       "        vertical-align: top;\n",
       "    }\n",
       "\n",
       "    .dataframe thead th {\n",
       "        text-align: right;\n",
       "    }\n",
       "</style>\n",
       "<table border=\"1\" class=\"dataframe\">\n",
       "  <thead>\n",
       "    <tr style=\"text-align: right;\">\n",
       "      <th></th>\n",
       "      <th>season</th>\n",
       "      <th>venue</th>\n",
       "      <th>Over</th>\n",
       "      <th>runs_off_bat</th>\n",
       "      <th>ball</th>\n",
       "      <th>Venue_RpO</th>\n",
       "    </tr>\n",
       "  </thead>\n",
       "  <tbody>\n",
       "    <tr>\n",
       "      <th>1940</th>\n",
       "      <td>2016</td>\n",
       "      <td>M Chinnaswamy Stadium</td>\n",
       "      <td>1</td>\n",
       "      <td>95</td>\n",
       "      <td>108</td>\n",
       "      <td>0.879630</td>\n",
       "    </tr>\n",
       "    <tr>\n",
       "      <th>1941</th>\n",
       "      <td>2016</td>\n",
       "      <td>M Chinnaswamy Stadium</td>\n",
       "      <td>2</td>\n",
       "      <td>104</td>\n",
       "      <td>108</td>\n",
       "      <td>0.962963</td>\n",
       "    </tr>\n",
       "    <tr>\n",
       "      <th>1942</th>\n",
       "      <td>2016</td>\n",
       "      <td>M Chinnaswamy Stadium</td>\n",
       "      <td>3</td>\n",
       "      <td>124</td>\n",
       "      <td>108</td>\n",
       "      <td>1.148148</td>\n",
       "    </tr>\n",
       "    <tr>\n",
       "      <th>1943</th>\n",
       "      <td>2016</td>\n",
       "      <td>M Chinnaswamy Stadium</td>\n",
       "      <td>4</td>\n",
       "      <td>164</td>\n",
       "      <td>108</td>\n",
       "      <td>1.518519</td>\n",
       "    </tr>\n",
       "    <tr>\n",
       "      <th>1944</th>\n",
       "      <td>2016</td>\n",
       "      <td>M Chinnaswamy Stadium</td>\n",
       "      <td>5</td>\n",
       "      <td>182</td>\n",
       "      <td>108</td>\n",
       "      <td>1.685185</td>\n",
       "    </tr>\n",
       "  </tbody>\n",
       "</table>\n",
       "</div>"
      ],
      "text/plain": [
       "      season                  venue  Over  runs_off_bat  ball  Venue_RpO\n",
       "1940    2016  M Chinnaswamy Stadium     1            95   108   0.879630\n",
       "1941    2016  M Chinnaswamy Stadium     2           104   108   0.962963\n",
       "1942    2016  M Chinnaswamy Stadium     3           124   108   1.148148\n",
       "1943    2016  M Chinnaswamy Stadium     4           164   108   1.518519\n",
       "1944    2016  M Chinnaswamy Stadium     5           182   108   1.685185"
      ]
     },
     "execution_count": 35,
     "metadata": {},
     "output_type": "execute_result"
    }
   ],
   "source": [
    "Bangalore_2016.head()"
   ]
  },
  {
   "cell_type": "markdown",
   "id": "e1f91536",
   "metadata": {},
   "source": [
    "# Further subgrouping by player"
   ]
  },
  {
   "cell_type": "code",
   "execution_count": 36,
   "id": "bd3fc82d",
   "metadata": {},
   "outputs": [],
   "source": [
    "player_venue_overs_overall = all_df_no_wides.groupby(['season', 'venue', 'Over', 'striker']).agg({'runs_off_bat':'sum', 'ball':'count'}).reset_index().sort_values(['season', 'venue', 'Over'])"
   ]
  },
  {
   "cell_type": "code",
   "execution_count": 37,
   "id": "e95da0ac",
   "metadata": {},
   "outputs": [
    {
     "data": {
      "text/plain": [
       "(56951, 6)"
      ]
     },
     "execution_count": 37,
     "metadata": {},
     "output_type": "execute_result"
    }
   ],
   "source": [
    "player_venue_overs_overall.shape"
   ]
  },
  {
   "cell_type": "code",
   "execution_count": 38,
   "id": "58d218a5",
   "metadata": {},
   "outputs": [
    {
     "data": {
      "text/html": [
       "<div>\n",
       "<style scoped>\n",
       "    .dataframe tbody tr th:only-of-type {\n",
       "        vertical-align: middle;\n",
       "    }\n",
       "\n",
       "    .dataframe tbody tr th {\n",
       "        vertical-align: top;\n",
       "    }\n",
       "\n",
       "    .dataframe thead th {\n",
       "        text-align: right;\n",
       "    }\n",
       "</style>\n",
       "<table border=\"1\" class=\"dataframe\">\n",
       "  <thead>\n",
       "    <tr style=\"text-align: right;\">\n",
       "      <th></th>\n",
       "      <th>season</th>\n",
       "      <th>venue</th>\n",
       "      <th>Over</th>\n",
       "      <th>striker</th>\n",
       "      <th>runs_off_bat</th>\n",
       "      <th>ball</th>\n",
       "    </tr>\n",
       "  </thead>\n",
       "  <tbody>\n",
       "    <tr>\n",
       "      <th>0</th>\n",
       "      <td>2008</td>\n",
       "      <td>Dr DY Patil Sports Academy</td>\n",
       "      <td>0</td>\n",
       "      <td>AC Gilchrist</td>\n",
       "      <td>9</td>\n",
       "      <td>5</td>\n",
       "    </tr>\n",
       "    <tr>\n",
       "      <th>1</th>\n",
       "      <td>2008</td>\n",
       "      <td>Dr DY Patil Sports Academy</td>\n",
       "      <td>0</td>\n",
       "      <td>G Gambhir</td>\n",
       "      <td>1</td>\n",
       "      <td>5</td>\n",
       "    </tr>\n",
       "    <tr>\n",
       "      <th>2</th>\n",
       "      <td>2008</td>\n",
       "      <td>Dr DY Patil Sports Academy</td>\n",
       "      <td>0</td>\n",
       "      <td>GC Smith</td>\n",
       "      <td>2</td>\n",
       "      <td>4</td>\n",
       "    </tr>\n",
       "    <tr>\n",
       "      <th>3</th>\n",
       "      <td>2008</td>\n",
       "      <td>Dr DY Patil Sports Academy</td>\n",
       "      <td>0</td>\n",
       "      <td>L Ronchi</td>\n",
       "      <td>5</td>\n",
       "      <td>4</td>\n",
       "    </tr>\n",
       "    <tr>\n",
       "      <th>4</th>\n",
       "      <td>2008</td>\n",
       "      <td>Dr DY Patil Sports Academy</td>\n",
       "      <td>0</td>\n",
       "      <td>Niraj Patel</td>\n",
       "      <td>1</td>\n",
       "      <td>5</td>\n",
       "    </tr>\n",
       "  </tbody>\n",
       "</table>\n",
       "</div>"
      ],
      "text/plain": [
       "   season                       venue  Over       striker  runs_off_bat  ball\n",
       "0    2008  Dr DY Patil Sports Academy     0  AC Gilchrist             9     5\n",
       "1    2008  Dr DY Patil Sports Academy     0     G Gambhir             1     5\n",
       "2    2008  Dr DY Patil Sports Academy     0      GC Smith             2     4\n",
       "3    2008  Dr DY Patil Sports Academy     0      L Ronchi             5     4\n",
       "4    2008  Dr DY Patil Sports Academy     0   Niraj Patel             1     5"
      ]
     },
     "execution_count": 38,
     "metadata": {},
     "output_type": "execute_result"
    }
   ],
   "source": [
    "player_venue_overs_overall.head(5)"
   ]
  },
  {
   "cell_type": "code",
   "execution_count": 39,
   "id": "4f4b2db7",
   "metadata": {},
   "outputs": [],
   "source": [
    "player_venue_overs_overall['Over'] = player_venue_overs_overall['Over']+1"
   ]
  },
  {
   "cell_type": "code",
   "execution_count": 40,
   "id": "266857fc",
   "metadata": {},
   "outputs": [],
   "source": [
    "# player_venue_overs_overall[(player_venue_overs_overall['venue']=='M.Chinnaswamy Stadium') & (player_venue_overs_overall['striker']=='AD Hales')]['runs_off_bat'].sum()"
   ]
  },
  {
   "cell_type": "code",
   "execution_count": 41,
   "id": "43e25e9c",
   "metadata": {},
   "outputs": [],
   "source": [
    "# player_venue_overs_overall[(player_venue_overs_overall['venue']=='M.Chinnaswamy Stadium') & (player_venue_overs_overall['striker']=='AD Hales')]['ball'].sum()"
   ]
  },
  {
   "cell_type": "code",
   "execution_count": 42,
   "id": "3c429fce",
   "metadata": {},
   "outputs": [
    {
     "name": "stderr",
     "output_type": "stream",
     "text": [
      "C:\\Users\\ashis\\AppData\\Local\\Temp\\ipykernel_19336\\4181109094.py:3: SettingWithCopyWarning: \n",
      "A value is trying to be set on a copy of a slice from a DataFrame.\n",
      "Try using .loc[row_indexer,col_indexer] = value instead\n",
      "\n",
      "See the caveats in the documentation: https://pandas.pydata.org/pandas-docs/stable/user_guide/indexing.html#returning-a-view-versus-a-copy\n",
      "  powerplay_df['Over_type'] = 'powerplay'\n"
     ]
    },
    {
     "data": {
      "text/plain": [
       "(15235, 7)"
      ]
     },
     "execution_count": 42,
     "metadata": {},
     "output_type": "execute_result"
    }
   ],
   "source": [
    "powerplay_df = player_venue_overs_overall[player_venue_overs_overall['Over'].isin(powerplay)]\n",
    "\n",
    "powerplay_df['Over_type'] = 'powerplay'\n",
    "\n",
    "powerplay_df.shape"
   ]
  },
  {
   "cell_type": "code",
   "execution_count": 43,
   "id": "68948332",
   "metadata": {},
   "outputs": [
    {
     "name": "stderr",
     "output_type": "stream",
     "text": [
      "C:\\Users\\ashis\\AppData\\Local\\Temp\\ipykernel_19336\\1592289299.py:3: SettingWithCopyWarning: \n",
      "A value is trying to be set on a copy of a slice from a DataFrame.\n",
      "Try using .loc[row_indexer,col_indexer] = value instead\n",
      "\n",
      "See the caveats in the documentation: https://pandas.pydata.org/pandas-docs/stable/user_guide/indexing.html#returning-a-view-versus-a-copy\n",
      "  middle_df['Over_type'] = 'middle overs'\n"
     ]
    },
    {
     "data": {
      "text/plain": [
       "(26741, 7)"
      ]
     },
     "execution_count": 43,
     "metadata": {},
     "output_type": "execute_result"
    }
   ],
   "source": [
    "middle_df = player_venue_overs_overall[player_venue_overs_overall['Over'].isin(middle)]\n",
    "\n",
    "middle_df['Over_type'] = 'middle overs'\n",
    "\n",
    "middle_df.shape"
   ]
  },
  {
   "cell_type": "code",
   "execution_count": 44,
   "id": "ed3592a2",
   "metadata": {},
   "outputs": [
    {
     "name": "stderr",
     "output_type": "stream",
     "text": [
      "C:\\Users\\ashis\\AppData\\Local\\Temp\\ipykernel_19336\\3821826160.py:3: SettingWithCopyWarning: \n",
      "A value is trying to be set on a copy of a slice from a DataFrame.\n",
      "Try using .loc[row_indexer,col_indexer] = value instead\n",
      "\n",
      "See the caveats in the documentation: https://pandas.pydata.org/pandas-docs/stable/user_guide/indexing.html#returning-a-view-versus-a-copy\n",
      "  death_df['Over_type'] = 'death overs'\n"
     ]
    },
    {
     "data": {
      "text/plain": [
       "(14975, 7)"
      ]
     },
     "execution_count": 44,
     "metadata": {},
     "output_type": "execute_result"
    }
   ],
   "source": [
    "death_df = player_venue_overs_overall[player_venue_overs_overall['Over'].isin(death)]\n",
    "\n",
    "death_df['Over_type'] = 'death overs'\n",
    "\n",
    "death_df.shape"
   ]
  },
  {
   "cell_type": "code",
   "execution_count": 45,
   "id": "5f74b505",
   "metadata": {},
   "outputs": [],
   "source": [
    "player_venue_overs_grouped = pd.concat([powerplay_df, middle_df, death_df])"
   ]
  },
  {
   "cell_type": "code",
   "execution_count": 46,
   "id": "3512df87",
   "metadata": {},
   "outputs": [
    {
     "data": {
      "text/html": [
       "<div>\n",
       "<style scoped>\n",
       "    .dataframe tbody tr th:only-of-type {\n",
       "        vertical-align: middle;\n",
       "    }\n",
       "\n",
       "    .dataframe tbody tr th {\n",
       "        vertical-align: top;\n",
       "    }\n",
       "\n",
       "    .dataframe thead th {\n",
       "        text-align: right;\n",
       "    }\n",
       "</style>\n",
       "<table border=\"1\" class=\"dataframe\">\n",
       "  <thead>\n",
       "    <tr style=\"text-align: right;\">\n",
       "      <th></th>\n",
       "      <th>season</th>\n",
       "      <th>venue</th>\n",
       "      <th>Over</th>\n",
       "      <th>striker</th>\n",
       "      <th>runs_off_bat</th>\n",
       "      <th>ball</th>\n",
       "      <th>Over_type</th>\n",
       "    </tr>\n",
       "  </thead>\n",
       "  <tbody>\n",
       "    <tr>\n",
       "      <th>0</th>\n",
       "      <td>2008</td>\n",
       "      <td>Dr DY Patil Sports Academy</td>\n",
       "      <td>1</td>\n",
       "      <td>AC Gilchrist</td>\n",
       "      <td>9</td>\n",
       "      <td>5</td>\n",
       "      <td>powerplay</td>\n",
       "    </tr>\n",
       "    <tr>\n",
       "      <th>1</th>\n",
       "      <td>2008</td>\n",
       "      <td>Dr DY Patil Sports Academy</td>\n",
       "      <td>1</td>\n",
       "      <td>G Gambhir</td>\n",
       "      <td>1</td>\n",
       "      <td>5</td>\n",
       "      <td>powerplay</td>\n",
       "    </tr>\n",
       "    <tr>\n",
       "      <th>2</th>\n",
       "      <td>2008</td>\n",
       "      <td>Dr DY Patil Sports Academy</td>\n",
       "      <td>1</td>\n",
       "      <td>GC Smith</td>\n",
       "      <td>2</td>\n",
       "      <td>4</td>\n",
       "      <td>powerplay</td>\n",
       "    </tr>\n",
       "    <tr>\n",
       "      <th>3</th>\n",
       "      <td>2008</td>\n",
       "      <td>Dr DY Patil Sports Academy</td>\n",
       "      <td>1</td>\n",
       "      <td>L Ronchi</td>\n",
       "      <td>5</td>\n",
       "      <td>4</td>\n",
       "      <td>powerplay</td>\n",
       "    </tr>\n",
       "    <tr>\n",
       "      <th>4</th>\n",
       "      <td>2008</td>\n",
       "      <td>Dr DY Patil Sports Academy</td>\n",
       "      <td>1</td>\n",
       "      <td>Niraj Patel</td>\n",
       "      <td>1</td>\n",
       "      <td>5</td>\n",
       "      <td>powerplay</td>\n",
       "    </tr>\n",
       "  </tbody>\n",
       "</table>\n",
       "</div>"
      ],
      "text/plain": [
       "   season                       venue  Over       striker  runs_off_bat  ball  \\\n",
       "0    2008  Dr DY Patil Sports Academy     1  AC Gilchrist             9     5   \n",
       "1    2008  Dr DY Patil Sports Academy     1     G Gambhir             1     5   \n",
       "2    2008  Dr DY Patil Sports Academy     1      GC Smith             2     4   \n",
       "3    2008  Dr DY Patil Sports Academy     1      L Ronchi             5     4   \n",
       "4    2008  Dr DY Patil Sports Academy     1   Niraj Patel             1     5   \n",
       "\n",
       "   Over_type  \n",
       "0  powerplay  \n",
       "1  powerplay  \n",
       "2  powerplay  \n",
       "3  powerplay  \n",
       "4  powerplay  "
      ]
     },
     "execution_count": 46,
     "metadata": {},
     "output_type": "execute_result"
    }
   ],
   "source": [
    "player_venue_overs_grouped.head(5)"
   ]
  },
  {
   "cell_type": "code",
   "execution_count": 47,
   "id": "8377e719",
   "metadata": {},
   "outputs": [],
   "source": [
    "player_venue_overs_grouped_v2 = player_venue_overs_grouped.groupby(['season', 'venue','striker', 'Over_type']).agg({'runs_off_bat': 'sum', 'ball':'sum'}).reset_index()"
   ]
  },
  {
   "cell_type": "code",
   "execution_count": 48,
   "id": "edf5213a",
   "metadata": {},
   "outputs": [],
   "source": [
    "# player_venue_overs_grouped_v2[(player_venue_overs_grouped_v2['season']==2018) & (player_venue_overs_grouped_v2['venue']=='M.Chinnaswamy Stadium') & (player_venue_overs_grouped_v2['striker']=='AB de Villiers')]"
   ]
  },
  {
   "cell_type": "markdown",
   "id": "8a3132d8",
   "metadata": {},
   "source": [
    "# Cleaning repeating venue names (optional)"
   ]
  },
  {
   "cell_type": "code",
   "execution_count": 49,
   "id": "cb3891e1",
   "metadata": {},
   "outputs": [
    {
     "data": {
      "text/plain": [
       "array(['Arun Jaitley Stadium', 'Arun Jaitley Stadium, Delhi',\n",
       "       'Barabati Stadium', 'Brabourne Stadium',\n",
       "       'Brabourne Stadium, Mumbai', 'Buffalo Park',\n",
       "       'De Beers Diamond Oval', 'Dr DY Patil Sports Academy',\n",
       "       'Dr DY Patil Sports Academy, Mumbai',\n",
       "       'Dr. Y.S. Rajasekhara Reddy ACA-VDCA Cricket Stadium',\n",
       "       'Dubai International Cricket Stadium', 'Eden Gardens',\n",
       "       'Eden Gardens, Kolkata', 'Feroz Shah Kotla', 'Green Park',\n",
       "       'Himachal Pradesh Cricket Association Stadium',\n",
       "       'Holkar Cricket Stadium', 'JSCA International Stadium Complex',\n",
       "       'Kingsmead', 'M Chinnaswamy Stadium', 'M.Chinnaswamy Stadium',\n",
       "       'MA Chidambaram Stadium', 'MA Chidambaram Stadium, Chepauk',\n",
       "       'MA Chidambaram Stadium, Chepauk, Chennai',\n",
       "       'Maharashtra Cricket Association Stadium',\n",
       "       'Maharashtra Cricket Association Stadium, Pune',\n",
       "       'Narendra Modi Stadium, Ahmedabad', 'Nehru Stadium',\n",
       "       'New Wanderers Stadium', 'Newlands', 'OUTsurance Oval',\n",
       "       'Punjab Cricket Association IS Bindra Stadium',\n",
       "       'Punjab Cricket Association IS Bindra Stadium, Mohali',\n",
       "       'Punjab Cricket Association Stadium, Mohali',\n",
       "       'Rajiv Gandhi International Stadium',\n",
       "       'Rajiv Gandhi International Stadium, Uppal',\n",
       "       'Sardar Patel Stadium, Motera',\n",
       "       'Saurashtra Cricket Association Stadium', 'Sawai Mansingh Stadium',\n",
       "       'Shaheed Veer Narayan Singh International Stadium',\n",
       "       'Sharjah Cricket Stadium', 'Sheikh Zayed Stadium',\n",
       "       \"St George's Park\", 'Subrata Roy Sahara Stadium',\n",
       "       'SuperSport Park', 'Vidarbha Cricket Association Stadium, Jamtha',\n",
       "       'Wankhede Stadium', 'Wankhede Stadium, Mumbai',\n",
       "       'Zayed Cricket Stadium, Abu Dhabi'], dtype=object)"
      ]
     },
     "execution_count": 49,
     "metadata": {},
     "output_type": "execute_result"
    }
   ],
   "source": [
    "np.sort(all_df.venue.unique())"
   ]
  },
  {
   "cell_type": "raw",
   "id": "75a524a6",
   "metadata": {},
   "source": [
    "'Arun Jaitley Stadium', 'Arun Jaitley Stadium, Delhi', 'Feroz Shah Kotla'\n",
    "\n",
    "'Brabourne Stadium', 'Brabourne Stadium, Mumbai'\n",
    "\n",
    "'Dr DY Patil Sports Academy', 'Dr DY Patil Sports Academy, Mumbai'\n",
    "       \n",
    "'Eden Gardens', 'Eden Gardens, Kolkata'\n",
    "\n",
    "'M Chinnaswamy Stadium', 'M.Chinnaswamy Stadium'\n",
    "\n",
    "'MA Chidambaram Stadium', 'MA Chidambaram Stadium, Chepauk', 'MA Chidambaram Stadium, Chepauk, Chennai'\n",
    "\n",
    "'Maharashtra Cricket Association Stadium', 'Maharashtra Cricket Association Stadium, Pune'\n",
    "\n",
    "'Narendra Modi Stadium, Ahmedabad', 'Sardar Patel Stadium, Motera'\n",
    "\n",
    "'Punjab Cricket Association IS Bindra Stadium', 'Punjab Cricket Association IS Bindra Stadium, Mohali'\n",
    "\n",
    "'Rajiv Gandhi International Stadium', 'Rajiv Gandhi International Stadium, Uppal'\n",
    "\n",
    "'Wankhede Stadium', 'Wankhede Stadium, Mumbai'"
   ]
  },
  {
   "cell_type": "markdown",
   "id": "50598e4c",
   "metadata": {},
   "source": [
    "# Merging DFs"
   ]
  },
  {
   "cell_type": "code",
   "execution_count": 50,
   "id": "7e6f5ef5",
   "metadata": {},
   "outputs": [],
   "source": [
    "# player_venue_overs_grouped_v2[(player_venue_overs_grouped_v2['striker']=='AB de Villiers') & (player_venue_overs_grouped_v2['season']==2016) & (player_venue_overs_grouped_v2['venue']=='M Chinnaswamy Stadium')]"
   ]
  },
  {
   "cell_type": "code",
   "execution_count": 51,
   "id": "b4c39cf3",
   "metadata": {},
   "outputs": [],
   "source": [
    "# Matches count per player per season per venue\n",
    "\n",
    "matches_by_venue = all_df_no_wides.groupby(['season','venue', 'striker']).agg({'runs_off_bat':'sum', 'Ball':'count', 'match_id':pd.Series.nunique}).reset_index()\n",
    "\n",
    "#Renaming Columns\n",
    "\n",
    "matches_by_venue.rename({'match_id': 'matched_played'}, axis='columns', inplace=True)\n",
    "\n",
    "matches_by_venue_needed_cols = matches_by_venue[['season', 'venue', 'striker', 'matched_played']]"
   ]
  },
  {
   "cell_type": "code",
   "execution_count": 52,
   "id": "52e1e239",
   "metadata": {},
   "outputs": [],
   "source": [
    "# matches_by_venue[(matches_by_venue['striker']=='AB de Villiers') & (matches_by_venue['season']==2016) & (matches_by_venue['venue']=='M Chinnaswamy Stadium')]"
   ]
  },
  {
   "cell_type": "code",
   "execution_count": 53,
   "id": "aed231e2",
   "metadata": {},
   "outputs": [
    {
     "data": {
      "text/html": [
       "<div>\n",
       "<style scoped>\n",
       "    .dataframe tbody tr th:only-of-type {\n",
       "        vertical-align: middle;\n",
       "    }\n",
       "\n",
       "    .dataframe tbody tr th {\n",
       "        vertical-align: top;\n",
       "    }\n",
       "\n",
       "    .dataframe thead th {\n",
       "        text-align: right;\n",
       "    }\n",
       "</style>\n",
       "<table border=\"1\" class=\"dataframe\">\n",
       "  <thead>\n",
       "    <tr style=\"text-align: right;\">\n",
       "      <th></th>\n",
       "      <th>season</th>\n",
       "      <th>venue</th>\n",
       "      <th>striker</th>\n",
       "      <th>matched_played</th>\n",
       "    </tr>\n",
       "  </thead>\n",
       "  <tbody>\n",
       "    <tr>\n",
       "      <th>0</th>\n",
       "      <td>2008</td>\n",
       "      <td>Dr DY Patil Sports Academy</td>\n",
       "      <td>AB de Villiers</td>\n",
       "      <td>1</td>\n",
       "    </tr>\n",
       "    <tr>\n",
       "      <th>1</th>\n",
       "      <td>2008</td>\n",
       "      <td>Dr DY Patil Sports Academy</td>\n",
       "      <td>AC Gilchrist</td>\n",
       "      <td>1</td>\n",
       "    </tr>\n",
       "    <tr>\n",
       "      <th>2</th>\n",
       "      <td>2008</td>\n",
       "      <td>Dr DY Patil Sports Academy</td>\n",
       "      <td>AM Nayar</td>\n",
       "      <td>3</td>\n",
       "    </tr>\n",
       "    <tr>\n",
       "      <th>3</th>\n",
       "      <td>2008</td>\n",
       "      <td>Dr DY Patil Sports Academy</td>\n",
       "      <td>AM Rahane</td>\n",
       "      <td>1</td>\n",
       "    </tr>\n",
       "    <tr>\n",
       "      <th>4</th>\n",
       "      <td>2008</td>\n",
       "      <td>Dr DY Patil Sports Academy</td>\n",
       "      <td>CK Kapugedera</td>\n",
       "      <td>1</td>\n",
       "    </tr>\n",
       "  </tbody>\n",
       "</table>\n",
       "</div>"
      ],
      "text/plain": [
       "   season                       venue         striker  matched_played\n",
       "0    2008  Dr DY Patil Sports Academy  AB de Villiers               1\n",
       "1    2008  Dr DY Patil Sports Academy    AC Gilchrist               1\n",
       "2    2008  Dr DY Patil Sports Academy        AM Nayar               3\n",
       "3    2008  Dr DY Patil Sports Academy       AM Rahane               1\n",
       "4    2008  Dr DY Patil Sports Academy   CK Kapugedera               1"
      ]
     },
     "execution_count": 53,
     "metadata": {},
     "output_type": "execute_result"
    }
   ],
   "source": [
    "matches_by_venue_needed_cols.head()"
   ]
  },
  {
   "cell_type": "code",
   "execution_count": 54,
   "id": "e8560568",
   "metadata": {},
   "outputs": [],
   "source": [
    "venue_overs_by_year_labelled_v2.rename({'runs_off_bat':'runs_off_bat_venue', 'ball':'ball_venue'}, axis='columns', inplace=True)"
   ]
  },
  {
   "cell_type": "code",
   "execution_count": 55,
   "id": "244efb1a",
   "metadata": {},
   "outputs": [
    {
     "data": {
      "text/html": [
       "<div>\n",
       "<style scoped>\n",
       "    .dataframe tbody tr th:only-of-type {\n",
       "        vertical-align: middle;\n",
       "    }\n",
       "\n",
       "    .dataframe tbody tr th {\n",
       "        vertical-align: top;\n",
       "    }\n",
       "\n",
       "    .dataframe thead th {\n",
       "        text-align: right;\n",
       "    }\n",
       "</style>\n",
       "<table border=\"1\" class=\"dataframe\">\n",
       "  <thead>\n",
       "    <tr style=\"text-align: right;\">\n",
       "      <th></th>\n",
       "      <th>season</th>\n",
       "      <th>venue</th>\n",
       "      <th>Over_type</th>\n",
       "      <th>runs_off_bat_venue</th>\n",
       "      <th>ball_venue</th>\n",
       "    </tr>\n",
       "  </thead>\n",
       "  <tbody>\n",
       "    <tr>\n",
       "      <th>0</th>\n",
       "      <td>2008</td>\n",
       "      <td>Dr DY Patil Sports Academy</td>\n",
       "      <td>death overs</td>\n",
       "      <td>206</td>\n",
       "      <td>155</td>\n",
       "    </tr>\n",
       "    <tr>\n",
       "      <th>1</th>\n",
       "      <td>2008</td>\n",
       "      <td>Dr DY Patil Sports Academy</td>\n",
       "      <td>middle overs</td>\n",
       "      <td>538</td>\n",
       "      <td>418</td>\n",
       "    </tr>\n",
       "    <tr>\n",
       "      <th>2</th>\n",
       "      <td>2008</td>\n",
       "      <td>Dr DY Patil Sports Academy</td>\n",
       "      <td>powerplay</td>\n",
       "      <td>320</td>\n",
       "      <td>289</td>\n",
       "    </tr>\n",
       "    <tr>\n",
       "      <th>3</th>\n",
       "      <td>2008</td>\n",
       "      <td>Eden Gardens</td>\n",
       "      <td>death overs</td>\n",
       "      <td>416</td>\n",
       "      <td>285</td>\n",
       "    </tr>\n",
       "    <tr>\n",
       "      <th>4</th>\n",
       "      <td>2008</td>\n",
       "      <td>Eden Gardens</td>\n",
       "      <td>middle overs</td>\n",
       "      <td>785</td>\n",
       "      <td>718</td>\n",
       "    </tr>\n",
       "    <tr>\n",
       "      <th>...</th>\n",
       "      <td>...</td>\n",
       "      <td>...</td>\n",
       "      <td>...</td>\n",
       "      <td>...</td>\n",
       "      <td>...</td>\n",
       "    </tr>\n",
       "    <tr>\n",
       "      <th>445</th>\n",
       "      <td>2022</td>\n",
       "      <td>Narendra Modi Stadium, Ahmedabad</td>\n",
       "      <td>middle overs</td>\n",
       "      <td>245</td>\n",
       "      <td>216</td>\n",
       "    </tr>\n",
       "    <tr>\n",
       "      <th>446</th>\n",
       "      <td>2022</td>\n",
       "      <td>Narendra Modi Stadium, Ahmedabad</td>\n",
       "      <td>powerplay</td>\n",
       "      <td>172</td>\n",
       "      <td>144</td>\n",
       "    </tr>\n",
       "    <tr>\n",
       "      <th>447</th>\n",
       "      <td>2022</td>\n",
       "      <td>Wankhede Stadium, Mumbai</td>\n",
       "      <td>death overs</td>\n",
       "      <td>1911</td>\n",
       "      <td>1097</td>\n",
       "    </tr>\n",
       "    <tr>\n",
       "      <th>448</th>\n",
       "      <td>2022</td>\n",
       "      <td>Wankhede Stadium, Mumbai</td>\n",
       "      <td>middle overs</td>\n",
       "      <td>2822</td>\n",
       "      <td>2272</td>\n",
       "    </tr>\n",
       "    <tr>\n",
       "      <th>449</th>\n",
       "      <td>2022</td>\n",
       "      <td>Wankhede Stadium, Mumbai</td>\n",
       "      <td>powerplay</td>\n",
       "      <td>1765</td>\n",
       "      <td>1515</td>\n",
       "    </tr>\n",
       "  </tbody>\n",
       "</table>\n",
       "<p>450 rows × 5 columns</p>\n",
       "</div>"
      ],
      "text/plain": [
       "     season                             venue     Over_type  \\\n",
       "0      2008        Dr DY Patil Sports Academy   death overs   \n",
       "1      2008        Dr DY Patil Sports Academy  middle overs   \n",
       "2      2008        Dr DY Patil Sports Academy     powerplay   \n",
       "3      2008                      Eden Gardens   death overs   \n",
       "4      2008                      Eden Gardens  middle overs   \n",
       "..      ...                               ...           ...   \n",
       "445    2022  Narendra Modi Stadium, Ahmedabad  middle overs   \n",
       "446    2022  Narendra Modi Stadium, Ahmedabad     powerplay   \n",
       "447    2022          Wankhede Stadium, Mumbai   death overs   \n",
       "448    2022          Wankhede Stadium, Mumbai  middle overs   \n",
       "449    2022          Wankhede Stadium, Mumbai     powerplay   \n",
       "\n",
       "     runs_off_bat_venue  ball_venue  \n",
       "0                   206         155  \n",
       "1                   538         418  \n",
       "2                   320         289  \n",
       "3                   416         285  \n",
       "4                   785         718  \n",
       "..                  ...         ...  \n",
       "445                 245         216  \n",
       "446                 172         144  \n",
       "447                1911        1097  \n",
       "448                2822        2272  \n",
       "449                1765        1515  \n",
       "\n",
       "[450 rows x 5 columns]"
      ]
     },
     "execution_count": 55,
     "metadata": {},
     "output_type": "execute_result"
    }
   ],
   "source": [
    "venue_overs_by_year_labelled_v2"
   ]
  },
  {
   "cell_type": "code",
   "execution_count": 56,
   "id": "bc2a3e9b",
   "metadata": {},
   "outputs": [],
   "source": [
    "# # Merging venue df (labelled by overs phase) and players df\n",
    "\n",
    "player_venue_by_season_merged = pd.merge(player_venue_overs_grouped_v2, venue_overs_by_year_labelled_v2, on=['season', 'venue', 'Over_type'], how='inner')"
   ]
  },
  {
   "cell_type": "code",
   "execution_count": 57,
   "id": "f298685e",
   "metadata": {},
   "outputs": [
    {
     "data": {
      "text/html": [
       "<div>\n",
       "<style scoped>\n",
       "    .dataframe tbody tr th:only-of-type {\n",
       "        vertical-align: middle;\n",
       "    }\n",
       "\n",
       "    .dataframe tbody tr th {\n",
       "        vertical-align: top;\n",
       "    }\n",
       "\n",
       "    .dataframe thead th {\n",
       "        text-align: right;\n",
       "    }\n",
       "</style>\n",
       "<table border=\"1\" class=\"dataframe\">\n",
       "  <thead>\n",
       "    <tr style=\"text-align: right;\">\n",
       "      <th></th>\n",
       "      <th>season</th>\n",
       "      <th>venue</th>\n",
       "      <th>striker</th>\n",
       "      <th>Over_type</th>\n",
       "      <th>runs_off_bat</th>\n",
       "      <th>ball</th>\n",
       "      <th>runs_off_bat_venue</th>\n",
       "      <th>ball_venue</th>\n",
       "    </tr>\n",
       "  </thead>\n",
       "  <tbody>\n",
       "    <tr>\n",
       "      <th>0</th>\n",
       "      <td>2008</td>\n",
       "      <td>Dr DY Patil Sports Academy</td>\n",
       "      <td>AB de Villiers</td>\n",
       "      <td>powerplay</td>\n",
       "      <td>21</td>\n",
       "      <td>17</td>\n",
       "      <td>320</td>\n",
       "      <td>289</td>\n",
       "    </tr>\n",
       "    <tr>\n",
       "      <th>1</th>\n",
       "      <td>2008</td>\n",
       "      <td>Dr DY Patil Sports Academy</td>\n",
       "      <td>AC Gilchrist</td>\n",
       "      <td>powerplay</td>\n",
       "      <td>47</td>\n",
       "      <td>26</td>\n",
       "      <td>320</td>\n",
       "      <td>289</td>\n",
       "    </tr>\n",
       "    <tr>\n",
       "      <th>2</th>\n",
       "      <td>2008</td>\n",
       "      <td>Dr DY Patil Sports Academy</td>\n",
       "      <td>AM Rahane</td>\n",
       "      <td>powerplay</td>\n",
       "      <td>0</td>\n",
       "      <td>7</td>\n",
       "      <td>320</td>\n",
       "      <td>289</td>\n",
       "    </tr>\n",
       "    <tr>\n",
       "      <th>3</th>\n",
       "      <td>2008</td>\n",
       "      <td>Dr DY Patil Sports Academy</td>\n",
       "      <td>G Gambhir</td>\n",
       "      <td>powerplay</td>\n",
       "      <td>1</td>\n",
       "      <td>9</td>\n",
       "      <td>320</td>\n",
       "      <td>289</td>\n",
       "    </tr>\n",
       "    <tr>\n",
       "      <th>4</th>\n",
       "      <td>2008</td>\n",
       "      <td>Dr DY Patil Sports Academy</td>\n",
       "      <td>GC Smith</td>\n",
       "      <td>powerplay</td>\n",
       "      <td>5</td>\n",
       "      <td>9</td>\n",
       "      <td>320</td>\n",
       "      <td>289</td>\n",
       "    </tr>\n",
       "  </tbody>\n",
       "</table>\n",
       "</div>"
      ],
      "text/plain": [
       "   season                       venue         striker  Over_type  \\\n",
       "0    2008  Dr DY Patil Sports Academy  AB de Villiers  powerplay   \n",
       "1    2008  Dr DY Patil Sports Academy    AC Gilchrist  powerplay   \n",
       "2    2008  Dr DY Patil Sports Academy       AM Rahane  powerplay   \n",
       "3    2008  Dr DY Patil Sports Academy       G Gambhir  powerplay   \n",
       "4    2008  Dr DY Patil Sports Academy        GC Smith  powerplay   \n",
       "\n",
       "   runs_off_bat  ball  runs_off_bat_venue  ball_venue  \n",
       "0            21    17                 320         289  \n",
       "1            47    26                 320         289  \n",
       "2             0     7                 320         289  \n",
       "3             1     9                 320         289  \n",
       "4             5     9                 320         289  "
      ]
     },
     "execution_count": 57,
     "metadata": {},
     "output_type": "execute_result"
    }
   ],
   "source": [
    "player_venue_by_season_merged.head()"
   ]
  },
  {
   "cell_type": "code",
   "execution_count": 58,
   "id": "9c267b1d",
   "metadata": {},
   "outputs": [
    {
     "data": {
      "text/plain": [
       "(14396, 8)"
      ]
     },
     "execution_count": 58,
     "metadata": {},
     "output_type": "execute_result"
    }
   ],
   "source": [
    "player_venue_by_season_merged.shape"
   ]
  },
  {
   "cell_type": "code",
   "execution_count": 59,
   "id": "2641ef89",
   "metadata": {},
   "outputs": [],
   "source": [
    "# Merging with DF that has matches played by each player in each venue in each season\n",
    "\n",
    "player_venue_by_season_merged_v2 = pd.merge(player_venue_by_season_merged, matches_by_venue_needed_cols, on=['season', 'venue', 'striker'], how='inner')"
   ]
  },
  {
   "cell_type": "code",
   "execution_count": 60,
   "id": "284bbbc4",
   "metadata": {},
   "outputs": [
    {
     "data": {
      "text/plain": [
       "(14396, 9)"
      ]
     },
     "execution_count": 60,
     "metadata": {},
     "output_type": "execute_result"
    }
   ],
   "source": [
    "player_venue_by_season_merged_v2.shape"
   ]
  },
  {
   "cell_type": "code",
   "execution_count": 61,
   "id": "90a09858",
   "metadata": {},
   "outputs": [
    {
     "data": {
      "text/html": [
       "<div>\n",
       "<style scoped>\n",
       "    .dataframe tbody tr th:only-of-type {\n",
       "        vertical-align: middle;\n",
       "    }\n",
       "\n",
       "    .dataframe tbody tr th {\n",
       "        vertical-align: top;\n",
       "    }\n",
       "\n",
       "    .dataframe thead th {\n",
       "        text-align: right;\n",
       "    }\n",
       "</style>\n",
       "<table border=\"1\" class=\"dataframe\">\n",
       "  <thead>\n",
       "    <tr style=\"text-align: right;\">\n",
       "      <th></th>\n",
       "      <th>season</th>\n",
       "      <th>venue</th>\n",
       "      <th>striker</th>\n",
       "      <th>Over_type</th>\n",
       "      <th>runs_off_bat</th>\n",
       "      <th>ball</th>\n",
       "      <th>runs_off_bat_venue</th>\n",
       "      <th>ball_venue</th>\n",
       "      <th>matched_played</th>\n",
       "    </tr>\n",
       "  </thead>\n",
       "  <tbody>\n",
       "    <tr>\n",
       "      <th>0</th>\n",
       "      <td>2008</td>\n",
       "      <td>Dr DY Patil Sports Academy</td>\n",
       "      <td>AB de Villiers</td>\n",
       "      <td>powerplay</td>\n",
       "      <td>21</td>\n",
       "      <td>17</td>\n",
       "      <td>320</td>\n",
       "      <td>289</td>\n",
       "      <td>1</td>\n",
       "    </tr>\n",
       "    <tr>\n",
       "      <th>1</th>\n",
       "      <td>2008</td>\n",
       "      <td>Dr DY Patil Sports Academy</td>\n",
       "      <td>AC Gilchrist</td>\n",
       "      <td>powerplay</td>\n",
       "      <td>47</td>\n",
       "      <td>26</td>\n",
       "      <td>320</td>\n",
       "      <td>289</td>\n",
       "      <td>1</td>\n",
       "    </tr>\n",
       "    <tr>\n",
       "      <th>2</th>\n",
       "      <td>2008</td>\n",
       "      <td>Dr DY Patil Sports Academy</td>\n",
       "      <td>AC Gilchrist</td>\n",
       "      <td>middle overs</td>\n",
       "      <td>62</td>\n",
       "      <td>21</td>\n",
       "      <td>538</td>\n",
       "      <td>418</td>\n",
       "      <td>1</td>\n",
       "    </tr>\n",
       "    <tr>\n",
       "      <th>3</th>\n",
       "      <td>2008</td>\n",
       "      <td>Dr DY Patil Sports Academy</td>\n",
       "      <td>AM Rahane</td>\n",
       "      <td>powerplay</td>\n",
       "      <td>0</td>\n",
       "      <td>7</td>\n",
       "      <td>320</td>\n",
       "      <td>289</td>\n",
       "      <td>1</td>\n",
       "    </tr>\n",
       "    <tr>\n",
       "      <th>4</th>\n",
       "      <td>2008</td>\n",
       "      <td>Dr DY Patil Sports Academy</td>\n",
       "      <td>G Gambhir</td>\n",
       "      <td>powerplay</td>\n",
       "      <td>1</td>\n",
       "      <td>9</td>\n",
       "      <td>320</td>\n",
       "      <td>289</td>\n",
       "      <td>1</td>\n",
       "    </tr>\n",
       "  </tbody>\n",
       "</table>\n",
       "</div>"
      ],
      "text/plain": [
       "   season                       venue         striker     Over_type  \\\n",
       "0    2008  Dr DY Patil Sports Academy  AB de Villiers     powerplay   \n",
       "1    2008  Dr DY Patil Sports Academy    AC Gilchrist     powerplay   \n",
       "2    2008  Dr DY Patil Sports Academy    AC Gilchrist  middle overs   \n",
       "3    2008  Dr DY Patil Sports Academy       AM Rahane     powerplay   \n",
       "4    2008  Dr DY Patil Sports Academy       G Gambhir     powerplay   \n",
       "\n",
       "   runs_off_bat  ball  runs_off_bat_venue  ball_venue  matched_played  \n",
       "0            21    17                 320         289               1  \n",
       "1            47    26                 320         289               1  \n",
       "2            62    21                 538         418               1  \n",
       "3             0     7                 320         289               1  \n",
       "4             1     9                 320         289               1  "
      ]
     },
     "execution_count": 61,
     "metadata": {},
     "output_type": "execute_result"
    }
   ],
   "source": [
    "player_venue_by_season_merged_v2.head()"
   ]
  },
  {
   "cell_type": "code",
   "execution_count": 62,
   "id": "d23dc6a6",
   "metadata": {},
   "outputs": [],
   "source": [
    "# Computing RpO for both players and Venues\n",
    "\n",
    "player_venue_by_season_merged_v2['Venue_RpO'] = (player_venue_by_season_merged_v2['runs_off_bat_venue']/player_venue_by_season_merged_v2['ball_venue']) * 6\n",
    "\n",
    "player_venue_by_season_merged_v2['Player_RpO'] = (player_venue_by_season_merged_v2['runs_off_bat']/player_venue_by_season_merged_v2['ball']) * 6"
   ]
  },
  {
   "cell_type": "code",
   "execution_count": 63,
   "id": "404a16b5",
   "metadata": {},
   "outputs": [
    {
     "data": {
      "text/html": [
       "<div>\n",
       "<style scoped>\n",
       "    .dataframe tbody tr th:only-of-type {\n",
       "        vertical-align: middle;\n",
       "    }\n",
       "\n",
       "    .dataframe tbody tr th {\n",
       "        vertical-align: top;\n",
       "    }\n",
       "\n",
       "    .dataframe thead th {\n",
       "        text-align: right;\n",
       "    }\n",
       "</style>\n",
       "<table border=\"1\" class=\"dataframe\">\n",
       "  <thead>\n",
       "    <tr style=\"text-align: right;\">\n",
       "      <th></th>\n",
       "      <th>season</th>\n",
       "      <th>venue</th>\n",
       "      <th>striker</th>\n",
       "      <th>Over_type</th>\n",
       "      <th>runs_off_bat</th>\n",
       "      <th>ball</th>\n",
       "      <th>runs_off_bat_venue</th>\n",
       "      <th>ball_venue</th>\n",
       "      <th>matched_played</th>\n",
       "      <th>Venue_RpO</th>\n",
       "      <th>Player_RpO</th>\n",
       "    </tr>\n",
       "  </thead>\n",
       "  <tbody>\n",
       "    <tr>\n",
       "      <th>0</th>\n",
       "      <td>2008</td>\n",
       "      <td>Dr DY Patil Sports Academy</td>\n",
       "      <td>AB de Villiers</td>\n",
       "      <td>powerplay</td>\n",
       "      <td>21</td>\n",
       "      <td>17</td>\n",
       "      <td>320</td>\n",
       "      <td>289</td>\n",
       "      <td>1</td>\n",
       "      <td>6.643599</td>\n",
       "      <td>7.411765</td>\n",
       "    </tr>\n",
       "    <tr>\n",
       "      <th>1</th>\n",
       "      <td>2008</td>\n",
       "      <td>Dr DY Patil Sports Academy</td>\n",
       "      <td>AC Gilchrist</td>\n",
       "      <td>powerplay</td>\n",
       "      <td>47</td>\n",
       "      <td>26</td>\n",
       "      <td>320</td>\n",
       "      <td>289</td>\n",
       "      <td>1</td>\n",
       "      <td>6.643599</td>\n",
       "      <td>10.846154</td>\n",
       "    </tr>\n",
       "    <tr>\n",
       "      <th>2</th>\n",
       "      <td>2008</td>\n",
       "      <td>Dr DY Patil Sports Academy</td>\n",
       "      <td>AC Gilchrist</td>\n",
       "      <td>middle overs</td>\n",
       "      <td>62</td>\n",
       "      <td>21</td>\n",
       "      <td>538</td>\n",
       "      <td>418</td>\n",
       "      <td>1</td>\n",
       "      <td>7.722488</td>\n",
       "      <td>17.714286</td>\n",
       "    </tr>\n",
       "    <tr>\n",
       "      <th>3</th>\n",
       "      <td>2008</td>\n",
       "      <td>Dr DY Patil Sports Academy</td>\n",
       "      <td>AM Rahane</td>\n",
       "      <td>powerplay</td>\n",
       "      <td>0</td>\n",
       "      <td>7</td>\n",
       "      <td>320</td>\n",
       "      <td>289</td>\n",
       "      <td>1</td>\n",
       "      <td>6.643599</td>\n",
       "      <td>0.000000</td>\n",
       "    </tr>\n",
       "    <tr>\n",
       "      <th>4</th>\n",
       "      <td>2008</td>\n",
       "      <td>Dr DY Patil Sports Academy</td>\n",
       "      <td>G Gambhir</td>\n",
       "      <td>powerplay</td>\n",
       "      <td>1</td>\n",
       "      <td>9</td>\n",
       "      <td>320</td>\n",
       "      <td>289</td>\n",
       "      <td>1</td>\n",
       "      <td>6.643599</td>\n",
       "      <td>0.666667</td>\n",
       "    </tr>\n",
       "  </tbody>\n",
       "</table>\n",
       "</div>"
      ],
      "text/plain": [
       "   season                       venue         striker     Over_type  \\\n",
       "0    2008  Dr DY Patil Sports Academy  AB de Villiers     powerplay   \n",
       "1    2008  Dr DY Patil Sports Academy    AC Gilchrist     powerplay   \n",
       "2    2008  Dr DY Patil Sports Academy    AC Gilchrist  middle overs   \n",
       "3    2008  Dr DY Patil Sports Academy       AM Rahane     powerplay   \n",
       "4    2008  Dr DY Patil Sports Academy       G Gambhir     powerplay   \n",
       "\n",
       "   runs_off_bat  ball  runs_off_bat_venue  ball_venue  matched_played  \\\n",
       "0            21    17                 320         289               1   \n",
       "1            47    26                 320         289               1   \n",
       "2            62    21                 538         418               1   \n",
       "3             0     7                 320         289               1   \n",
       "4             1     9                 320         289               1   \n",
       "\n",
       "   Venue_RpO  Player_RpO  \n",
       "0   6.643599    7.411765  \n",
       "1   6.643599   10.846154  \n",
       "2   7.722488   17.714286  \n",
       "3   6.643599    0.000000  \n",
       "4   6.643599    0.666667  "
      ]
     },
     "execution_count": 63,
     "metadata": {},
     "output_type": "execute_result"
    }
   ],
   "source": [
    "player_venue_by_season_merged_v2.head()"
   ]
  },
  {
   "cell_type": "code",
   "execution_count": 64,
   "id": "d2c5e241",
   "metadata": {},
   "outputs": [],
   "source": [
    "# Getting total matches played by a player in each season\n",
    "\n",
    "matches_per_season = all_df_no_wides.groupby(['season', 'venue', 'striker']).agg({'runs_off_bat':'sum', 'match_id':pd.Series.nunique}).reset_index().groupby(['season', 'striker']).agg({'match_id':'sum'}).reset_index()\n",
    "\n",
    "matches_per_season.rename({'match_id': 'total_matches_played_season'}, axis='columns', inplace=True)"
   ]
  },
  {
   "cell_type": "code",
   "execution_count": 65,
   "id": "537b3133",
   "metadata": {},
   "outputs": [
    {
     "data": {
      "text/html": [
       "<div>\n",
       "<style scoped>\n",
       "    .dataframe tbody tr th:only-of-type {\n",
       "        vertical-align: middle;\n",
       "    }\n",
       "\n",
       "    .dataframe tbody tr th {\n",
       "        vertical-align: top;\n",
       "    }\n",
       "\n",
       "    .dataframe thead th {\n",
       "        text-align: right;\n",
       "    }\n",
       "</style>\n",
       "<table border=\"1\" class=\"dataframe\">\n",
       "  <thead>\n",
       "    <tr style=\"text-align: right;\">\n",
       "      <th></th>\n",
       "      <th>season</th>\n",
       "      <th>striker</th>\n",
       "      <th>total_matches_played_season</th>\n",
       "    </tr>\n",
       "  </thead>\n",
       "  <tbody>\n",
       "    <tr>\n",
       "      <th>0</th>\n",
       "      <td>2008</td>\n",
       "      <td>A Chopra</td>\n",
       "      <td>5</td>\n",
       "    </tr>\n",
       "    <tr>\n",
       "      <th>1</th>\n",
       "      <td>2008</td>\n",
       "      <td>A Kumble</td>\n",
       "      <td>4</td>\n",
       "    </tr>\n",
       "    <tr>\n",
       "      <th>2</th>\n",
       "      <td>2008</td>\n",
       "      <td>A Mishra</td>\n",
       "      <td>3</td>\n",
       "    </tr>\n",
       "    <tr>\n",
       "      <th>3</th>\n",
       "      <td>2008</td>\n",
       "      <td>A Mukund</td>\n",
       "      <td>1</td>\n",
       "    </tr>\n",
       "    <tr>\n",
       "      <th>4</th>\n",
       "      <td>2008</td>\n",
       "      <td>A Nehra</td>\n",
       "      <td>3</td>\n",
       "    </tr>\n",
       "  </tbody>\n",
       "</table>\n",
       "</div>"
      ],
      "text/plain": [
       "   season   striker  total_matches_played_season\n",
       "0    2008  A Chopra                            5\n",
       "1    2008  A Kumble                            4\n",
       "2    2008  A Mishra                            3\n",
       "3    2008  A Mukund                            1\n",
       "4    2008   A Nehra                            3"
      ]
     },
     "execution_count": 65,
     "metadata": {},
     "output_type": "execute_result"
    }
   ],
   "source": [
    "matches_per_season.head()"
   ]
  },
  {
   "cell_type": "code",
   "execution_count": 66,
   "id": "ffba6aad",
   "metadata": {},
   "outputs": [],
   "source": [
    "player_venue_by_season_merged_v3 = pd.merge(player_venue_by_season_merged_v2, matches_per_season, on=['season','striker'], how='left')"
   ]
  },
  {
   "cell_type": "code",
   "execution_count": 67,
   "id": "f1d0a02a",
   "metadata": {},
   "outputs": [
    {
     "data": {
      "text/html": [
       "<div>\n",
       "<style scoped>\n",
       "    .dataframe tbody tr th:only-of-type {\n",
       "        vertical-align: middle;\n",
       "    }\n",
       "\n",
       "    .dataframe tbody tr th {\n",
       "        vertical-align: top;\n",
       "    }\n",
       "\n",
       "    .dataframe thead th {\n",
       "        text-align: right;\n",
       "    }\n",
       "</style>\n",
       "<table border=\"1\" class=\"dataframe\">\n",
       "  <thead>\n",
       "    <tr style=\"text-align: right;\">\n",
       "      <th></th>\n",
       "      <th>season</th>\n",
       "      <th>venue</th>\n",
       "      <th>striker</th>\n",
       "      <th>Over_type</th>\n",
       "      <th>runs_off_bat</th>\n",
       "      <th>ball</th>\n",
       "      <th>runs_off_bat_venue</th>\n",
       "      <th>ball_venue</th>\n",
       "      <th>matched_played</th>\n",
       "      <th>Venue_RpO</th>\n",
       "      <th>Player_RpO</th>\n",
       "      <th>total_matches_played_season</th>\n",
       "    </tr>\n",
       "  </thead>\n",
       "  <tbody>\n",
       "    <tr>\n",
       "      <th>0</th>\n",
       "      <td>2008</td>\n",
       "      <td>Dr DY Patil Sports Academy</td>\n",
       "      <td>AB de Villiers</td>\n",
       "      <td>powerplay</td>\n",
       "      <td>21</td>\n",
       "      <td>17</td>\n",
       "      <td>320</td>\n",
       "      <td>289</td>\n",
       "      <td>1</td>\n",
       "      <td>6.643599</td>\n",
       "      <td>7.411765</td>\n",
       "      <td>6</td>\n",
       "    </tr>\n",
       "    <tr>\n",
       "      <th>1</th>\n",
       "      <td>2008</td>\n",
       "      <td>Dr DY Patil Sports Academy</td>\n",
       "      <td>AC Gilchrist</td>\n",
       "      <td>powerplay</td>\n",
       "      <td>47</td>\n",
       "      <td>26</td>\n",
       "      <td>320</td>\n",
       "      <td>289</td>\n",
       "      <td>1</td>\n",
       "      <td>6.643599</td>\n",
       "      <td>10.846154</td>\n",
       "      <td>14</td>\n",
       "    </tr>\n",
       "  </tbody>\n",
       "</table>\n",
       "</div>"
      ],
      "text/plain": [
       "   season                       venue         striker  Over_type  \\\n",
       "0    2008  Dr DY Patil Sports Academy  AB de Villiers  powerplay   \n",
       "1    2008  Dr DY Patil Sports Academy    AC Gilchrist  powerplay   \n",
       "\n",
       "   runs_off_bat  ball  runs_off_bat_venue  ball_venue  matched_played  \\\n",
       "0            21    17                 320         289               1   \n",
       "1            47    26                 320         289               1   \n",
       "\n",
       "   Venue_RpO  Player_RpO  total_matches_played_season  \n",
       "0   6.643599    7.411765                            6  \n",
       "1   6.643599   10.846154                           14  "
      ]
     },
     "execution_count": 67,
     "metadata": {},
     "output_type": "execute_result"
    }
   ],
   "source": [
    "player_venue_by_season_merged_v3.head(2)"
   ]
  },
  {
   "cell_type": "code",
   "execution_count": 68,
   "id": "67af3865",
   "metadata": {},
   "outputs": [],
   "source": [
    "# Renaming columns\n",
    "\n",
    "player_venue_by_season_merged_v3.rename({'matched_played':'matches_played_venue'}, axis='columns', inplace=True)"
   ]
  },
  {
   "cell_type": "code",
   "execution_count": 69,
   "id": "dc76fc4c",
   "metadata": {},
   "outputs": [
    {
     "data": {
      "text/html": [
       "<div>\n",
       "<style scoped>\n",
       "    .dataframe tbody tr th:only-of-type {\n",
       "        vertical-align: middle;\n",
       "    }\n",
       "\n",
       "    .dataframe tbody tr th {\n",
       "        vertical-align: top;\n",
       "    }\n",
       "\n",
       "    .dataframe thead th {\n",
       "        text-align: right;\n",
       "    }\n",
       "</style>\n",
       "<table border=\"1\" class=\"dataframe\">\n",
       "  <thead>\n",
       "    <tr style=\"text-align: right;\">\n",
       "      <th></th>\n",
       "      <th>season</th>\n",
       "      <th>venue</th>\n",
       "      <th>striker</th>\n",
       "      <th>Over_type</th>\n",
       "      <th>runs_off_bat</th>\n",
       "      <th>ball</th>\n",
       "      <th>runs_off_bat_venue</th>\n",
       "      <th>ball_venue</th>\n",
       "      <th>matches_played_venue</th>\n",
       "      <th>Venue_RpO</th>\n",
       "      <th>Player_RpO</th>\n",
       "      <th>total_matches_played_season</th>\n",
       "    </tr>\n",
       "  </thead>\n",
       "  <tbody>\n",
       "    <tr>\n",
       "      <th>0</th>\n",
       "      <td>2008</td>\n",
       "      <td>Dr DY Patil Sports Academy</td>\n",
       "      <td>AB de Villiers</td>\n",
       "      <td>powerplay</td>\n",
       "      <td>21</td>\n",
       "      <td>17</td>\n",
       "      <td>320</td>\n",
       "      <td>289</td>\n",
       "      <td>1</td>\n",
       "      <td>6.643599</td>\n",
       "      <td>7.411765</td>\n",
       "      <td>6</td>\n",
       "    </tr>\n",
       "    <tr>\n",
       "      <th>1</th>\n",
       "      <td>2008</td>\n",
       "      <td>Dr DY Patil Sports Academy</td>\n",
       "      <td>AC Gilchrist</td>\n",
       "      <td>powerplay</td>\n",
       "      <td>47</td>\n",
       "      <td>26</td>\n",
       "      <td>320</td>\n",
       "      <td>289</td>\n",
       "      <td>1</td>\n",
       "      <td>6.643599</td>\n",
       "      <td>10.846154</td>\n",
       "      <td>14</td>\n",
       "    </tr>\n",
       "  </tbody>\n",
       "</table>\n",
       "</div>"
      ],
      "text/plain": [
       "   season                       venue         striker  Over_type  \\\n",
       "0    2008  Dr DY Patil Sports Academy  AB de Villiers  powerplay   \n",
       "1    2008  Dr DY Patil Sports Academy    AC Gilchrist  powerplay   \n",
       "\n",
       "   runs_off_bat  ball  runs_off_bat_venue  ball_venue  matches_played_venue  \\\n",
       "0            21    17                 320         289                     1   \n",
       "1            47    26                 320         289                     1   \n",
       "\n",
       "   Venue_RpO  Player_RpO  total_matches_played_season  \n",
       "0   6.643599    7.411765                            6  \n",
       "1   6.643599   10.846154                           14  "
      ]
     },
     "execution_count": 69,
     "metadata": {},
     "output_type": "execute_result"
    }
   ],
   "source": [
    "player_venue_by_season_merged_v3.head(2)"
   ]
  },
  {
   "cell_type": "code",
   "execution_count": 70,
   "id": "c3fe3e32",
   "metadata": {},
   "outputs": [
    {
     "data": {
      "text/plain": [
       "(14396, 12)"
      ]
     },
     "execution_count": 70,
     "metadata": {},
     "output_type": "execute_result"
    }
   ],
   "source": [
    "player_venue_by_season_merged_v3.shape"
   ]
  },
  {
   "cell_type": "code",
   "execution_count": 71,
   "id": "337140fb",
   "metadata": {},
   "outputs": [],
   "source": [
    "# Calculating Weighted matches\n",
    "\n",
    "player_venue_by_season_merged_v3['Weighted Matches'] = round(player_venue_by_season_merged_v3['matches_played_venue']/player_venue_by_season_merged_v3['total_matches_played_season'], 4)\n",
    "\n",
    "# Calculating RpO difference\n",
    "\n",
    "player_venue_by_season_merged_v3['Run Diff.'] = round(player_venue_by_season_merged_v3['Player_RpO'] - player_venue_by_season_merged_v3['Venue_RpO'], 4)\n",
    "\n",
    "# Calculating Weighted RpO\n",
    "\n",
    "player_venue_by_season_merged_v3['Weighted RpO'] = round(player_venue_by_season_merged_v3['Run Diff.']*player_venue_by_season_merged_v3['Weighted Matches'], 4)"
   ]
  },
  {
   "cell_type": "code",
   "execution_count": 72,
   "id": "b8012ee4",
   "metadata": {},
   "outputs": [
    {
     "data": {
      "text/html": [
       "<div>\n",
       "<style scoped>\n",
       "    .dataframe tbody tr th:only-of-type {\n",
       "        vertical-align: middle;\n",
       "    }\n",
       "\n",
       "    .dataframe tbody tr th {\n",
       "        vertical-align: top;\n",
       "    }\n",
       "\n",
       "    .dataframe thead th {\n",
       "        text-align: right;\n",
       "    }\n",
       "</style>\n",
       "<table border=\"1\" class=\"dataframe\">\n",
       "  <thead>\n",
       "    <tr style=\"text-align: right;\">\n",
       "      <th></th>\n",
       "      <th>season</th>\n",
       "      <th>venue</th>\n",
       "      <th>striker</th>\n",
       "      <th>Over_type</th>\n",
       "      <th>runs_off_bat</th>\n",
       "      <th>ball</th>\n",
       "      <th>runs_off_bat_venue</th>\n",
       "      <th>ball_venue</th>\n",
       "      <th>matches_played_venue</th>\n",
       "      <th>Venue_RpO</th>\n",
       "      <th>Player_RpO</th>\n",
       "      <th>total_matches_played_season</th>\n",
       "      <th>Weighted Matches</th>\n",
       "      <th>Run Diff.</th>\n",
       "      <th>Weighted RpO</th>\n",
       "    </tr>\n",
       "  </thead>\n",
       "  <tbody>\n",
       "    <tr>\n",
       "      <th>0</th>\n",
       "      <td>2008</td>\n",
       "      <td>Dr DY Patil Sports Academy</td>\n",
       "      <td>AB de Villiers</td>\n",
       "      <td>powerplay</td>\n",
       "      <td>21</td>\n",
       "      <td>17</td>\n",
       "      <td>320</td>\n",
       "      <td>289</td>\n",
       "      <td>1</td>\n",
       "      <td>6.643599</td>\n",
       "      <td>7.411765</td>\n",
       "      <td>6</td>\n",
       "      <td>0.1667</td>\n",
       "      <td>0.7682</td>\n",
       "      <td>0.1281</td>\n",
       "    </tr>\n",
       "    <tr>\n",
       "      <th>1</th>\n",
       "      <td>2008</td>\n",
       "      <td>Dr DY Patil Sports Academy</td>\n",
       "      <td>AC Gilchrist</td>\n",
       "      <td>powerplay</td>\n",
       "      <td>47</td>\n",
       "      <td>26</td>\n",
       "      <td>320</td>\n",
       "      <td>289</td>\n",
       "      <td>1</td>\n",
       "      <td>6.643599</td>\n",
       "      <td>10.846154</td>\n",
       "      <td>14</td>\n",
       "      <td>0.0714</td>\n",
       "      <td>4.2026</td>\n",
       "      <td>0.3001</td>\n",
       "    </tr>\n",
       "  </tbody>\n",
       "</table>\n",
       "</div>"
      ],
      "text/plain": [
       "   season                       venue         striker  Over_type  \\\n",
       "0    2008  Dr DY Patil Sports Academy  AB de Villiers  powerplay   \n",
       "1    2008  Dr DY Patil Sports Academy    AC Gilchrist  powerplay   \n",
       "\n",
       "   runs_off_bat  ball  runs_off_bat_venue  ball_venue  matches_played_venue  \\\n",
       "0            21    17                 320         289                     1   \n",
       "1            47    26                 320         289                     1   \n",
       "\n",
       "   Venue_RpO  Player_RpO  total_matches_played_season  Weighted Matches  \\\n",
       "0   6.643599    7.411765                            6            0.1667   \n",
       "1   6.643599   10.846154                           14            0.0714   \n",
       "\n",
       "   Run Diff.  Weighted RpO  \n",
       "0     0.7682        0.1281  \n",
       "1     4.2026        0.3001  "
      ]
     },
     "execution_count": 72,
     "metadata": {},
     "output_type": "execute_result"
    }
   ],
   "source": [
    "player_venue_by_season_merged_v3.head(2)"
   ]
  },
  {
   "cell_type": "code",
   "execution_count": 73,
   "id": "37b7af81",
   "metadata": {},
   "outputs": [],
   "source": [
    "player_venue_by_season_merged_v3['Name'] = list(zip(player_venue_by_season_merged_v3.striker, player_venue_by_season_merged_v3.season))"
   ]
  },
  {
   "cell_type": "code",
   "execution_count": 74,
   "id": "67d7bdd3",
   "metadata": {},
   "outputs": [],
   "source": [
    "player_venue_by_season_merged_v3.rename({'striker':'Player'}, axis='columns', inplace=True)"
   ]
  },
  {
   "cell_type": "code",
   "execution_count": 75,
   "id": "4e531270",
   "metadata": {},
   "outputs": [
    {
     "data": {
      "text/html": [
       "<div>\n",
       "<style scoped>\n",
       "    .dataframe tbody tr th:only-of-type {\n",
       "        vertical-align: middle;\n",
       "    }\n",
       "\n",
       "    .dataframe tbody tr th {\n",
       "        vertical-align: top;\n",
       "    }\n",
       "\n",
       "    .dataframe thead th {\n",
       "        text-align: right;\n",
       "    }\n",
       "</style>\n",
       "<table border=\"1\" class=\"dataframe\">\n",
       "  <thead>\n",
       "    <tr style=\"text-align: right;\">\n",
       "      <th></th>\n",
       "      <th>season</th>\n",
       "      <th>venue</th>\n",
       "      <th>Player</th>\n",
       "      <th>Over_type</th>\n",
       "      <th>runs_off_bat</th>\n",
       "      <th>ball</th>\n",
       "      <th>runs_off_bat_venue</th>\n",
       "      <th>ball_venue</th>\n",
       "      <th>matches_played_venue</th>\n",
       "      <th>Venue_RpO</th>\n",
       "      <th>Player_RpO</th>\n",
       "      <th>total_matches_played_season</th>\n",
       "      <th>Weighted Matches</th>\n",
       "      <th>Run Diff.</th>\n",
       "      <th>Weighted RpO</th>\n",
       "      <th>Name</th>\n",
       "    </tr>\n",
       "  </thead>\n",
       "  <tbody>\n",
       "    <tr>\n",
       "      <th>0</th>\n",
       "      <td>2008</td>\n",
       "      <td>Dr DY Patil Sports Academy</td>\n",
       "      <td>AB de Villiers</td>\n",
       "      <td>powerplay</td>\n",
       "      <td>21</td>\n",
       "      <td>17</td>\n",
       "      <td>320</td>\n",
       "      <td>289</td>\n",
       "      <td>1</td>\n",
       "      <td>6.643599</td>\n",
       "      <td>7.411765</td>\n",
       "      <td>6</td>\n",
       "      <td>0.1667</td>\n",
       "      <td>0.7682</td>\n",
       "      <td>0.1281</td>\n",
       "      <td>(AB de Villiers, 2008)</td>\n",
       "    </tr>\n",
       "    <tr>\n",
       "      <th>1</th>\n",
       "      <td>2008</td>\n",
       "      <td>Dr DY Patil Sports Academy</td>\n",
       "      <td>AC Gilchrist</td>\n",
       "      <td>powerplay</td>\n",
       "      <td>47</td>\n",
       "      <td>26</td>\n",
       "      <td>320</td>\n",
       "      <td>289</td>\n",
       "      <td>1</td>\n",
       "      <td>6.643599</td>\n",
       "      <td>10.846154</td>\n",
       "      <td>14</td>\n",
       "      <td>0.0714</td>\n",
       "      <td>4.2026</td>\n",
       "      <td>0.3001</td>\n",
       "      <td>(AC Gilchrist, 2008)</td>\n",
       "    </tr>\n",
       "  </tbody>\n",
       "</table>\n",
       "</div>"
      ],
      "text/plain": [
       "   season                       venue          Player  Over_type  \\\n",
       "0    2008  Dr DY Patil Sports Academy  AB de Villiers  powerplay   \n",
       "1    2008  Dr DY Patil Sports Academy    AC Gilchrist  powerplay   \n",
       "\n",
       "   runs_off_bat  ball  runs_off_bat_venue  ball_venue  matches_played_venue  \\\n",
       "0            21    17                 320         289                     1   \n",
       "1            47    26                 320         289                     1   \n",
       "\n",
       "   Venue_RpO  Player_RpO  total_matches_played_season  Weighted Matches  \\\n",
       "0   6.643599    7.411765                            6            0.1667   \n",
       "1   6.643599   10.846154                           14            0.0714   \n",
       "\n",
       "   Run Diff.  Weighted RpO                    Name  \n",
       "0     0.7682        0.1281  (AB de Villiers, 2008)  \n",
       "1     4.2026        0.3001    (AC Gilchrist, 2008)  "
      ]
     },
     "execution_count": 75,
     "metadata": {},
     "output_type": "execute_result"
    }
   ],
   "source": [
    "player_venue_by_season_merged_v3.head(2)"
   ]
  },
  {
   "cell_type": "code",
   "execution_count": 76,
   "id": "fa498671",
   "metadata": {},
   "outputs": [
    {
     "data": {
      "text/plain": [
       "(14396, 16)"
      ]
     },
     "execution_count": 76,
     "metadata": {},
     "output_type": "execute_result"
    }
   ],
   "source": [
    "player_venue_by_season_merged_v3.shape"
   ]
  },
  {
   "cell_type": "markdown",
   "id": "2531b4df",
   "metadata": {},
   "source": [
    "# Getting Number of outs per season"
   ]
  },
  {
   "cell_type": "code",
   "execution_count": 77,
   "id": "be2c43e1",
   "metadata": {},
   "outputs": [
    {
     "data": {
      "text/plain": [
       "Index(['match_id', 'season', 'start_date', 'venue', 'innings', 'ball',\n",
       "       'batting_team', 'bowling_team', 'striker', 'non_striker', 'bowler',\n",
       "       'runs_off_bat', 'extras', 'wides', 'noballs', 'byes', 'legbyes',\n",
       "       'penalty', 'wicket_type', 'player_dismissed', 'other_wicket_type',\n",
       "       'other_player_dismissed', 'Over', 'Ball'],\n",
       "      dtype='object')"
      ]
     },
     "execution_count": 77,
     "metadata": {},
     "output_type": "execute_result"
    }
   ],
   "source": [
    "all_df_no_wides.columns"
   ]
  },
  {
   "cell_type": "code",
   "execution_count": 78,
   "id": "b6dfeb31",
   "metadata": {},
   "outputs": [],
   "source": [
    "outs_per_season = pd.DataFrame(all_df.groupby('season')['player_dismissed'].value_counts()).rename({'player_dismissed':'Outs'}, axis=1).reset_index().iloc[1:, :]\n",
    "\n",
    "outs_per_season.rename({'player_dismissed':'Player'}, axis='columns', inplace=True)"
   ]
  },
  {
   "cell_type": "code",
   "execution_count": 79,
   "id": "b66054d1",
   "metadata": {},
   "outputs": [
    {
     "data": {
      "text/html": [
       "<div>\n",
       "<style scoped>\n",
       "    .dataframe tbody tr th:only-of-type {\n",
       "        vertical-align: middle;\n",
       "    }\n",
       "\n",
       "    .dataframe tbody tr th {\n",
       "        vertical-align: top;\n",
       "    }\n",
       "\n",
       "    .dataframe thead th {\n",
       "        text-align: right;\n",
       "    }\n",
       "</style>\n",
       "<table border=\"1\" class=\"dataframe\">\n",
       "  <thead>\n",
       "    <tr style=\"text-align: right;\">\n",
       "      <th></th>\n",
       "      <th>season</th>\n",
       "      <th>Player</th>\n",
       "      <th>Outs</th>\n",
       "    </tr>\n",
       "  </thead>\n",
       "  <tbody>\n",
       "    <tr>\n",
       "      <th>1</th>\n",
       "      <td>2008</td>\n",
       "      <td>YK Pathan</td>\n",
       "      <td>14</td>\n",
       "    </tr>\n",
       "    <tr>\n",
       "      <th>2</th>\n",
       "      <td>2008</td>\n",
       "      <td>AC Gilchrist</td>\n",
       "      <td>13</td>\n",
       "    </tr>\n",
       "  </tbody>\n",
       "</table>\n",
       "</div>"
      ],
      "text/plain": [
       "   season        Player  Outs\n",
       "1    2008     YK Pathan    14\n",
       "2    2008  AC Gilchrist    13"
      ]
     },
     "execution_count": 79,
     "metadata": {},
     "output_type": "execute_result"
    }
   ],
   "source": [
    "outs_per_season.head(2)"
   ]
  },
  {
   "cell_type": "code",
   "execution_count": 80,
   "id": "c22a5401",
   "metadata": {},
   "outputs": [],
   "source": [
    "# # Joining this on venue-player DF\n",
    "\n",
    "# player_venue_by_season_merged_v4 = pd.merge(player_venue_by_season_merged_v3, outs_per_season, on=['season', 'Player'], how='left')"
   ]
  },
  {
   "cell_type": "code",
   "execution_count": 81,
   "id": "26a4b2d5",
   "metadata": {},
   "outputs": [],
   "source": [
    "# player_venue_by_season_merged_v4.head(2)"
   ]
  },
  {
   "cell_type": "markdown",
   "id": "110c4374",
   "metadata": {},
   "source": [
    "# Runs per season for every player"
   ]
  },
  {
   "cell_type": "code",
   "execution_count": 82,
   "id": "f9e76352",
   "metadata": {},
   "outputs": [],
   "source": [
    "player_total_runs_per_season = all_df_no_wides.groupby(['season', 'striker']).agg({'runs_off_bat':'sum'}).reset_index()"
   ]
  },
  {
   "cell_type": "code",
   "execution_count": 83,
   "id": "609f2d17",
   "metadata": {},
   "outputs": [
    {
     "data": {
      "text/html": [
       "<div>\n",
       "<style scoped>\n",
       "    .dataframe tbody tr th:only-of-type {\n",
       "        vertical-align: middle;\n",
       "    }\n",
       "\n",
       "    .dataframe tbody tr th {\n",
       "        vertical-align: top;\n",
       "    }\n",
       "\n",
       "    .dataframe thead th {\n",
       "        text-align: right;\n",
       "    }\n",
       "</style>\n",
       "<table border=\"1\" class=\"dataframe\">\n",
       "  <thead>\n",
       "    <tr style=\"text-align: right;\">\n",
       "      <th></th>\n",
       "      <th>season</th>\n",
       "      <th>striker</th>\n",
       "      <th>runs_off_bat</th>\n",
       "    </tr>\n",
       "  </thead>\n",
       "  <tbody>\n",
       "    <tr>\n",
       "      <th>0</th>\n",
       "      <td>2008</td>\n",
       "      <td>A Chopra</td>\n",
       "      <td>42</td>\n",
       "    </tr>\n",
       "    <tr>\n",
       "      <th>1</th>\n",
       "      <td>2008</td>\n",
       "      <td>A Kumble</td>\n",
       "      <td>13</td>\n",
       "    </tr>\n",
       "  </tbody>\n",
       "</table>\n",
       "</div>"
      ],
      "text/plain": [
       "   season   striker  runs_off_bat\n",
       "0    2008  A Chopra            42\n",
       "1    2008  A Kumble            13"
      ]
     },
     "execution_count": 83,
     "metadata": {},
     "output_type": "execute_result"
    }
   ],
   "source": [
    "player_total_runs_per_season.head(2)"
   ]
  },
  {
   "cell_type": "code",
   "execution_count": 84,
   "id": "9416539d",
   "metadata": {},
   "outputs": [],
   "source": [
    "player_total_runs_per_season['Name'] = list(zip(player_total_runs_per_season.striker, player_total_runs_per_season.season))"
   ]
  },
  {
   "cell_type": "code",
   "execution_count": 85,
   "id": "05a163e5",
   "metadata": {},
   "outputs": [
    {
     "data": {
      "text/html": [
       "<div>\n",
       "<style scoped>\n",
       "    .dataframe tbody tr th:only-of-type {\n",
       "        vertical-align: middle;\n",
       "    }\n",
       "\n",
       "    .dataframe tbody tr th {\n",
       "        vertical-align: top;\n",
       "    }\n",
       "\n",
       "    .dataframe thead th {\n",
       "        text-align: right;\n",
       "    }\n",
       "</style>\n",
       "<table border=\"1\" class=\"dataframe\">\n",
       "  <thead>\n",
       "    <tr style=\"text-align: right;\">\n",
       "      <th></th>\n",
       "      <th>season</th>\n",
       "      <th>striker</th>\n",
       "      <th>runs_off_bat</th>\n",
       "      <th>Name</th>\n",
       "    </tr>\n",
       "  </thead>\n",
       "  <tbody>\n",
       "    <tr>\n",
       "      <th>0</th>\n",
       "      <td>2008</td>\n",
       "      <td>A Chopra</td>\n",
       "      <td>42</td>\n",
       "      <td>(A Chopra, 2008)</td>\n",
       "    </tr>\n",
       "    <tr>\n",
       "      <th>1</th>\n",
       "      <td>2008</td>\n",
       "      <td>A Kumble</td>\n",
       "      <td>13</td>\n",
       "      <td>(A Kumble, 2008)</td>\n",
       "    </tr>\n",
       "  </tbody>\n",
       "</table>\n",
       "</div>"
      ],
      "text/plain": [
       "   season   striker  runs_off_bat              Name\n",
       "0    2008  A Chopra            42  (A Chopra, 2008)\n",
       "1    2008  A Kumble            13  (A Kumble, 2008)"
      ]
     },
     "execution_count": 85,
     "metadata": {},
     "output_type": "execute_result"
    }
   ],
   "source": [
    "player_total_runs_per_season.head(2)"
   ]
  },
  {
   "cell_type": "code",
   "execution_count": 86,
   "id": "deb98a26",
   "metadata": {},
   "outputs": [],
   "source": [
    "# over_500_runs = player_total_runs_per_season[player_total_runs_per_season['runs_off_bat']>=500]"
   ]
  },
  {
   "cell_type": "code",
   "execution_count": 87,
   "id": "fde56f8e",
   "metadata": {},
   "outputs": [],
   "source": [
    "# over_500_runs.head(2)"
   ]
  },
  {
   "cell_type": "markdown",
   "id": "fadbf8a7",
   "metadata": {},
   "source": [
    "# Getting necessary values and plotting"
   ]
  },
  {
   "cell_type": "code",
   "execution_count": 88,
   "id": "fb3acac8",
   "metadata": {},
   "outputs": [
    {
     "data": {
      "text/html": [
       "<div>\n",
       "<style scoped>\n",
       "    .dataframe tbody tr th:only-of-type {\n",
       "        vertical-align: middle;\n",
       "    }\n",
       "\n",
       "    .dataframe tbody tr th {\n",
       "        vertical-align: top;\n",
       "    }\n",
       "\n",
       "    .dataframe thead th {\n",
       "        text-align: right;\n",
       "    }\n",
       "</style>\n",
       "<table border=\"1\" class=\"dataframe\">\n",
       "  <thead>\n",
       "    <tr style=\"text-align: right;\">\n",
       "      <th></th>\n",
       "      <th>season</th>\n",
       "      <th>striker</th>\n",
       "      <th>runs_off_bat</th>\n",
       "      <th>Name</th>\n",
       "    </tr>\n",
       "  </thead>\n",
       "  <tbody>\n",
       "    <tr>\n",
       "      <th>39</th>\n",
       "      <td>2008</td>\n",
       "      <td>G Gambhir</td>\n",
       "      <td>534</td>\n",
       "      <td>(G Gambhir, 2008)</td>\n",
       "    </tr>\n",
       "    <tr>\n",
       "      <th>115</th>\n",
       "      <td>2008</td>\n",
       "      <td>SE Marsh</td>\n",
       "      <td>616</td>\n",
       "      <td>(SE Marsh, 2008)</td>\n",
       "    </tr>\n",
       "  </tbody>\n",
       "</table>\n",
       "</div>"
      ],
      "text/plain": [
       "     season    striker  runs_off_bat               Name\n",
       "39     2008  G Gambhir           534  (G Gambhir, 2008)\n",
       "115    2008   SE Marsh           616   (SE Marsh, 2008)"
      ]
     },
     "execution_count": 88,
     "metadata": {},
     "output_type": "execute_result"
    }
   ],
   "source": [
    "over_500_runs = player_total_runs_per_season[player_total_runs_per_season['runs_off_bat']>=500]\n",
    "\n",
    "over_500_runs.head(2)"
   ]
  },
  {
   "cell_type": "code",
   "execution_count": 89,
   "id": "127106d9",
   "metadata": {},
   "outputs": [],
   "source": [
    "needed_values = np.array(over_500_runs.Name)"
   ]
  },
  {
   "cell_type": "code",
   "execution_count": 90,
   "id": "6f69e006",
   "metadata": {},
   "outputs": [
    {
     "data": {
      "text/plain": [
       "(65,)"
      ]
     },
     "execution_count": 90,
     "metadata": {},
     "output_type": "execute_result"
    }
   ],
   "source": [
    "np.shape(needed_values)"
   ]
  },
  {
   "cell_type": "code",
   "execution_count": 93,
   "id": "cae7f386",
   "metadata": {},
   "outputs": [],
   "source": [
    "season_runs_above_500_NVRR = player_venue_by_season_merged_v3[player_venue_by_season_merged_v3['Name'].isin(needed_values)]"
   ]
  },
  {
   "cell_type": "code",
   "execution_count": 94,
   "id": "9458dfc8",
   "metadata": {},
   "outputs": [
    {
     "data": {
      "text/html": [
       "<div>\n",
       "<style scoped>\n",
       "    .dataframe tbody tr th:only-of-type {\n",
       "        vertical-align: middle;\n",
       "    }\n",
       "\n",
       "    .dataframe tbody tr th {\n",
       "        vertical-align: top;\n",
       "    }\n",
       "\n",
       "    .dataframe thead th {\n",
       "        text-align: right;\n",
       "    }\n",
       "</style>\n",
       "<table border=\"1\" class=\"dataframe\">\n",
       "  <thead>\n",
       "    <tr style=\"text-align: right;\">\n",
       "      <th></th>\n",
       "      <th>season</th>\n",
       "      <th>venue</th>\n",
       "      <th>Player</th>\n",
       "      <th>Over_type</th>\n",
       "      <th>runs_off_bat</th>\n",
       "      <th>ball</th>\n",
       "      <th>runs_off_bat_venue</th>\n",
       "      <th>ball_venue</th>\n",
       "      <th>matches_played_venue</th>\n",
       "      <th>Venue_RpO</th>\n",
       "      <th>Player_RpO</th>\n",
       "      <th>total_matches_played_season</th>\n",
       "      <th>Weighted Matches</th>\n",
       "      <th>Run Diff.</th>\n",
       "      <th>Weighted RpO</th>\n",
       "      <th>Name</th>\n",
       "    </tr>\n",
       "  </thead>\n",
       "  <tbody>\n",
       "    <tr>\n",
       "      <th>4</th>\n",
       "      <td>2008</td>\n",
       "      <td>Dr DY Patil Sports Academy</td>\n",
       "      <td>G Gambhir</td>\n",
       "      <td>powerplay</td>\n",
       "      <td>1</td>\n",
       "      <td>9</td>\n",
       "      <td>320</td>\n",
       "      <td>289</td>\n",
       "      <td>1</td>\n",
       "      <td>6.643599</td>\n",
       "      <td>0.666667</td>\n",
       "      <td>14</td>\n",
       "      <td>0.0714</td>\n",
       "      <td>-5.9769</td>\n",
       "      <td>-0.4268</td>\n",
       "      <td>(G Gambhir, 2008)</td>\n",
       "    </tr>\n",
       "    <tr>\n",
       "      <th>27</th>\n",
       "      <td>2008</td>\n",
       "      <td>Dr DY Patil Sports Academy</td>\n",
       "      <td>ST Jayasuriya</td>\n",
       "      <td>powerplay</td>\n",
       "      <td>50</td>\n",
       "      <td>39</td>\n",
       "      <td>320</td>\n",
       "      <td>289</td>\n",
       "      <td>3</td>\n",
       "      <td>6.643599</td>\n",
       "      <td>7.692308</td>\n",
       "      <td>14</td>\n",
       "      <td>0.2143</td>\n",
       "      <td>1.0487</td>\n",
       "      <td>0.2247</td>\n",
       "      <td>(ST Jayasuriya, 2008)</td>\n",
       "    </tr>\n",
       "  </tbody>\n",
       "</table>\n",
       "</div>"
      ],
      "text/plain": [
       "    season                       venue         Player  Over_type  \\\n",
       "4     2008  Dr DY Patil Sports Academy      G Gambhir  powerplay   \n",
       "27    2008  Dr DY Patil Sports Academy  ST Jayasuriya  powerplay   \n",
       "\n",
       "    runs_off_bat  ball  runs_off_bat_venue  ball_venue  matches_played_venue  \\\n",
       "4              1     9                 320         289                     1   \n",
       "27            50    39                 320         289                     3   \n",
       "\n",
       "    Venue_RpO  Player_RpO  total_matches_played_season  Weighted Matches  \\\n",
       "4    6.643599    0.666667                           14            0.0714   \n",
       "27   6.643599    7.692308                           14            0.2143   \n",
       "\n",
       "    Run Diff.  Weighted RpO                   Name  \n",
       "4     -5.9769       -0.4268      (G Gambhir, 2008)  \n",
       "27     1.0487        0.2247  (ST Jayasuriya, 2008)  "
      ]
     },
     "execution_count": 94,
     "metadata": {},
     "output_type": "execute_result"
    }
   ],
   "source": [
    "season_runs_above_500_NVRR.head(2)"
   ]
  },
  {
   "cell_type": "code",
   "execution_count": 95,
   "id": "0a3acbd0",
   "metadata": {},
   "outputs": [],
   "source": [
    "req_df = season_runs_above_500_NVRR.groupby(['season','Player', 'Name']).agg({\"runs_off_bat\":'sum', 'ball':'sum','Weighted RpO':'sum'}).reset_index()"
   ]
  },
  {
   "cell_type": "code",
   "execution_count": 96,
   "id": "9070d303",
   "metadata": {},
   "outputs": [],
   "source": [
    "req_df_v2 = pd.merge(req_df, outs_per_season, on=['Player', 'season'], how='left')"
   ]
  },
  {
   "cell_type": "code",
   "execution_count": 97,
   "id": "63702ab0",
   "metadata": {},
   "outputs": [],
   "source": [
    "req_df_v2['BpD'] = round(req_df_v2['ball']/req_df_v2['Outs'],2)"
   ]
  },
  {
   "cell_type": "code",
   "execution_count": 98,
   "id": "7ee4a43e",
   "metadata": {},
   "outputs": [],
   "source": [
    "# req_df_v2.sort_values('Weighted RpO', ascending=False).to_csv('above_500_weighted_overs_sorted.csv')"
   ]
  },
  {
   "cell_type": "code",
   "execution_count": 99,
   "id": "257e9236",
   "metadata": {},
   "outputs": [],
   "source": [
    "# season_runs_above_500_NVRR.to_csv('above_500_weighted_overs_sorted_over_wise.csv')"
   ]
  },
  {
   "cell_type": "code",
   "execution_count": 100,
   "id": "e7a87945",
   "metadata": {},
   "outputs": [],
   "source": [
    "# fig = px.scatter(req_df_v2, x = 'BpD', y='Weighted RpO', text='Name')\n",
    "# fig.update_traces(textposition='top center')\n",
    "# #fig.add_hline(y=0)\n",
    "# #fig.add_vline(x=20)\n",
    "# # #fig.update_layout(title_text='Life Expectency', title_x=0.5)\n",
    "# fig.show()"
   ]
  },
  {
   "cell_type": "code",
   "execution_count": 235,
   "id": "3a95e9cc",
   "metadata": {},
   "outputs": [],
   "source": [
    "# req_df_phase_wise = season_runs_above_500_NVRR.groupby(['season','Player', 'Name', 'Over_type']).agg({\"runs_off_bat\":'sum', 'ball':'sum','Weighted RpO':'sum'}).reset_index()"
   ]
  },
  {
   "cell_type": "code",
   "execution_count": 236,
   "id": "2001123b",
   "metadata": {},
   "outputs": [],
   "source": [
    "# req_df_phase_wise.sort_values('Weighted RpO', ascending=False).to_csv('above_500_weighted_overs_sorted_2.csv')"
   ]
  },
  {
   "cell_type": "code",
   "execution_count": 112,
   "id": "06b019bc",
   "metadata": {},
   "outputs": [],
   "source": [
    "# death_since_2018 = venue_overs_by_year_labelled_v2[(venue_overs_by_year_labelled_v2['Over_type']=='death overs') & (venue_overs_by_year_labelled_v2['season'].isin([2018,2019,2020,2021,2022]))]"
   ]
  },
  {
   "cell_type": "code",
   "execution_count": 113,
   "id": "1e4a5275",
   "metadata": {},
   "outputs": [],
   "source": [
    "# death_since_2018.agg({'runs_off_bat_venue':'sum', 'ball_venue':'sum'})"
   ]
  },
  {
   "cell_type": "code",
   "execution_count": 125,
   "id": "b3b9b16c",
   "metadata": {},
   "outputs": [],
   "source": [
    "# venue_overs_by_year_labelled_v2[(venue_overs_by_year_labelled_v2['Over_type']=='death overs') & (venue_overs_by_year_labelled_v2['season'].isin([2018,2019,2020,2022]))].agg({'runs_off_bat_venue':'sum', 'ball_venue':'sum'})"
   ]
  },
  {
   "cell_type": "code",
   "execution_count": 126,
   "id": "6e37a0e0",
   "metadata": {},
   "outputs": [],
   "source": [
    "# 21815/13556*6"
   ]
  },
  {
   "cell_type": "code",
   "execution_count": null,
   "id": "0f8563ea",
   "metadata": {},
   "outputs": [],
   "source": []
  }
 ],
 "metadata": {
  "kernelspec": {
   "display_name": "Python 3 (ipykernel)",
   "language": "python",
   "name": "python3"
  },
  "language_info": {
   "codemirror_mode": {
    "name": "ipython",
    "version": 3
   },
   "file_extension": ".py",
   "mimetype": "text/x-python",
   "name": "python",
   "nbconvert_exporter": "python",
   "pygments_lexer": "ipython3",
   "version": "3.9.13"
  }
 },
 "nbformat": 4,
 "nbformat_minor": 5
}
