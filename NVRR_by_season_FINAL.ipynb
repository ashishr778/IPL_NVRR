{
 "cells": [
  {
   "cell_type": "markdown",
   "id": "eae19a67",
   "metadata": {},
   "source": [
    "### Libraries"
   ]
  },
  {
   "cell_type": "code",
   "execution_count": 16,
   "id": "28cfa1d4",
   "metadata": {},
   "outputs": [],
   "source": [
    "import pandas as pd\n",
    "import numpy as np\n",
    "import matplotlib.pyplot as plt\n",
    "import plotly.express as px\n",
    "import warnings\n",
    "warnings.filterwarnings(\"ignore\")"
   ]
  },
  {
   "cell_type": "markdown",
   "id": "e2e05348",
   "metadata": {},
   "source": [
    "### Import"
   ]
  },
  {
   "cell_type": "code",
   "execution_count": 65,
   "id": "d57606ed",
   "metadata": {},
   "outputs": [
    {
     "data": {
      "text/plain": [
       "Index(['match_id', 'season', 'start_date', 'venue', 'innings', 'ball',\n",
       "       'batting_team', 'bowling_team', 'striker', 'non_striker', 'bowler',\n",
       "       'runs_off_bat', 'extras', 'wides', 'noballs', 'byes', 'legbyes',\n",
       "       'penalty', 'wicket_type', 'player_dismissed', 'other_wicket_type',\n",
       "       'other_player_dismissed', 'batting_pos'],\n",
       "      dtype='object')"
      ]
     },
     "execution_count": 65,
     "metadata": {},
     "output_type": "execute_result"
    }
   ],
   "source": [
    "df_1 = pd.read_csv(r\"C:\\Users\\ashis\\Documents\\Cricket\\CS_IPL_ALL_WITH_BAT_POS.csv\")\n",
    "\n",
    "# df_1.drop('Unnamed: 0', axis=1, inplace=True, )\n",
    "\n",
    "df_1.columns"
   ]
  },
  {
   "cell_type": "code",
   "execution_count": 66,
   "id": "776c85ed",
   "metadata": {},
   "outputs": [
    {
     "data": {
      "text/plain": [
       "array(['2007/08', '2009', '2009/10', '2011', '2012', 2012, 2013, 2014,\n",
       "       2015, 2016, 2017, 2019, 2018, '2018', '2019', '2020/21', '2021',\n",
       "       2021, 2022, 2023], dtype=object)"
      ]
     },
     "execution_count": 66,
     "metadata": {},
     "output_type": "execute_result"
    }
   ],
   "source": [
    "(df_1.season.unique())"
   ]
  },
  {
   "cell_type": "code",
   "execution_count": 67,
   "id": "22f59523",
   "metadata": {},
   "outputs": [],
   "source": [
    "df_1.loc[df_1.season=='2007/08', 'season'] = 2008\n",
    "df_1.loc[df_1.season=='2009/10', 'season'] = 2010\n",
    "df_1.loc[df_1.season=='2020/21', 'season'] = 2020\n",
    "\n",
    "df_1['season'] = df_1['season'].astype('int')"
   ]
  },
  {
   "cell_type": "markdown",
   "id": "f0857992",
   "metadata": {},
   "source": [
    "# Merges"
   ]
  },
  {
   "cell_type": "code",
   "execution_count": 68,
   "id": "62b14f37",
   "metadata": {},
   "outputs": [],
   "source": [
    "# Runs per season for every player for every season\n",
    "season_runs  = df_1.groupby(['season', 'striker']).agg({'runs_off_bat':'sum', 'ball':'count'}).reset_index()\n",
    "\n",
    "# Accounting Wide Balls\n",
    "extras2 = df_1[(df_1['wides']>0)].groupby(['season', 'striker']).agg({'ball':'count'}).reset_index()\n",
    "\n",
    "# Merging Wide Balls\n",
    "merged = pd.merge(season_runs, extras2, on=['season', 'striker'], how='outer').fillna(0)\n",
    "\n",
    "# Subtracting Wide Balls from total Balls to get Balls played by batters\n",
    "merged['balls'] = merged[\"ball_x\"] - merged[\"ball_y\"]\n",
    "\n",
    "# Dropping useless columns\n",
    "merged.drop(['ball_x', 'ball_y'], axis=1, inplace=True)\n",
    "\n",
    "# Generating SR\n",
    "merged['SR'] = round((merged['runs_off_bat']/merged['balls'])*100, 2)\n",
    "\n",
    "# Getting innings count for batters by season\n",
    "inns = df_1.groupby(['season', 'striker']).agg({'match_id':pd.Series.nunique}).reset_index()\n",
    "\n",
    "# Merging innings count with first merge\n",
    "merged2 = pd.merge(merged, inns, on=['season', 'striker'], how='outer').rename({'match_id':'inns'}, axis=1)\n",
    "\n",
    "# Getting OUTS count of every batter for every season\n",
    "outs = pd.DataFrame(df_1.groupby('season')['player_dismissed'].value_counts()).rename({'player_dismissed':'Outs'}, axis=1).reset_index()\n",
    "\n",
    "# Renaming outs\n",
    "outs.rename({'player_dismissed':'striker'}, axis=1, inplace=True)\n",
    "\n",
    "# Merging outs to previous merge\n",
    "merged3 = pd.merge(merged2, outs, on=['season', 'striker'], how='outer')"
   ]
  },
  {
   "cell_type": "code",
   "execution_count": 69,
   "id": "99e92c46",
   "metadata": {},
   "outputs": [],
   "source": [
    "#Cleaning Merges\n",
    "merged3.fillna(0, inplace=True)\n",
    "\n",
    "merged3.sort_values(['season', 'runs_off_bat'],inplace=True)\n",
    "\n",
    "# Creating BpD\n",
    "merged3['BpD'] = round(merged3['balls']/merged3['Outs'], 2)"
   ]
  },
  {
   "cell_type": "code",
   "execution_count": 70,
   "id": "a0eaa603",
   "metadata": {},
   "outputs": [
    {
     "data": {
      "text/html": [
       "<div>\n",
       "<style scoped>\n",
       "    .dataframe tbody tr th:only-of-type {\n",
       "        vertical-align: middle;\n",
       "    }\n",
       "\n",
       "    .dataframe tbody tr th {\n",
       "        vertical-align: top;\n",
       "    }\n",
       "\n",
       "    .dataframe thead th {\n",
       "        text-align: right;\n",
       "    }\n",
       "</style>\n",
       "<table border=\"1\" class=\"dataframe\">\n",
       "  <thead>\n",
       "    <tr style=\"text-align: right;\">\n",
       "      <th></th>\n",
       "      <th>season</th>\n",
       "      <th>striker</th>\n",
       "      <th>runs_off_bat</th>\n",
       "      <th>balls</th>\n",
       "      <th>SR</th>\n",
       "      <th>inns</th>\n",
       "      <th>Outs</th>\n",
       "      <th>BpD</th>\n",
       "    </tr>\n",
       "  </thead>\n",
       "  <tbody>\n",
       "    <tr>\n",
       "      <th>3</th>\n",
       "      <td>2008</td>\n",
       "      <td>A Mukund</td>\n",
       "      <td>0.0</td>\n",
       "      <td>1.0</td>\n",
       "      <td>0.0</td>\n",
       "      <td>1.0</td>\n",
       "      <td>1.0</td>\n",
       "      <td>1.0</td>\n",
       "    </tr>\n",
       "    <tr>\n",
       "      <th>15</th>\n",
       "      <td>2008</td>\n",
       "      <td>Abdur Razzak</td>\n",
       "      <td>0.0</td>\n",
       "      <td>2.0</td>\n",
       "      <td>0.0</td>\n",
       "      <td>1.0</td>\n",
       "      <td>0.0</td>\n",
       "      <td>inf</td>\n",
       "    </tr>\n",
       "  </tbody>\n",
       "</table>\n",
       "</div>"
      ],
      "text/plain": [
       "    season       striker  runs_off_bat  balls   SR  inns  Outs  BpD\n",
       "3     2008      A Mukund           0.0    1.0  0.0   1.0   1.0  1.0\n",
       "15    2008  Abdur Razzak           0.0    2.0  0.0   1.0   0.0  inf"
      ]
     },
     "execution_count": 70,
     "metadata": {},
     "output_type": "execute_result"
    }
   ],
   "source": [
    "merged3.head(2)"
   ]
  },
  {
   "cell_type": "markdown",
   "id": "ea639ce9",
   "metadata": {},
   "source": [
    "# Creating the same for Venue level"
   ]
  },
  {
   "cell_type": "code",
   "execution_count": 71,
   "id": "685db424",
   "metadata": {},
   "outputs": [],
   "source": [
    "match_by_match_individual_inns = df_1.fillna(0)[df_1.fillna(0)['wides']==0].groupby(['season', 'match_id', 'start_date', 'venue' ,'striker']).agg({'runs_off_bat':'sum', 'ball':'count'}).reset_index()"
   ]
  },
  {
   "cell_type": "code",
   "execution_count": 72,
   "id": "21c4ef73",
   "metadata": {},
   "outputs": [
    {
     "data": {
      "text/html": [
       "<div>\n",
       "<style scoped>\n",
       "    .dataframe tbody tr th:only-of-type {\n",
       "        vertical-align: middle;\n",
       "    }\n",
       "\n",
       "    .dataframe tbody tr th {\n",
       "        vertical-align: top;\n",
       "    }\n",
       "\n",
       "    .dataframe thead th {\n",
       "        text-align: right;\n",
       "    }\n",
       "</style>\n",
       "<table border=\"1\" class=\"dataframe\">\n",
       "  <thead>\n",
       "    <tr style=\"text-align: right;\">\n",
       "      <th></th>\n",
       "      <th>season</th>\n",
       "      <th>match_id</th>\n",
       "      <th>start_date</th>\n",
       "      <th>venue</th>\n",
       "      <th>striker</th>\n",
       "      <th>runs_off_bat</th>\n",
       "      <th>ball</th>\n",
       "    </tr>\n",
       "  </thead>\n",
       "  <tbody>\n",
       "    <tr>\n",
       "      <th>0</th>\n",
       "      <td>2008</td>\n",
       "      <td>335982</td>\n",
       "      <td>2008-04-18</td>\n",
       "      <td>M Chinnaswamy Stadium</td>\n",
       "      <td>AA Noffke</td>\n",
       "      <td>9</td>\n",
       "      <td>10</td>\n",
       "    </tr>\n",
       "    <tr>\n",
       "      <th>1</th>\n",
       "      <td>2008</td>\n",
       "      <td>335982</td>\n",
       "      <td>2008-04-18</td>\n",
       "      <td>M Chinnaswamy Stadium</td>\n",
       "      <td>B Akhil</td>\n",
       "      <td>0</td>\n",
       "      <td>2</td>\n",
       "    </tr>\n",
       "  </tbody>\n",
       "</table>\n",
       "</div>"
      ],
      "text/plain": [
       "   season  match_id  start_date                  venue    striker  \\\n",
       "0    2008    335982  2008-04-18  M Chinnaswamy Stadium  AA Noffke   \n",
       "1    2008    335982  2008-04-18  M Chinnaswamy Stadium    B Akhil   \n",
       "\n",
       "   runs_off_bat  ball  \n",
       "0             9    10  \n",
       "1             0     2  "
      ]
     },
     "execution_count": 72,
     "metadata": {},
     "output_type": "execute_result"
    }
   ],
   "source": [
    "match_by_match_individual_inns.head(2)"
   ]
  },
  {
   "cell_type": "markdown",
   "id": "a4536c0e",
   "metadata": {},
   "source": [
    "# Top 25 runs scorer of all time"
   ]
  },
  {
   "cell_type": "code",
   "execution_count": 73,
   "id": "110f6683",
   "metadata": {},
   "outputs": [],
   "source": [
    "df_top_all = df_1.groupby('striker').agg({'runs_off_bat':'sum'}).reset_index().sort_values('runs_off_bat', ascending=False)\n",
    "\n",
    "df_top_all.reset_index(inplace=True)"
   ]
  },
  {
   "cell_type": "code",
   "execution_count": 74,
   "id": "d17ebb09",
   "metadata": {},
   "outputs": [],
   "source": [
    "df_top_all.drop('index', axis=1, inplace=True)"
   ]
  },
  {
   "cell_type": "code",
   "execution_count": 75,
   "id": "254c7bb2",
   "metadata": {},
   "outputs": [],
   "source": [
    "top_25_scorers = np.array(df_top_all.nlargest(25, 'runs_off_bat').striker)"
   ]
  },
  {
   "cell_type": "code",
   "execution_count": 76,
   "id": "d55a9e72",
   "metadata": {},
   "outputs": [
    {
     "data": {
      "text/plain": [
       "array(['V Kohli', 'S Dhawan', 'DA Warner', 'RG Sharma', 'SK Raina',\n",
       "       'AB de Villiers', 'MS Dhoni', 'CH Gayle', 'RV Uthappa',\n",
       "       'KD Karthik', 'AM Rahane', 'AT Rayudu', 'G Gambhir', 'KL Rahul',\n",
       "       'F du Plessis', 'SV Samson', 'SR Watson', 'MK Pandey',\n",
       "       'KA Pollard', 'SA Yadav', 'JC Buttler', 'YK Pathan', 'Q de Kock',\n",
       "       'BB McCullum', 'RR Pant'], dtype=object)"
      ]
     },
     "execution_count": 76,
     "metadata": {},
     "output_type": "execute_result"
    }
   ],
   "source": [
    "top_25_scorers"
   ]
  },
  {
   "cell_type": "markdown",
   "id": "867dbf40",
   "metadata": {},
   "source": [
    "# Number of seasons"
   ]
  },
  {
   "cell_type": "code",
   "execution_count": 77,
   "id": "fd698de0",
   "metadata": {},
   "outputs": [],
   "source": [
    "all_seasons = match_by_match_individual_inns.season.unique()"
   ]
  },
  {
   "cell_type": "code",
   "execution_count": 86,
   "id": "27766ebb",
   "metadata": {},
   "outputs": [
    {
     "data": {
      "text/plain": [
       "array([2008, 2009, 2010, 2011, 2012, 2013, 2014, 2015, 2016, 2017, 2018,\n",
       "       2019, 2020, 2021, 2022, 2023], dtype=int64)"
      ]
     },
     "execution_count": 86,
     "metadata": {},
     "output_type": "execute_result"
    }
   ],
   "source": [
    "all_seasons"
   ]
  },
  {
   "cell_type": "markdown",
   "id": "9df0f16f",
   "metadata": {},
   "source": [
    "# Venue Analysis functions"
   ]
  },
  {
   "cell_type": "code",
   "execution_count": 79,
   "id": "1f42f927",
   "metadata": {},
   "outputs": [],
   "source": [
    "def venue_analysis(df, player, year):\n",
    "    df_dict = {}\n",
    "    \n",
    "    inns = df[(df['season']==year) & (df['striker']==player)]\n",
    "\n",
    "    player_venue = inns.groupby('venue').agg({'runs_off_bat':'sum', 'ball':'sum', 'match_id':'count'}).reset_index().sort_values('runs_off_bat', ascending=False)\n",
    "\n",
    "    player_venue['RpO'] =  round((player_venue['runs_off_bat']/player_venue['ball'])*6, 4)\n",
    "    \n",
    "    venue_stats = df[df['season']==year].groupby('venue').agg({'runs_off_bat':'sum', 'ball':'sum'}).reset_index()\n",
    "    \n",
    "    venue_stats['RpO_Venue'] = round((venue_stats['runs_off_bat']/venue_stats['ball'])*6, 4)\n",
    "\n",
    "    v_venue = pd.merge(player_venue, venue_stats[['venue', 'RpO_Venue']], on='venue')\n",
    "\n",
    "    v_venue['Run Diff.'] = v_venue['RpO'] - v_venue['RpO_Venue']\n",
    "\n",
    "    v_venue['Weighted Matches'] = v_venue['match_id']/v_venue['match_id'].sum()\n",
    "\n",
    "    v_venue['Weighted RpO'] = v_venue['Run Diff.']*v_venue['Weighted Matches']\n",
    "    \n",
    "    return (v_venue['Weighted RpO'].sum()/v_venue['match_id'].sum())*10\n",
    "    #return v_venue\n",
    "    #return v_venue['Weighted RpO'].sum()"
   ]
  },
  {
   "cell_type": "code",
   "execution_count": 80,
   "id": "1e67098c",
   "metadata": {},
   "outputs": [],
   "source": [
    "# NVRR analysis for all the top 25 scorers\n",
    "dict_NVRR = {}\n",
    "\n",
    "for player in top_25_scorers:\n",
    "    l1 = []\n",
    "    #for year in seasons_for_player(match_by_match_individual_inns, player):\n",
    "    for year in all_seasons:\n",
    "        NVRR = round(venue_analysis(match_by_match_individual_inns, player, year), 3)\n",
    "        l1.append((year,NVRR))\n",
    "    dict_NVRR[player]=l1"
   ]
  },
  {
   "cell_type": "code",
   "execution_count": 81,
   "id": "b7c569ed",
   "metadata": {},
   "outputs": [],
   "source": [
    "# Creating a DF with the dictinary\n",
    "df_seasons_NVRR = pd.DataFrame(dict_NVRR).T"
   ]
  },
  {
   "cell_type": "code",
   "execution_count": 82,
   "id": "57f55f1d",
   "metadata": {},
   "outputs": [
    {
     "data": {
      "text/html": [
       "<div>\n",
       "<style scoped>\n",
       "    .dataframe tbody tr th:only-of-type {\n",
       "        vertical-align: middle;\n",
       "    }\n",
       "\n",
       "    .dataframe tbody tr th {\n",
       "        vertical-align: top;\n",
       "    }\n",
       "\n",
       "    .dataframe thead th {\n",
       "        text-align: right;\n",
       "    }\n",
       "</style>\n",
       "<table border=\"1\" class=\"dataframe\">\n",
       "  <thead>\n",
       "    <tr style=\"text-align: right;\">\n",
       "      <th></th>\n",
       "      <th>0</th>\n",
       "      <th>1</th>\n",
       "      <th>2</th>\n",
       "      <th>3</th>\n",
       "      <th>4</th>\n",
       "      <th>5</th>\n",
       "      <th>6</th>\n",
       "      <th>7</th>\n",
       "      <th>8</th>\n",
       "      <th>9</th>\n",
       "      <th>10</th>\n",
       "      <th>11</th>\n",
       "      <th>12</th>\n",
       "      <th>13</th>\n",
       "      <th>14</th>\n",
       "      <th>15</th>\n",
       "    </tr>\n",
       "  </thead>\n",
       "  <tbody>\n",
       "    <tr>\n",
       "      <th>V Kohli</th>\n",
       "      <td>(2008, -1.012)</td>\n",
       "      <td>(2009, -0.182)</td>\n",
       "      <td>(2010, 0.178)</td>\n",
       "      <td>(2011, -0.137)</td>\n",
       "      <td>(2012, -0.908)</td>\n",
       "      <td>(2013, 0.176)</td>\n",
       "      <td>(2014, -0.672)</td>\n",
       "      <td>(2015, -0.171)</td>\n",
       "      <td>(2016, 0.297)</td>\n",
       "      <td>(2017, -0.924)</td>\n",
       "      <td>(2018, -0.502)</td>\n",
       "      <td>(2019, -0.338)</td>\n",
       "      <td>(2020, -0.403)</td>\n",
       "      <td>(2021, -0.202)</td>\n",
       "      <td>(2022, -0.601)</td>\n",
       "      <td>(2023, -0.719)</td>\n",
       "    </tr>\n",
       "    <tr>\n",
       "      <th>S Dhawan</th>\n",
       "      <td>(2008, -1.655)</td>\n",
       "      <td>(2009, -5.707)</td>\n",
       "      <td>(2010, -1.786)</td>\n",
       "      <td>(2011, 0.004)</td>\n",
       "      <td>(2012, 0.378)</td>\n",
       "      <td>(2013, -0.294)</td>\n",
       "      <td>(2014, -0.718)</td>\n",
       "      <td>(2015, -0.706)</td>\n",
       "      <td>(2016, -0.563)</td>\n",
       "      <td>(2017, -0.169)</td>\n",
       "      <td>(2018, -0.444)</td>\n",
       "      <td>(2019, -0.229)</td>\n",
       "      <td>(2020, 0.512)</td>\n",
       "      <td>(2021, -0.191)</td>\n",
       "      <td>(2022, -0.5)</td>\n",
       "      <td>(2023, -0.294)</td>\n",
       "    </tr>\n",
       "  </tbody>\n",
       "</table>\n",
       "</div>"
      ],
      "text/plain": [
       "                      0               1               2               3   \\\n",
       "V Kohli   (2008, -1.012)  (2009, -0.182)   (2010, 0.178)  (2011, -0.137)   \n",
       "S Dhawan  (2008, -1.655)  (2009, -5.707)  (2010, -1.786)   (2011, 0.004)   \n",
       "\n",
       "                      4               5               6               7   \\\n",
       "V Kohli   (2012, -0.908)   (2013, 0.176)  (2014, -0.672)  (2015, -0.171)   \n",
       "S Dhawan   (2012, 0.378)  (2013, -0.294)  (2014, -0.718)  (2015, -0.706)   \n",
       "\n",
       "                      8               9               10              11  \\\n",
       "V Kohli    (2016, 0.297)  (2017, -0.924)  (2018, -0.502)  (2019, -0.338)   \n",
       "S Dhawan  (2016, -0.563)  (2017, -0.169)  (2018, -0.444)  (2019, -0.229)   \n",
       "\n",
       "                      12              13              14              15  \n",
       "V Kohli   (2020, -0.403)  (2021, -0.202)  (2022, -0.601)  (2023, -0.719)  \n",
       "S Dhawan   (2020, 0.512)  (2021, -0.191)    (2022, -0.5)  (2023, -0.294)  "
      ]
     },
     "execution_count": 82,
     "metadata": {},
     "output_type": "execute_result"
    }
   ],
   "source": [
    "df_seasons_NVRR.head(2)"
   ]
  },
  {
   "cell_type": "code",
   "execution_count": 87,
   "id": "47dd9865",
   "metadata": {},
   "outputs": [],
   "source": [
    "df_seasons_NVRR_v1 = df_seasons_NVRR.rename({k:v for (k, v) in zip(list(range(16)), all_seasons)}, axis=1)"
   ]
  },
  {
   "cell_type": "code",
   "execution_count": 88,
   "id": "ea9fcffb",
   "metadata": {},
   "outputs": [
    {
     "data": {
      "text/html": [
       "<div>\n",
       "<style scoped>\n",
       "    .dataframe tbody tr th:only-of-type {\n",
       "        vertical-align: middle;\n",
       "    }\n",
       "\n",
       "    .dataframe tbody tr th {\n",
       "        vertical-align: top;\n",
       "    }\n",
       "\n",
       "    .dataframe thead th {\n",
       "        text-align: right;\n",
       "    }\n",
       "</style>\n",
       "<table border=\"1\" class=\"dataframe\">\n",
       "  <thead>\n",
       "    <tr style=\"text-align: right;\">\n",
       "      <th></th>\n",
       "      <th>2008</th>\n",
       "      <th>2009</th>\n",
       "      <th>2010</th>\n",
       "      <th>2011</th>\n",
       "      <th>2012</th>\n",
       "      <th>2013</th>\n",
       "      <th>2014</th>\n",
       "      <th>2015</th>\n",
       "      <th>2016</th>\n",
       "      <th>2017</th>\n",
       "      <th>2018</th>\n",
       "      <th>2019</th>\n",
       "      <th>2020</th>\n",
       "      <th>2021</th>\n",
       "      <th>2022</th>\n",
       "      <th>2023</th>\n",
       "    </tr>\n",
       "  </thead>\n",
       "  <tbody>\n",
       "    <tr>\n",
       "      <th>V Kohli</th>\n",
       "      <td>(2008, -1.012)</td>\n",
       "      <td>(2009, -0.182)</td>\n",
       "      <td>(2010, 0.178)</td>\n",
       "      <td>(2011, -0.137)</td>\n",
       "      <td>(2012, -0.908)</td>\n",
       "      <td>(2013, 0.176)</td>\n",
       "      <td>(2014, -0.672)</td>\n",
       "      <td>(2015, -0.171)</td>\n",
       "      <td>(2016, 0.297)</td>\n",
       "      <td>(2017, -0.924)</td>\n",
       "      <td>(2018, -0.502)</td>\n",
       "      <td>(2019, -0.338)</td>\n",
       "      <td>(2020, -0.403)</td>\n",
       "      <td>(2021, -0.202)</td>\n",
       "      <td>(2022, -0.601)</td>\n",
       "      <td>(2023, -0.719)</td>\n",
       "    </tr>\n",
       "    <tr>\n",
       "      <th>S Dhawan</th>\n",
       "      <td>(2008, -1.655)</td>\n",
       "      <td>(2009, -5.707)</td>\n",
       "      <td>(2010, -1.786)</td>\n",
       "      <td>(2011, 0.004)</td>\n",
       "      <td>(2012, 0.378)</td>\n",
       "      <td>(2013, -0.294)</td>\n",
       "      <td>(2014, -0.718)</td>\n",
       "      <td>(2015, -0.706)</td>\n",
       "      <td>(2016, -0.563)</td>\n",
       "      <td>(2017, -0.169)</td>\n",
       "      <td>(2018, -0.444)</td>\n",
       "      <td>(2019, -0.229)</td>\n",
       "      <td>(2020, 0.512)</td>\n",
       "      <td>(2021, -0.191)</td>\n",
       "      <td>(2022, -0.5)</td>\n",
       "      <td>(2023, -0.294)</td>\n",
       "    </tr>\n",
       "  </tbody>\n",
       "</table>\n",
       "</div>"
      ],
      "text/plain": [
       "                    2008            2009            2010            2011  \\\n",
       "V Kohli   (2008, -1.012)  (2009, -0.182)   (2010, 0.178)  (2011, -0.137)   \n",
       "S Dhawan  (2008, -1.655)  (2009, -5.707)  (2010, -1.786)   (2011, 0.004)   \n",
       "\n",
       "                    2012            2013            2014            2015  \\\n",
       "V Kohli   (2012, -0.908)   (2013, 0.176)  (2014, -0.672)  (2015, -0.171)   \n",
       "S Dhawan   (2012, 0.378)  (2013, -0.294)  (2014, -0.718)  (2015, -0.706)   \n",
       "\n",
       "                    2016            2017            2018            2019  \\\n",
       "V Kohli    (2016, 0.297)  (2017, -0.924)  (2018, -0.502)  (2019, -0.338)   \n",
       "S Dhawan  (2016, -0.563)  (2017, -0.169)  (2018, -0.444)  (2019, -0.229)   \n",
       "\n",
       "                    2020            2021            2022            2023  \n",
       "V Kohli   (2020, -0.403)  (2021, -0.202)  (2022, -0.601)  (2023, -0.719)  \n",
       "S Dhawan   (2020, 0.512)  (2021, -0.191)    (2022, -0.5)  (2023, -0.294)  "
      ]
     },
     "execution_count": 88,
     "metadata": {},
     "output_type": "execute_result"
    }
   ],
   "source": [
    "df_seasons_NVRR_v1.head(2)"
   ]
  },
  {
   "cell_type": "code",
   "execution_count": 89,
   "id": "ce932762",
   "metadata": {},
   "outputs": [],
   "source": [
    "# Getting NVMM out of (year, NVMM) format\n",
    "\n",
    "df_seasons_NVRR_v1[2008] = df_seasons_NVRR_v1[2008].astype('str').str.split(',', expand=True).iloc[:, 1].str.split(')', expand=True).iloc[:, 0]\n",
    "\n",
    "df_seasons_NVRR_v1[2009] = df_seasons_NVRR_v1[2009].astype('str').str.split(',', expand=True).iloc[:, 1].str.split(')', expand=True).iloc[:, 0]\n",
    "\n",
    "df_seasons_NVRR_v1[2010] = df_seasons_NVRR_v1[2010].astype('str').str.split(',', expand=True).iloc[:, 1].str.split(')', expand=True).iloc[:, 0]\n",
    "\n",
    "df_seasons_NVRR_v1[2011] = df_seasons_NVRR_v1[2011].astype('str').str.split(',', expand=True).iloc[:, 1].str.split(')', expand=True).iloc[:, 0]\n",
    "\n",
    "df_seasons_NVRR_v1[2012] = df_seasons_NVRR_v1[2012].astype('str').str.split(',', expand=True).iloc[:, 1].str.split(')', expand=True).iloc[:, 0]\n",
    "\n",
    "df_seasons_NVRR_v1[2013] = df_seasons_NVRR_v1[2013].astype('str').str.split(',', expand=True).iloc[:, 1].str.split(')', expand=True).iloc[:, 0]\n",
    "\n",
    "df_seasons_NVRR_v1[2014] = df_seasons_NVRR_v1[2014].astype('str').str.split(',', expand=True).iloc[:, 1].str.split(')', expand=True).iloc[:, 0]\n",
    "\n",
    "df_seasons_NVRR_v1[2015] = df_seasons_NVRR_v1[2015].astype('str').str.split(',', expand=True).iloc[:, 1].str.split(')', expand=True).iloc[:, 0]\n",
    "\n",
    "df_seasons_NVRR_v1[2016] = df_seasons_NVRR_v1[2016].astype('str').str.split(',', expand=True).iloc[:, 1].str.split(')', expand=True).iloc[:, 0]\n",
    "\n",
    "df_seasons_NVRR_v1[2017] = df_seasons_NVRR_v1[2017].astype('str').str.split(',', expand=True).iloc[:, 1].str.split(')', expand=True).iloc[:, 0]\n",
    "\n",
    "df_seasons_NVRR_v1[2018] = df_seasons_NVRR_v1[2018].astype('str').str.split(',', expand=True).iloc[:, 1].str.split(')', expand=True).iloc[:, 0]\n",
    "\n",
    "df_seasons_NVRR_v1[2019] = df_seasons_NVRR_v1[2019].astype('str').str.split(',', expand=True).iloc[:, 1].str.split(')', expand=True).iloc[:, 0]\n",
    "\n",
    "df_seasons_NVRR_v1[2020] = df_seasons_NVRR_v1[2020].astype('str').str.split(',', expand=True).iloc[:, 1].str.split(')', expand=True).iloc[:, 0]\n",
    "\n",
    "df_seasons_NVRR_v1[2021] = df_seasons_NVRR_v1[2021].astype('str').str.split(',', expand=True).iloc[:, 1].str.split(')', expand=True).iloc[:, 0]\n",
    "\n",
    "df_seasons_NVRR_v1[2022] = df_seasons_NVRR_v1[2022].astype('str').str.split(',', expand=True).iloc[:, 1].str.split(')', expand=True).iloc[:, 0]\n",
    "\n",
    "df_seasons_NVRR_v1[2023] = df_seasons_NVRR_v1[2023].astype('str').str.split(',', expand=True).iloc[:, 1].str.split(')', expand=True).iloc[:, 0]"
   ]
  },
  {
   "cell_type": "code",
   "execution_count": 90,
   "id": "18083170",
   "metadata": {},
   "outputs": [
    {
     "data": {
      "text/html": [
       "<div>\n",
       "<style scoped>\n",
       "    .dataframe tbody tr th:only-of-type {\n",
       "        vertical-align: middle;\n",
       "    }\n",
       "\n",
       "    .dataframe tbody tr th {\n",
       "        vertical-align: top;\n",
       "    }\n",
       "\n",
       "    .dataframe thead th {\n",
       "        text-align: right;\n",
       "    }\n",
       "</style>\n",
       "<table border=\"1\" class=\"dataframe\">\n",
       "  <thead>\n",
       "    <tr style=\"text-align: right;\">\n",
       "      <th></th>\n",
       "      <th>2008</th>\n",
       "      <th>2009</th>\n",
       "      <th>2010</th>\n",
       "      <th>2011</th>\n",
       "      <th>2012</th>\n",
       "      <th>2013</th>\n",
       "      <th>2014</th>\n",
       "      <th>2015</th>\n",
       "      <th>2016</th>\n",
       "      <th>2017</th>\n",
       "      <th>2018</th>\n",
       "      <th>2019</th>\n",
       "      <th>2020</th>\n",
       "      <th>2021</th>\n",
       "      <th>2022</th>\n",
       "      <th>2023</th>\n",
       "    </tr>\n",
       "  </thead>\n",
       "  <tbody>\n",
       "    <tr>\n",
       "      <th>V Kohli</th>\n",
       "      <td>-1.012</td>\n",
       "      <td>-0.182</td>\n",
       "      <td>0.178</td>\n",
       "      <td>-0.137</td>\n",
       "      <td>-0.908</td>\n",
       "      <td>0.176</td>\n",
       "      <td>-0.672</td>\n",
       "      <td>-0.171</td>\n",
       "      <td>0.297</td>\n",
       "      <td>-0.924</td>\n",
       "      <td>-0.502</td>\n",
       "      <td>-0.338</td>\n",
       "      <td>-0.403</td>\n",
       "      <td>-0.202</td>\n",
       "      <td>-0.601</td>\n",
       "      <td>-0.719</td>\n",
       "    </tr>\n",
       "    <tr>\n",
       "      <th>S Dhawan</th>\n",
       "      <td>-1.655</td>\n",
       "      <td>-5.707</td>\n",
       "      <td>-1.786</td>\n",
       "      <td>0.004</td>\n",
       "      <td>0.378</td>\n",
       "      <td>-0.294</td>\n",
       "      <td>-0.718</td>\n",
       "      <td>-0.706</td>\n",
       "      <td>-0.563</td>\n",
       "      <td>-0.169</td>\n",
       "      <td>-0.444</td>\n",
       "      <td>-0.229</td>\n",
       "      <td>0.512</td>\n",
       "      <td>-0.191</td>\n",
       "      <td>-0.5</td>\n",
       "      <td>-0.294</td>\n",
       "    </tr>\n",
       "  </tbody>\n",
       "</table>\n",
       "</div>"
      ],
      "text/plain": [
       "             2008     2009     2010     2011     2012     2013     2014  \\\n",
       "V Kohli    -1.012   -0.182    0.178   -0.137   -0.908    0.176   -0.672   \n",
       "S Dhawan   -1.655   -5.707   -1.786    0.004    0.378   -0.294   -0.718   \n",
       "\n",
       "             2015     2016     2017     2018     2019     2020     2021  \\\n",
       "V Kohli    -0.171    0.297   -0.924   -0.502   -0.338   -0.403   -0.202   \n",
       "S Dhawan   -0.706   -0.563   -0.169   -0.444   -0.229    0.512   -0.191   \n",
       "\n",
       "             2022     2023  \n",
       "V Kohli    -0.601   -0.719  \n",
       "S Dhawan     -0.5   -0.294  "
      ]
     },
     "execution_count": 90,
     "metadata": {},
     "output_type": "execute_result"
    }
   ],
   "source": [
    "df_seasons_NVRR_v1.head(2)"
   ]
  },
  {
   "cell_type": "code",
   "execution_count": 91,
   "id": "97262085",
   "metadata": {},
   "outputs": [],
   "source": [
    "df_seasons_NVRR_v2 = df_seasons_NVRR_v1.replace(' nan', 0)"
   ]
  },
  {
   "cell_type": "code",
   "execution_count": 92,
   "id": "f77f77d0",
   "metadata": {},
   "outputs": [
    {
     "data": {
      "text/html": [
       "<div>\n",
       "<style scoped>\n",
       "    .dataframe tbody tr th:only-of-type {\n",
       "        vertical-align: middle;\n",
       "    }\n",
       "\n",
       "    .dataframe tbody tr th {\n",
       "        vertical-align: top;\n",
       "    }\n",
       "\n",
       "    .dataframe thead th {\n",
       "        text-align: right;\n",
       "    }\n",
       "</style>\n",
       "<table border=\"1\" class=\"dataframe\">\n",
       "  <thead>\n",
       "    <tr style=\"text-align: right;\">\n",
       "      <th></th>\n",
       "      <th>2008</th>\n",
       "      <th>2009</th>\n",
       "      <th>2010</th>\n",
       "      <th>2011</th>\n",
       "      <th>2012</th>\n",
       "      <th>2013</th>\n",
       "      <th>2014</th>\n",
       "      <th>2015</th>\n",
       "      <th>2016</th>\n",
       "      <th>2017</th>\n",
       "      <th>2018</th>\n",
       "      <th>2019</th>\n",
       "      <th>2020</th>\n",
       "      <th>2021</th>\n",
       "      <th>2022</th>\n",
       "      <th>2023</th>\n",
       "    </tr>\n",
       "  </thead>\n",
       "  <tbody>\n",
       "    <tr>\n",
       "      <th>V Kohli</th>\n",
       "      <td>-1.012</td>\n",
       "      <td>-0.182</td>\n",
       "      <td>0.178</td>\n",
       "      <td>-0.137</td>\n",
       "      <td>-0.908</td>\n",
       "      <td>0.176</td>\n",
       "      <td>-0.672</td>\n",
       "      <td>-0.171</td>\n",
       "      <td>0.297</td>\n",
       "      <td>-0.924</td>\n",
       "      <td>-0.502</td>\n",
       "      <td>-0.338</td>\n",
       "      <td>-0.403</td>\n",
       "      <td>-0.202</td>\n",
       "      <td>-0.601</td>\n",
       "      <td>-0.719</td>\n",
       "    </tr>\n",
       "    <tr>\n",
       "      <th>S Dhawan</th>\n",
       "      <td>-1.655</td>\n",
       "      <td>-5.707</td>\n",
       "      <td>-1.786</td>\n",
       "      <td>0.004</td>\n",
       "      <td>0.378</td>\n",
       "      <td>-0.294</td>\n",
       "      <td>-0.718</td>\n",
       "      <td>-0.706</td>\n",
       "      <td>-0.563</td>\n",
       "      <td>-0.169</td>\n",
       "      <td>-0.444</td>\n",
       "      <td>-0.229</td>\n",
       "      <td>0.512</td>\n",
       "      <td>-0.191</td>\n",
       "      <td>-0.5</td>\n",
       "      <td>-0.294</td>\n",
       "    </tr>\n",
       "  </tbody>\n",
       "</table>\n",
       "</div>"
      ],
      "text/plain": [
       "             2008     2009     2010     2011     2012     2013     2014  \\\n",
       "V Kohli    -1.012   -0.182    0.178   -0.137   -0.908    0.176   -0.672   \n",
       "S Dhawan   -1.655   -5.707   -1.786    0.004    0.378   -0.294   -0.718   \n",
       "\n",
       "             2015     2016     2017     2018     2019     2020     2021  \\\n",
       "V Kohli    -0.171    0.297   -0.924   -0.502   -0.338   -0.403   -0.202   \n",
       "S Dhawan   -0.706   -0.563   -0.169   -0.444   -0.229    0.512   -0.191   \n",
       "\n",
       "             2022     2023  \n",
       "V Kohli    -0.601   -0.719  \n",
       "S Dhawan     -0.5   -0.294  "
      ]
     },
     "execution_count": 92,
     "metadata": {},
     "output_type": "execute_result"
    }
   ],
   "source": [
    "df_seasons_NVRR_v2.head(2)"
   ]
  },
  {
   "cell_type": "code",
   "execution_count": 93,
   "id": "7435089b",
   "metadata": {},
   "outputs": [],
   "source": [
    "# Convert all to numeric float values\n",
    "df_seasons_NVRR_v2 = df_seasons_NVRR_v2.apply(pd.to_numeric)"
   ]
  },
  {
   "cell_type": "code",
   "execution_count": 94,
   "id": "df06666b",
   "metadata": {},
   "outputs": [],
   "source": [
    "# Initial Heatmap\n",
    "\n",
    "# df_seasons_NVRR_v2.style.background_gradient(cmap ='hot')"
   ]
  },
  {
   "cell_type": "code",
   "execution_count": 95,
   "id": "c928e8c7",
   "metadata": {},
   "outputs": [],
   "source": [
    "# Re-indexing\n",
    "df_seasons_NVRR_v3 = df_seasons_NVRR_v2.reset_index()\n",
    "\n",
    "# Getting players column\n",
    "df_seasons_NVRR_v3.rename({'index':'Player'}, inplace=True, axis=1)"
   ]
  },
  {
   "cell_type": "code",
   "execution_count": 96,
   "id": "acb8d8ff",
   "metadata": {},
   "outputs": [
    {
     "data": {
      "text/html": [
       "<div>\n",
       "<style scoped>\n",
       "    .dataframe tbody tr th:only-of-type {\n",
       "        vertical-align: middle;\n",
       "    }\n",
       "\n",
       "    .dataframe tbody tr th {\n",
       "        vertical-align: top;\n",
       "    }\n",
       "\n",
       "    .dataframe thead th {\n",
       "        text-align: right;\n",
       "    }\n",
       "</style>\n",
       "<table border=\"1\" class=\"dataframe\">\n",
       "  <thead>\n",
       "    <tr style=\"text-align: right;\">\n",
       "      <th></th>\n",
       "      <th>Player</th>\n",
       "      <th>2008</th>\n",
       "      <th>2009</th>\n",
       "      <th>2010</th>\n",
       "      <th>2011</th>\n",
       "      <th>2012</th>\n",
       "      <th>2013</th>\n",
       "      <th>2014</th>\n",
       "      <th>2015</th>\n",
       "      <th>2016</th>\n",
       "      <th>2017</th>\n",
       "      <th>2018</th>\n",
       "      <th>2019</th>\n",
       "      <th>2020</th>\n",
       "      <th>2021</th>\n",
       "      <th>2022</th>\n",
       "      <th>2023</th>\n",
       "    </tr>\n",
       "  </thead>\n",
       "  <tbody>\n",
       "    <tr>\n",
       "      <th>0</th>\n",
       "      <td>V Kohli</td>\n",
       "      <td>-1.012</td>\n",
       "      <td>-0.182</td>\n",
       "      <td>0.178</td>\n",
       "      <td>-0.137</td>\n",
       "      <td>-0.908</td>\n",
       "      <td>0.176</td>\n",
       "      <td>-0.672</td>\n",
       "      <td>-0.171</td>\n",
       "      <td>0.297</td>\n",
       "      <td>-0.924</td>\n",
       "      <td>-0.502</td>\n",
       "      <td>-0.338</td>\n",
       "      <td>-0.403</td>\n",
       "      <td>-0.202</td>\n",
       "      <td>-0.601</td>\n",
       "      <td>-0.719</td>\n",
       "    </tr>\n",
       "    <tr>\n",
       "      <th>1</th>\n",
       "      <td>S Dhawan</td>\n",
       "      <td>-1.655</td>\n",
       "      <td>-5.707</td>\n",
       "      <td>-1.786</td>\n",
       "      <td>0.004</td>\n",
       "      <td>0.378</td>\n",
       "      <td>-0.294</td>\n",
       "      <td>-0.718</td>\n",
       "      <td>-0.706</td>\n",
       "      <td>-0.563</td>\n",
       "      <td>-0.169</td>\n",
       "      <td>-0.444</td>\n",
       "      <td>-0.229</td>\n",
       "      <td>0.512</td>\n",
       "      <td>-0.191</td>\n",
       "      <td>-0.500</td>\n",
       "      <td>-0.294</td>\n",
       "    </tr>\n",
       "  </tbody>\n",
       "</table>\n",
       "</div>"
      ],
      "text/plain": [
       "     Player   2008   2009   2010   2011   2012   2013   2014   2015   2016  \\\n",
       "0   V Kohli -1.012 -0.182  0.178 -0.137 -0.908  0.176 -0.672 -0.171  0.297   \n",
       "1  S Dhawan -1.655 -5.707 -1.786  0.004  0.378 -0.294 -0.718 -0.706 -0.563   \n",
       "\n",
       "    2017   2018   2019   2020   2021   2022   2023  \n",
       "0 -0.924 -0.502 -0.338 -0.403 -0.202 -0.601 -0.719  \n",
       "1 -0.169 -0.444 -0.229  0.512 -0.191 -0.500 -0.294  "
      ]
     },
     "execution_count": 96,
     "metadata": {},
     "output_type": "execute_result"
    }
   ],
   "source": [
    "df_seasons_NVRR_v3.head(2)"
   ]
  },
  {
   "cell_type": "code",
   "execution_count": 28,
   "id": "7e85dd42",
   "metadata": {},
   "outputs": [],
   "source": [
    "#Seaborn Heatmaps on v2 df\n",
    "\n",
    "# import seaborn as sns\n",
    "\n",
    "# sns.set_style('darkgrid')\n",
    "# sns.set(rc={'figure.figsize':(14,8)})\n",
    "\n",
    "# ax = sns.lineplot(data=df_seasons_NVRR_v3, x ='Player', y = df_seasons_NVRR_v3.columns,\n",
    "#                   hue='District', palette='viridis',\n",
    "#                   legend='full', lw=3)\n",
    "\n",
    "# ax.xaxis.set_major_locator(ticker.MultipleLocator(4))\n",
    "# plt.legend(bbox_to_anchor=(1, 1))\n",
    "# plt.ylabel('PM2.5 (µg/m3)')\n",
    "# plt.xlabel('Year-Month')\n",
    "# plt.show()\n",
    "\n",
    "# sns.heatmap(df_seasons_NVRR_v2, annot=True, cmap='hot')\n",
    "# plt.savefig('NVRR_heatmap.png')\n",
    "# plt.show()"
   ]
  },
  {
   "cell_type": "code",
   "execution_count": 97,
   "id": "49f29c7b",
   "metadata": {},
   "outputs": [
    {
     "data": {
      "text/html": [
       "<div>\n",
       "<style scoped>\n",
       "    .dataframe tbody tr th:only-of-type {\n",
       "        vertical-align: middle;\n",
       "    }\n",
       "\n",
       "    .dataframe tbody tr th {\n",
       "        vertical-align: top;\n",
       "    }\n",
       "\n",
       "    .dataframe thead th {\n",
       "        text-align: right;\n",
       "    }\n",
       "</style>\n",
       "<table border=\"1\" class=\"dataframe\">\n",
       "  <thead>\n",
       "    <tr style=\"text-align: right;\">\n",
       "      <th></th>\n",
       "      <th>striker</th>\n",
       "      <th>runs_off_bat</th>\n",
       "      <th>ball</th>\n",
       "      <th>match_id</th>\n",
       "    </tr>\n",
       "  </thead>\n",
       "  <tbody>\n",
       "    <tr>\n",
       "      <th>597</th>\n",
       "      <td>V Kohli</td>\n",
       "      <td>7273</td>\n",
       "      <td>5590</td>\n",
       "      <td>229</td>\n",
       "    </tr>\n",
       "    <tr>\n",
       "      <th>488</th>\n",
       "      <td>S Dhawan</td>\n",
       "      <td>6617</td>\n",
       "      <td>5205</td>\n",
       "      <td>216</td>\n",
       "    </tr>\n",
       "    <tr>\n",
       "      <th>138</th>\n",
       "      <td>DA Warner</td>\n",
       "      <td>6399</td>\n",
       "      <td>4577</td>\n",
       "      <td>176</td>\n",
       "    </tr>\n",
       "    <tr>\n",
       "      <th>455</th>\n",
       "      <td>RG Sharma</td>\n",
       "      <td>6213</td>\n",
       "      <td>4779</td>\n",
       "      <td>237</td>\n",
       "    </tr>\n",
       "    <tr>\n",
       "      <th>519</th>\n",
       "      <td>SK Raina</td>\n",
       "      <td>5536</td>\n",
       "      <td>4046</td>\n",
       "      <td>200</td>\n",
       "    </tr>\n",
       "  </tbody>\n",
       "</table>\n",
       "</div>"
      ],
      "text/plain": [
       "       striker  runs_off_bat  ball  match_id\n",
       "597    V Kohli          7273  5590       229\n",
       "488   S Dhawan          6617  5205       216\n",
       "138  DA Warner          6399  4577       176\n",
       "455  RG Sharma          6213  4779       237\n",
       "519   SK Raina          5536  4046       200"
      ]
     },
     "execution_count": 97,
     "metadata": {},
     "output_type": "execute_result"
    }
   ],
   "source": [
    "# Filling wides value coz in places where there are no wides, it is NULL by deafult so filling no wides with 0\n",
    "\n",
    "df_1.wides = df_1.wides.fillna(0)\n",
    "\n",
    "# Non wides run agg for total runs in the IPL till 2023 start\n",
    "df_1[df_1['wides']==0].groupby('striker').agg({'runs_off_bat':'sum', 'ball':'count','match_id':pd.Series.nunique}).reset_index().sort_values('runs_off_bat', ascending=False).head(5)"
   ]
  },
  {
   "cell_type": "code",
   "execution_count": 99,
   "id": "8be1f2c1",
   "metadata": {},
   "outputs": [
    {
     "data": {
      "text/plain": [
       "(256, 8)"
      ]
     },
     "execution_count": 99,
     "metadata": {},
     "output_type": "execute_result"
    }
   ],
   "source": [
    "# 350+ runs seasons info\n",
    "\n",
    "seasons_needed = merged3[merged3['striker'].isin(top_25_scorers)][merged3['runs_off_bat']>200]\n",
    "\n",
    "seasons_needed.shape"
   ]
  },
  {
   "cell_type": "code",
   "execution_count": 101,
   "id": "c03e4d26",
   "metadata": {},
   "outputs": [
    {
     "data": {
      "text/html": [
       "<div>\n",
       "<style scoped>\n",
       "    .dataframe tbody tr th:only-of-type {\n",
       "        vertical-align: middle;\n",
       "    }\n",
       "\n",
       "    .dataframe tbody tr th {\n",
       "        vertical-align: top;\n",
       "    }\n",
       "\n",
       "    .dataframe thead th {\n",
       "        text-align: right;\n",
       "    }\n",
       "</style>\n",
       "<table border=\"1\" class=\"dataframe\">\n",
       "  <thead>\n",
       "    <tr style=\"text-align: right;\">\n",
       "      <th></th>\n",
       "      <th>Player</th>\n",
       "      <th>season</th>\n",
       "      <th>NVRR</th>\n",
       "    </tr>\n",
       "  </thead>\n",
       "  <tbody>\n",
       "    <tr>\n",
       "      <th>0</th>\n",
       "      <td>V Kohli</td>\n",
       "      <td>2008</td>\n",
       "      <td>-1.012</td>\n",
       "    </tr>\n",
       "    <tr>\n",
       "      <th>1</th>\n",
       "      <td>S Dhawan</td>\n",
       "      <td>2008</td>\n",
       "      <td>-1.655</td>\n",
       "    </tr>\n",
       "    <tr>\n",
       "      <th>2</th>\n",
       "      <td>DA Warner</td>\n",
       "      <td>2008</td>\n",
       "      <td>0.000</td>\n",
       "    </tr>\n",
       "    <tr>\n",
       "      <th>3</th>\n",
       "      <td>RG Sharma</td>\n",
       "      <td>2008</td>\n",
       "      <td>-0.002</td>\n",
       "    </tr>\n",
       "    <tr>\n",
       "      <th>4</th>\n",
       "      <td>SK Raina</td>\n",
       "      <td>2008</td>\n",
       "      <td>0.474</td>\n",
       "    </tr>\n",
       "  </tbody>\n",
       "</table>\n",
       "</div>"
      ],
      "text/plain": [
       "      Player season   NVRR\n",
       "0    V Kohli   2008 -1.012\n",
       "1   S Dhawan   2008 -1.655\n",
       "2  DA Warner   2008  0.000\n",
       "3  RG Sharma   2008 -0.002\n",
       "4   SK Raina   2008  0.474"
      ]
     },
     "execution_count": 101,
     "metadata": {},
     "output_type": "execute_result"
    }
   ],
   "source": [
    "# Melting to Player, season, NVRR value\n",
    "\n",
    "melted = pd.melt(df_seasons_NVRR_v3, id_vars=['Player'])\n",
    "\n",
    "melted.rename({'variable':'season', 'value':'NVRR'}, axis=1, inplace=True)\n",
    "\n",
    "melted.head(5)"
   ]
  },
  {
   "cell_type": "code",
   "execution_count": 102,
   "id": "bd2437de",
   "metadata": {},
   "outputs": [],
   "source": [
    "# Renaming merged3 to join later\n",
    "\n",
    "merged3.rename({'striker':'Player'}, axis=1, inplace=True)"
   ]
  },
  {
   "cell_type": "code",
   "execution_count": 103,
   "id": "2b0bf639",
   "metadata": {},
   "outputs": [],
   "source": [
    "# Merging melted DF with merged3 to get a df with NVRR and other values together\n",
    "\n",
    "merged_top25 = pd.merge(melted, merged3, on=['Player', 'season'], how='left')\n",
    "\n",
    "final_df_v1 = merged_top25[merged_top25['runs_off_bat']>350][['Player', 'season', 'runs_off_bat', 'BpD', 'NVRR', 'SR']]"
   ]
  },
  {
   "cell_type": "code",
   "execution_count": 104,
   "id": "88e2bb8f",
   "metadata": {},
   "outputs": [
    {
     "data": {
      "text/plain": [
       "(156, 6)"
      ]
     },
     "execution_count": 104,
     "metadata": {},
     "output_type": "execute_result"
    }
   ],
   "source": [
    "final_df_v1.shape"
   ]
  },
  {
   "cell_type": "code",
   "execution_count": 105,
   "id": "4f1830e0",
   "metadata": {},
   "outputs": [],
   "source": [
    "final_df_v1['Name'] = list(zip(final_df_v1.Player, final_df_v1.season))"
   ]
  },
  {
   "cell_type": "code",
   "execution_count": 106,
   "id": "b3b66213",
   "metadata": {},
   "outputs": [
    {
     "data": {
      "text/html": [
       "<div>\n",
       "<style scoped>\n",
       "    .dataframe tbody tr th:only-of-type {\n",
       "        vertical-align: middle;\n",
       "    }\n",
       "\n",
       "    .dataframe tbody tr th {\n",
       "        vertical-align: top;\n",
       "    }\n",
       "\n",
       "    .dataframe thead th {\n",
       "        text-align: right;\n",
       "    }\n",
       "</style>\n",
       "<table border=\"1\" class=\"dataframe\">\n",
       "  <thead>\n",
       "    <tr style=\"text-align: right;\">\n",
       "      <th></th>\n",
       "      <th>Player</th>\n",
       "      <th>season</th>\n",
       "      <th>runs_off_bat</th>\n",
       "      <th>BpD</th>\n",
       "      <th>NVRR</th>\n",
       "      <th>SR</th>\n",
       "      <th>Name</th>\n",
       "    </tr>\n",
       "  </thead>\n",
       "  <tbody>\n",
       "    <tr>\n",
       "      <th>3</th>\n",
       "      <td>RG Sharma</td>\n",
       "      <td>2008</td>\n",
       "      <td>404.0</td>\n",
       "      <td>24.82</td>\n",
       "      <td>-0.002</td>\n",
       "      <td>147.99</td>\n",
       "      <td>(RG Sharma, 2008)</td>\n",
       "    </tr>\n",
       "    <tr>\n",
       "      <th>4</th>\n",
       "      <td>SK Raina</td>\n",
       "      <td>2008</td>\n",
       "      <td>421.0</td>\n",
       "      <td>26.82</td>\n",
       "      <td>0.474</td>\n",
       "      <td>142.71</td>\n",
       "      <td>(SK Raina, 2008)</td>\n",
       "    </tr>\n",
       "    <tr>\n",
       "      <th>6</th>\n",
       "      <td>MS Dhoni</td>\n",
       "      <td>2008</td>\n",
       "      <td>414.0</td>\n",
       "      <td>31.00</td>\n",
       "      <td>-0.331</td>\n",
       "      <td>133.55</td>\n",
       "      <td>(MS Dhoni, 2008)</td>\n",
       "    </tr>\n",
       "    <tr>\n",
       "      <th>12</th>\n",
       "      <td>G Gambhir</td>\n",
       "      <td>2008</td>\n",
       "      <td>534.0</td>\n",
       "      <td>29.15</td>\n",
       "      <td>-0.201</td>\n",
       "      <td>140.90</td>\n",
       "      <td>(G Gambhir, 2008)</td>\n",
       "    </tr>\n",
       "    <tr>\n",
       "      <th>16</th>\n",
       "      <td>SR Watson</td>\n",
       "      <td>2008</td>\n",
       "      <td>472.0</td>\n",
       "      <td>31.10</td>\n",
       "      <td>0.858</td>\n",
       "      <td>151.77</td>\n",
       "      <td>(SR Watson, 2008)</td>\n",
       "    </tr>\n",
       "  </tbody>\n",
       "</table>\n",
       "</div>"
      ],
      "text/plain": [
       "       Player season  runs_off_bat    BpD   NVRR      SR               Name\n",
       "3   RG Sharma   2008         404.0  24.82 -0.002  147.99  (RG Sharma, 2008)\n",
       "4    SK Raina   2008         421.0  26.82  0.474  142.71   (SK Raina, 2008)\n",
       "6    MS Dhoni   2008         414.0  31.00 -0.331  133.55   (MS Dhoni, 2008)\n",
       "12  G Gambhir   2008         534.0  29.15 -0.201  140.90  (G Gambhir, 2008)\n",
       "16  SR Watson   2008         472.0  31.10  0.858  151.77  (SR Watson, 2008)"
      ]
     },
     "execution_count": 106,
     "metadata": {},
     "output_type": "execute_result"
    }
   ],
   "source": [
    "final_df_v1.head(5)"
   ]
  },
  {
   "cell_type": "code",
   "execution_count": 108,
   "id": "fcb621ef",
   "metadata": {},
   "outputs": [
    {
     "data": {
      "application/vnd.plotly.v1+json": {
       "config": {
        "plotlyServerURL": "https://plot.ly"
       },
       "data": [
        {
         "hovertemplate": "BpD=%{x}<br>NVRR=%{y}<br>Player=%{text}<extra></extra>",
         "legendgroup": "",
         "marker": {
          "color": "#636efa",
          "symbol": "circle"
         },
         "mode": "markers+text",
         "name": "",
         "orientation": "v",
         "showlegend": false,
         "text": [
          "RG Sharma",
          "SK Raina",
          "MS Dhoni",
          "G Gambhir",
          "SR Watson",
          "YK Pathan",
          "RG Sharma",
          "SK Raina",
          "AB de Villiers",
          "RG Sharma",
          "SK Raina",
          "RV Uthappa",
          "AT Rayudu",
          "V Kohli",
          "S Dhawan",
          "RG Sharma",
          "SK Raina",
          "MS Dhoni",
          "CH Gayle",
          "AT Rayudu",
          "G Gambhir",
          "BB McCullum",
          "V Kohli",
          "S Dhawan",
          "RG Sharma",
          "SK Raina",
          "MS Dhoni",
          "CH Gayle",
          "RV Uthappa",
          "AM Rahane",
          "G Gambhir",
          "F du Plessis",
          "V Kohli",
          "DA Warner",
          "RG Sharma",
          "SK Raina",
          "AB de Villiers",
          "MS Dhoni",
          "CH Gayle",
          "RV Uthappa",
          "KD Karthik",
          "AM Rahane",
          "G Gambhir",
          "SR Watson",
          "KA Pollard",
          "V Kohli",
          "S Dhawan",
          "DA Warner",
          "RG Sharma",
          "SK Raina",
          "AB de Villiers",
          "MS Dhoni",
          "RV Uthappa",
          "AT Rayudu",
          "MK Pandey",
          "BB McCullum",
          "V Kohli",
          "S Dhawan",
          "DA Warner",
          "RG Sharma",
          "SK Raina",
          "AB de Villiers",
          "MS Dhoni",
          "CH Gayle",
          "RV Uthappa",
          "AM Rahane",
          "F du Plessis",
          "KA Pollard",
          "BB McCullum",
          "V Kohli",
          "S Dhawan",
          "DA Warner",
          "RG Sharma",
          "SK Raina",
          "AB de Villiers",
          "RV Uthappa",
          "AM Rahane",
          "G Gambhir",
          "KL Rahul",
          "YK Pathan",
          "Q de Kock",
          "BB McCullum",
          "S Dhawan",
          "DA Warner",
          "SK Raina",
          "RV Uthappa",
          "KD Karthik",
          "AM Rahane",
          "G Gambhir",
          "SV Samson",
          "MK Pandey",
          "KA Pollard",
          "RR Pant",
          "V Kohli",
          "S Dhawan",
          "SK Raina",
          "AB de Villiers",
          "MS Dhoni",
          "CH Gayle",
          "RV Uthappa",
          "KD Karthik",
          "AM Rahane",
          "AT Rayudu",
          "KL Rahul",
          "SV Samson",
          "SR Watson",
          "SA Yadav",
          "JC Buttler",
          "RR Pant",
          "V Kohli",
          "S Dhawan",
          "DA Warner",
          "RG Sharma",
          "SK Raina",
          "AB de Villiers",
          "MS Dhoni",
          "CH Gayle",
          "AM Rahane",
          "KL Rahul",
          "F du Plessis",
          "SR Watson",
          "SA Yadav",
          "Q de Kock",
          "RR Pant",
          "V Kohli",
          "S Dhawan",
          "DA Warner",
          "AB de Villiers",
          "AT Rayudu",
          "KL Rahul",
          "F du Plessis",
          "SV Samson",
          "MK Pandey",
          "SA Yadav",
          "Q de Kock",
          "V Kohli",
          "S Dhawan",
          "RG Sharma",
          "KL Rahul",
          "F du Plessis",
          "SV Samson",
          "RR Pant",
          "S Dhawan",
          "DA Warner",
          "KL Rahul",
          "F du Plessis",
          "SV Samson",
          "JC Buttler",
          "Q de Kock",
          "V Kohli",
          "S Dhawan",
          "DA Warner",
          "F du Plessis",
          "SV Samson",
          "SA Yadav",
          "JC Buttler"
         ],
         "textposition": "top center",
         "type": "scatter",
         "x": [
          24.82,
          26.82,
          31,
          29.15,
          31.1,
          17.36,
          24.23,
          22,
          39.44,
          21.57,
          30.58,
          18.17,
          18.92,
          38.33,
          25.83,
          27,
          23.21,
          27.44,
          36.89,
          25,
          28.82,
          21.15,
          25.08,
          31.36,
          24.43,
          19.12,
          23.17,
          38,
          22.87,
          30.93,
          25.69,
          25.33,
          32.79,
          23.14,
          29.21,
          28.08,
          22.3,
          25.73,
          38.25,
          23.19,
          22.83,
          32.71,
          21.44,
          27.14,
          28.1,
          22.62,
          24.54,
          34.09,
          23.23,
          27.62,
          22.64,
          50,
          31.93,
          20.5,
          26.38,
          25.62,
          35.09,
          22,
          27.62,
          23.79,
          20.33,
          26.64,
          25.42,
          27.75,
          23.08,
          37.55,
          23.38,
          23.27,
          21.54,
          53.33,
          33,
          40,
          33.45,
          22.29,
          31.31,
          19.27,
          34.45,
          31.62,
          30.11,
          49.6,
          27.25,
          16.38,
          28.92,
          41.09,
          27.91,
          18.08,
          25.9,
          21.53,
          32.42,
          19.5,
          38.5,
          19.93,
          15.79,
          34.64,
          25.93,
          28,
          30.56,
          50.33,
          28,
          16.56,
          33.7,
          24.08,
          28.71,
          34.67,
          22.86,
          25.64,
          27.43,
          35.3,
          30.31,
          23.43,
          25.6,
          48.1,
          22.5,
          19.62,
          28.7,
          61.8,
          26.58,
          23.75,
          39.82,
          29.18,
          18.35,
          24.92,
          26.53,
          23.38,
          35.09,
          30.5,
          27.2,
          29,
          31.33,
          37.43,
          29,
          18.15,
          25.62,
          27.58,
          24.07,
          24.21,
          31.53,
          23,
          45.1,
          32.71,
          29.5,
          27.5,
          31.25,
          31.89,
          37.92,
          24.47,
          19.5,
          38.6,
          24.36,
          38.08,
          29,
          28,
          36.54,
          19.67,
          23.86,
          20.14
         ],
         "xaxis": "x",
         "y": [
          -0.002,
          0.474,
          -0.331,
          -0.201,
          0.858,
          2.016,
          -0.358,
          0.71,
          0.399,
          0.107,
          0.576,
          2.05,
          0.287,
          -0.137,
          0.004,
          -0.095,
          -0.057,
          1.452,
          2.273,
          -0.4,
          -0.682,
          0.118,
          -0.908,
          0.378,
          -0.425,
          0.056,
          0.139,
          1.289,
          -0.134,
          -0.368,
          0.469,
          0.121,
          0.176,
          -0.527,
          0.013,
          -0.19,
          1.206,
          1.257,
          0.712,
          -0.244,
          -0.539,
          -0.625,
          -0.392,
          0.539,
          0.944,
          -0.672,
          -0.718,
          0.188,
          0,
          0.407,
          0.555,
          0.916,
          0.033,
          -0.364,
          -0.677,
          -0.299,
          -0.171,
          -0.706,
          0.831,
          0.483,
          -0.573,
          0.488,
          -0.392,
          0.767,
          0.059,
          -0.087,
          -0.237,
          0.596,
          1.32,
          0.297,
          -0.563,
          0.875,
          -0.523,
          -0.569,
          0.831,
          -0.422,
          -0.979,
          -0.344,
          0.17,
          0.704,
          0.182,
          -0.298,
          -0.169,
          0.55,
          -0.482,
          0.188,
          -0.262,
          -1.048,
          -0.288,
          -0.017,
          -0.397,
          0.14,
          0.174,
          -0.502,
          -0.444,
          -0.296,
          0.214,
          0.277,
          -0.957,
          -0.651,
          0.409,
          -0.702,
          0.113,
          0.697,
          -0.298,
          0.515,
          0.223,
          0.725,
          1.382,
          -0.338,
          -0.229,
          0.487,
          -0.393,
          -0.505,
          0.262,
          -0.435,
          0.592,
          -0.491,
          -0.486,
          -0.558,
          -0.276,
          -0.094,
          -0.435,
          0.823,
          -0.403,
          0.512,
          0.071,
          1.161,
          0.002,
          -0.112,
          0.395,
          0.853,
          -0.124,
          0.363,
          0.338,
          -0.202,
          -0.191,
          -0.037,
          0.37,
          0.25,
          -0.268,
          0.139,
          -0.5,
          0.572,
          -0.252,
          -0.85,
          0.409,
          0.475,
          0.333,
          -0.719,
          -0.294,
          -0.665,
          0.471,
          -0.394,
          0.663,
          -1.669
         ],
         "yaxis": "y"
        }
       ],
       "layout": {
        "legend": {
         "tracegroupgap": 0
        },
        "margin": {
         "t": 60
        },
        "shapes": [
         {
          "type": "line",
          "x0": 0,
          "x1": 1,
          "xref": "x domain",
          "y0": 0,
          "y1": 0,
          "yref": "y"
         },
         {
          "type": "line",
          "x0": 20,
          "x1": 20,
          "xref": "x",
          "y0": 0,
          "y1": 1,
          "yref": "y domain"
         }
        ],
        "template": {
         "data": {
          "bar": [
           {
            "error_x": {
             "color": "#2a3f5f"
            },
            "error_y": {
             "color": "#2a3f5f"
            },
            "marker": {
             "line": {
              "color": "#E5ECF6",
              "width": 0.5
             },
             "pattern": {
              "fillmode": "overlay",
              "size": 10,
              "solidity": 0.2
             }
            },
            "type": "bar"
           }
          ],
          "barpolar": [
           {
            "marker": {
             "line": {
              "color": "#E5ECF6",
              "width": 0.5
             },
             "pattern": {
              "fillmode": "overlay",
              "size": 10,
              "solidity": 0.2
             }
            },
            "type": "barpolar"
           }
          ],
          "carpet": [
           {
            "aaxis": {
             "endlinecolor": "#2a3f5f",
             "gridcolor": "white",
             "linecolor": "white",
             "minorgridcolor": "white",
             "startlinecolor": "#2a3f5f"
            },
            "baxis": {
             "endlinecolor": "#2a3f5f",
             "gridcolor": "white",
             "linecolor": "white",
             "minorgridcolor": "white",
             "startlinecolor": "#2a3f5f"
            },
            "type": "carpet"
           }
          ],
          "choropleth": [
           {
            "colorbar": {
             "outlinewidth": 0,
             "ticks": ""
            },
            "type": "choropleth"
           }
          ],
          "contour": [
           {
            "colorbar": {
             "outlinewidth": 0,
             "ticks": ""
            },
            "colorscale": [
             [
              0,
              "#0d0887"
             ],
             [
              0.1111111111111111,
              "#46039f"
             ],
             [
              0.2222222222222222,
              "#7201a8"
             ],
             [
              0.3333333333333333,
              "#9c179e"
             ],
             [
              0.4444444444444444,
              "#bd3786"
             ],
             [
              0.5555555555555556,
              "#d8576b"
             ],
             [
              0.6666666666666666,
              "#ed7953"
             ],
             [
              0.7777777777777778,
              "#fb9f3a"
             ],
             [
              0.8888888888888888,
              "#fdca26"
             ],
             [
              1,
              "#f0f921"
             ]
            ],
            "type": "contour"
           }
          ],
          "contourcarpet": [
           {
            "colorbar": {
             "outlinewidth": 0,
             "ticks": ""
            },
            "type": "contourcarpet"
           }
          ],
          "heatmap": [
           {
            "colorbar": {
             "outlinewidth": 0,
             "ticks": ""
            },
            "colorscale": [
             [
              0,
              "#0d0887"
             ],
             [
              0.1111111111111111,
              "#46039f"
             ],
             [
              0.2222222222222222,
              "#7201a8"
             ],
             [
              0.3333333333333333,
              "#9c179e"
             ],
             [
              0.4444444444444444,
              "#bd3786"
             ],
             [
              0.5555555555555556,
              "#d8576b"
             ],
             [
              0.6666666666666666,
              "#ed7953"
             ],
             [
              0.7777777777777778,
              "#fb9f3a"
             ],
             [
              0.8888888888888888,
              "#fdca26"
             ],
             [
              1,
              "#f0f921"
             ]
            ],
            "type": "heatmap"
           }
          ],
          "heatmapgl": [
           {
            "colorbar": {
             "outlinewidth": 0,
             "ticks": ""
            },
            "colorscale": [
             [
              0,
              "#0d0887"
             ],
             [
              0.1111111111111111,
              "#46039f"
             ],
             [
              0.2222222222222222,
              "#7201a8"
             ],
             [
              0.3333333333333333,
              "#9c179e"
             ],
             [
              0.4444444444444444,
              "#bd3786"
             ],
             [
              0.5555555555555556,
              "#d8576b"
             ],
             [
              0.6666666666666666,
              "#ed7953"
             ],
             [
              0.7777777777777778,
              "#fb9f3a"
             ],
             [
              0.8888888888888888,
              "#fdca26"
             ],
             [
              1,
              "#f0f921"
             ]
            ],
            "type": "heatmapgl"
           }
          ],
          "histogram": [
           {
            "marker": {
             "pattern": {
              "fillmode": "overlay",
              "size": 10,
              "solidity": 0.2
             }
            },
            "type": "histogram"
           }
          ],
          "histogram2d": [
           {
            "colorbar": {
             "outlinewidth": 0,
             "ticks": ""
            },
            "colorscale": [
             [
              0,
              "#0d0887"
             ],
             [
              0.1111111111111111,
              "#46039f"
             ],
             [
              0.2222222222222222,
              "#7201a8"
             ],
             [
              0.3333333333333333,
              "#9c179e"
             ],
             [
              0.4444444444444444,
              "#bd3786"
             ],
             [
              0.5555555555555556,
              "#d8576b"
             ],
             [
              0.6666666666666666,
              "#ed7953"
             ],
             [
              0.7777777777777778,
              "#fb9f3a"
             ],
             [
              0.8888888888888888,
              "#fdca26"
             ],
             [
              1,
              "#f0f921"
             ]
            ],
            "type": "histogram2d"
           }
          ],
          "histogram2dcontour": [
           {
            "colorbar": {
             "outlinewidth": 0,
             "ticks": ""
            },
            "colorscale": [
             [
              0,
              "#0d0887"
             ],
             [
              0.1111111111111111,
              "#46039f"
             ],
             [
              0.2222222222222222,
              "#7201a8"
             ],
             [
              0.3333333333333333,
              "#9c179e"
             ],
             [
              0.4444444444444444,
              "#bd3786"
             ],
             [
              0.5555555555555556,
              "#d8576b"
             ],
             [
              0.6666666666666666,
              "#ed7953"
             ],
             [
              0.7777777777777778,
              "#fb9f3a"
             ],
             [
              0.8888888888888888,
              "#fdca26"
             ],
             [
              1,
              "#f0f921"
             ]
            ],
            "type": "histogram2dcontour"
           }
          ],
          "mesh3d": [
           {
            "colorbar": {
             "outlinewidth": 0,
             "ticks": ""
            },
            "type": "mesh3d"
           }
          ],
          "parcoords": [
           {
            "line": {
             "colorbar": {
              "outlinewidth": 0,
              "ticks": ""
             }
            },
            "type": "parcoords"
           }
          ],
          "pie": [
           {
            "automargin": true,
            "type": "pie"
           }
          ],
          "scatter": [
           {
            "fillpattern": {
             "fillmode": "overlay",
             "size": 10,
             "solidity": 0.2
            },
            "type": "scatter"
           }
          ],
          "scatter3d": [
           {
            "line": {
             "colorbar": {
              "outlinewidth": 0,
              "ticks": ""
             }
            },
            "marker": {
             "colorbar": {
              "outlinewidth": 0,
              "ticks": ""
             }
            },
            "type": "scatter3d"
           }
          ],
          "scattercarpet": [
           {
            "marker": {
             "colorbar": {
              "outlinewidth": 0,
              "ticks": ""
             }
            },
            "type": "scattercarpet"
           }
          ],
          "scattergeo": [
           {
            "marker": {
             "colorbar": {
              "outlinewidth": 0,
              "ticks": ""
             }
            },
            "type": "scattergeo"
           }
          ],
          "scattergl": [
           {
            "marker": {
             "colorbar": {
              "outlinewidth": 0,
              "ticks": ""
             }
            },
            "type": "scattergl"
           }
          ],
          "scattermapbox": [
           {
            "marker": {
             "colorbar": {
              "outlinewidth": 0,
              "ticks": ""
             }
            },
            "type": "scattermapbox"
           }
          ],
          "scatterpolar": [
           {
            "marker": {
             "colorbar": {
              "outlinewidth": 0,
              "ticks": ""
             }
            },
            "type": "scatterpolar"
           }
          ],
          "scatterpolargl": [
           {
            "marker": {
             "colorbar": {
              "outlinewidth": 0,
              "ticks": ""
             }
            },
            "type": "scatterpolargl"
           }
          ],
          "scatterternary": [
           {
            "marker": {
             "colorbar": {
              "outlinewidth": 0,
              "ticks": ""
             }
            },
            "type": "scatterternary"
           }
          ],
          "surface": [
           {
            "colorbar": {
             "outlinewidth": 0,
             "ticks": ""
            },
            "colorscale": [
             [
              0,
              "#0d0887"
             ],
             [
              0.1111111111111111,
              "#46039f"
             ],
             [
              0.2222222222222222,
              "#7201a8"
             ],
             [
              0.3333333333333333,
              "#9c179e"
             ],
             [
              0.4444444444444444,
              "#bd3786"
             ],
             [
              0.5555555555555556,
              "#d8576b"
             ],
             [
              0.6666666666666666,
              "#ed7953"
             ],
             [
              0.7777777777777778,
              "#fb9f3a"
             ],
             [
              0.8888888888888888,
              "#fdca26"
             ],
             [
              1,
              "#f0f921"
             ]
            ],
            "type": "surface"
           }
          ],
          "table": [
           {
            "cells": {
             "fill": {
              "color": "#EBF0F8"
             },
             "line": {
              "color": "white"
             }
            },
            "header": {
             "fill": {
              "color": "#C8D4E3"
             },
             "line": {
              "color": "white"
             }
            },
            "type": "table"
           }
          ]
         },
         "layout": {
          "annotationdefaults": {
           "arrowcolor": "#2a3f5f",
           "arrowhead": 0,
           "arrowwidth": 1
          },
          "autotypenumbers": "strict",
          "coloraxis": {
           "colorbar": {
            "outlinewidth": 0,
            "ticks": ""
           }
          },
          "colorscale": {
           "diverging": [
            [
             0,
             "#8e0152"
            ],
            [
             0.1,
             "#c51b7d"
            ],
            [
             0.2,
             "#de77ae"
            ],
            [
             0.3,
             "#f1b6da"
            ],
            [
             0.4,
             "#fde0ef"
            ],
            [
             0.5,
             "#f7f7f7"
            ],
            [
             0.6,
             "#e6f5d0"
            ],
            [
             0.7,
             "#b8e186"
            ],
            [
             0.8,
             "#7fbc41"
            ],
            [
             0.9,
             "#4d9221"
            ],
            [
             1,
             "#276419"
            ]
           ],
           "sequential": [
            [
             0,
             "#0d0887"
            ],
            [
             0.1111111111111111,
             "#46039f"
            ],
            [
             0.2222222222222222,
             "#7201a8"
            ],
            [
             0.3333333333333333,
             "#9c179e"
            ],
            [
             0.4444444444444444,
             "#bd3786"
            ],
            [
             0.5555555555555556,
             "#d8576b"
            ],
            [
             0.6666666666666666,
             "#ed7953"
            ],
            [
             0.7777777777777778,
             "#fb9f3a"
            ],
            [
             0.8888888888888888,
             "#fdca26"
            ],
            [
             1,
             "#f0f921"
            ]
           ],
           "sequentialminus": [
            [
             0,
             "#0d0887"
            ],
            [
             0.1111111111111111,
             "#46039f"
            ],
            [
             0.2222222222222222,
             "#7201a8"
            ],
            [
             0.3333333333333333,
             "#9c179e"
            ],
            [
             0.4444444444444444,
             "#bd3786"
            ],
            [
             0.5555555555555556,
             "#d8576b"
            ],
            [
             0.6666666666666666,
             "#ed7953"
            ],
            [
             0.7777777777777778,
             "#fb9f3a"
            ],
            [
             0.8888888888888888,
             "#fdca26"
            ],
            [
             1,
             "#f0f921"
            ]
           ]
          },
          "colorway": [
           "#636efa",
           "#EF553B",
           "#00cc96",
           "#ab63fa",
           "#FFA15A",
           "#19d3f3",
           "#FF6692",
           "#B6E880",
           "#FF97FF",
           "#FECB52"
          ],
          "font": {
           "color": "#2a3f5f"
          },
          "geo": {
           "bgcolor": "white",
           "lakecolor": "white",
           "landcolor": "#E5ECF6",
           "showlakes": true,
           "showland": true,
           "subunitcolor": "white"
          },
          "hoverlabel": {
           "align": "left"
          },
          "hovermode": "closest",
          "mapbox": {
           "style": "light"
          },
          "paper_bgcolor": "white",
          "plot_bgcolor": "#E5ECF6",
          "polar": {
           "angularaxis": {
            "gridcolor": "white",
            "linecolor": "white",
            "ticks": ""
           },
           "bgcolor": "#E5ECF6",
           "radialaxis": {
            "gridcolor": "white",
            "linecolor": "white",
            "ticks": ""
           }
          },
          "scene": {
           "xaxis": {
            "backgroundcolor": "#E5ECF6",
            "gridcolor": "white",
            "gridwidth": 2,
            "linecolor": "white",
            "showbackground": true,
            "ticks": "",
            "zerolinecolor": "white"
           },
           "yaxis": {
            "backgroundcolor": "#E5ECF6",
            "gridcolor": "white",
            "gridwidth": 2,
            "linecolor": "white",
            "showbackground": true,
            "ticks": "",
            "zerolinecolor": "white"
           },
           "zaxis": {
            "backgroundcolor": "#E5ECF6",
            "gridcolor": "white",
            "gridwidth": 2,
            "linecolor": "white",
            "showbackground": true,
            "ticks": "",
            "zerolinecolor": "white"
           }
          },
          "shapedefaults": {
           "line": {
            "color": "#2a3f5f"
           }
          },
          "ternary": {
           "aaxis": {
            "gridcolor": "white",
            "linecolor": "white",
            "ticks": ""
           },
           "baxis": {
            "gridcolor": "white",
            "linecolor": "white",
            "ticks": ""
           },
           "bgcolor": "#E5ECF6",
           "caxis": {
            "gridcolor": "white",
            "linecolor": "white",
            "ticks": ""
           }
          },
          "title": {
           "x": 0.05
          },
          "xaxis": {
           "automargin": true,
           "gridcolor": "white",
           "linecolor": "white",
           "ticks": "",
           "title": {
            "standoff": 15
           },
           "zerolinecolor": "white",
           "zerolinewidth": 2
          },
          "yaxis": {
           "automargin": true,
           "gridcolor": "white",
           "linecolor": "white",
           "ticks": "",
           "title": {
            "standoff": 15
           },
           "zerolinecolor": "white",
           "zerolinewidth": 2
          }
         }
        },
        "xaxis": {
         "anchor": "y",
         "domain": [
          0,
          1
         ],
         "title": {
          "text": "BpD"
         }
        },
        "yaxis": {
         "anchor": "x",
         "domain": [
          0,
          1
         ],
         "title": {
          "text": "NVRR"
         }
        }
       }
      },
      "text/html": [
       "<div>                            <div id=\"fd721700-b7cc-419b-ad6c-fe8cf65790c3\" class=\"plotly-graph-div\" style=\"height:525px; width:100%;\"></div>            <script type=\"text/javascript\">                require([\"plotly\"], function(Plotly) {                    window.PLOTLYENV=window.PLOTLYENV || {};                                    if (document.getElementById(\"fd721700-b7cc-419b-ad6c-fe8cf65790c3\")) {                    Plotly.newPlot(                        \"fd721700-b7cc-419b-ad6c-fe8cf65790c3\",                        [{\"hovertemplate\":\"BpD=%{x}<br>NVRR=%{y}<br>Player=%{text}<extra></extra>\",\"legendgroup\":\"\",\"marker\":{\"color\":\"#636efa\",\"symbol\":\"circle\"},\"mode\":\"markers+text\",\"name\":\"\",\"orientation\":\"v\",\"showlegend\":false,\"text\":[\"RG Sharma\",\"SK Raina\",\"MS Dhoni\",\"G Gambhir\",\"SR Watson\",\"YK Pathan\",\"RG Sharma\",\"SK Raina\",\"AB de Villiers\",\"RG Sharma\",\"SK Raina\",\"RV Uthappa\",\"AT Rayudu\",\"V Kohli\",\"S Dhawan\",\"RG Sharma\",\"SK Raina\",\"MS Dhoni\",\"CH Gayle\",\"AT Rayudu\",\"G Gambhir\",\"BB McCullum\",\"V Kohli\",\"S Dhawan\",\"RG Sharma\",\"SK Raina\",\"MS Dhoni\",\"CH Gayle\",\"RV Uthappa\",\"AM Rahane\",\"G Gambhir\",\"F du Plessis\",\"V Kohli\",\"DA Warner\",\"RG Sharma\",\"SK Raina\",\"AB de Villiers\",\"MS Dhoni\",\"CH Gayle\",\"RV Uthappa\",\"KD Karthik\",\"AM Rahane\",\"G Gambhir\",\"SR Watson\",\"KA Pollard\",\"V Kohli\",\"S Dhawan\",\"DA Warner\",\"RG Sharma\",\"SK Raina\",\"AB de Villiers\",\"MS Dhoni\",\"RV Uthappa\",\"AT Rayudu\",\"MK Pandey\",\"BB McCullum\",\"V Kohli\",\"S Dhawan\",\"DA Warner\",\"RG Sharma\",\"SK Raina\",\"AB de Villiers\",\"MS Dhoni\",\"CH Gayle\",\"RV Uthappa\",\"AM Rahane\",\"F du Plessis\",\"KA Pollard\",\"BB McCullum\",\"V Kohli\",\"S Dhawan\",\"DA Warner\",\"RG Sharma\",\"SK Raina\",\"AB de Villiers\",\"RV Uthappa\",\"AM Rahane\",\"G Gambhir\",\"KL Rahul\",\"YK Pathan\",\"Q de Kock\",\"BB McCullum\",\"S Dhawan\",\"DA Warner\",\"SK Raina\",\"RV Uthappa\",\"KD Karthik\",\"AM Rahane\",\"G Gambhir\",\"SV Samson\",\"MK Pandey\",\"KA Pollard\",\"RR Pant\",\"V Kohli\",\"S Dhawan\",\"SK Raina\",\"AB de Villiers\",\"MS Dhoni\",\"CH Gayle\",\"RV Uthappa\",\"KD Karthik\",\"AM Rahane\",\"AT Rayudu\",\"KL Rahul\",\"SV Samson\",\"SR Watson\",\"SA Yadav\",\"JC Buttler\",\"RR Pant\",\"V Kohli\",\"S Dhawan\",\"DA Warner\",\"RG Sharma\",\"SK Raina\",\"AB de Villiers\",\"MS Dhoni\",\"CH Gayle\",\"AM Rahane\",\"KL Rahul\",\"F du Plessis\",\"SR Watson\",\"SA Yadav\",\"Q de Kock\",\"RR Pant\",\"V Kohli\",\"S Dhawan\",\"DA Warner\",\"AB de Villiers\",\"AT Rayudu\",\"KL Rahul\",\"F du Plessis\",\"SV Samson\",\"MK Pandey\",\"SA Yadav\",\"Q de Kock\",\"V Kohli\",\"S Dhawan\",\"RG Sharma\",\"KL Rahul\",\"F du Plessis\",\"SV Samson\",\"RR Pant\",\"S Dhawan\",\"DA Warner\",\"KL Rahul\",\"F du Plessis\",\"SV Samson\",\"JC Buttler\",\"Q de Kock\",\"V Kohli\",\"S Dhawan\",\"DA Warner\",\"F du Plessis\",\"SV Samson\",\"SA Yadav\",\"JC Buttler\"],\"x\":[24.82,26.82,31.0,29.15,31.1,17.36,24.23,22.0,39.44,21.57,30.58,18.17,18.92,38.33,25.83,27.0,23.21,27.44,36.89,25.0,28.82,21.15,25.08,31.36,24.43,19.12,23.17,38.0,22.87,30.93,25.69,25.33,32.79,23.14,29.21,28.08,22.3,25.73,38.25,23.19,22.83,32.71,21.44,27.14,28.1,22.62,24.54,34.09,23.23,27.62,22.64,50.0,31.93,20.5,26.38,25.62,35.09,22.0,27.62,23.79,20.33,26.64,25.42,27.75,23.08,37.55,23.38,23.27,21.54,53.33,33.0,40.0,33.45,22.29,31.31,19.27,34.45,31.62,30.11,49.6,27.25,16.38,28.92,41.09,27.91,18.08,25.9,21.53,32.42,19.5,38.5,19.93,15.79,34.64,25.93,28.0,30.56,50.33,28.0,16.56,33.7,24.08,28.71,34.67,22.86,25.64,27.43,35.3,30.31,23.43,25.6,48.1,22.5,19.62,28.7,61.8,26.58,23.75,39.82,29.18,18.35,24.92,26.53,23.38,35.09,30.5,27.2,29.0,31.33,37.43,29.0,18.15,25.62,27.58,24.07,24.21,31.53,23.0,45.1,32.71,29.5,27.5,31.25,31.89,37.92,24.47,19.5,38.6,24.36,38.08,29.0,28.0,36.54,19.67,23.86,20.14],\"xaxis\":\"x\",\"y\":[-0.002,0.474,-0.331,-0.201,0.858,2.016,-0.358,0.71,0.399,0.107,0.576,2.05,0.287,-0.137,0.004,-0.095,-0.057,1.452,2.273,-0.4,-0.682,0.118,-0.908,0.378,-0.425,0.056,0.139,1.289,-0.134,-0.368,0.469,0.121,0.176,-0.527,0.013,-0.19,1.206,1.257,0.712,-0.244,-0.539,-0.625,-0.392,0.539,0.944,-0.672,-0.718,0.188,-0.0,0.407,0.555,0.916,0.033,-0.364,-0.677,-0.299,-0.171,-0.706,0.831,0.483,-0.573,0.488,-0.392,0.767,0.059,-0.087,-0.237,0.596,1.32,0.297,-0.563,0.875,-0.523,-0.569,0.831,-0.422,-0.979,-0.344,0.17,0.704,0.182,-0.298,-0.169,0.55,-0.482,0.188,-0.262,-1.048,-0.288,-0.017,-0.397,0.14,0.174,-0.502,-0.444,-0.296,0.214,0.277,-0.957,-0.651,0.409,-0.702,0.113,0.697,-0.298,0.515,0.223,0.725,1.382,-0.338,-0.229,0.487,-0.393,-0.505,0.262,-0.435,0.592,-0.491,-0.486,-0.558,-0.276,-0.094,-0.435,0.823,-0.403,0.512,0.071,1.161,0.002,-0.112,0.395,0.853,-0.124,0.363,0.338,-0.202,-0.191,-0.037,0.37,0.25,-0.268,0.139,-0.5,0.572,-0.252,-0.85,0.409,0.475,0.333,-0.719,-0.294,-0.665,0.471,-0.394,0.663,-1.669],\"yaxis\":\"y\",\"type\":\"scatter\",\"textposition\":\"top center\"}],                        {\"template\":{\"data\":{\"histogram2dcontour\":[{\"type\":\"histogram2dcontour\",\"colorbar\":{\"outlinewidth\":0,\"ticks\":\"\"},\"colorscale\":[[0.0,\"#0d0887\"],[0.1111111111111111,\"#46039f\"],[0.2222222222222222,\"#7201a8\"],[0.3333333333333333,\"#9c179e\"],[0.4444444444444444,\"#bd3786\"],[0.5555555555555556,\"#d8576b\"],[0.6666666666666666,\"#ed7953\"],[0.7777777777777778,\"#fb9f3a\"],[0.8888888888888888,\"#fdca26\"],[1.0,\"#f0f921\"]]}],\"choropleth\":[{\"type\":\"choropleth\",\"colorbar\":{\"outlinewidth\":0,\"ticks\":\"\"}}],\"histogram2d\":[{\"type\":\"histogram2d\",\"colorbar\":{\"outlinewidth\":0,\"ticks\":\"\"},\"colorscale\":[[0.0,\"#0d0887\"],[0.1111111111111111,\"#46039f\"],[0.2222222222222222,\"#7201a8\"],[0.3333333333333333,\"#9c179e\"],[0.4444444444444444,\"#bd3786\"],[0.5555555555555556,\"#d8576b\"],[0.6666666666666666,\"#ed7953\"],[0.7777777777777778,\"#fb9f3a\"],[0.8888888888888888,\"#fdca26\"],[1.0,\"#f0f921\"]]}],\"heatmap\":[{\"type\":\"heatmap\",\"colorbar\":{\"outlinewidth\":0,\"ticks\":\"\"},\"colorscale\":[[0.0,\"#0d0887\"],[0.1111111111111111,\"#46039f\"],[0.2222222222222222,\"#7201a8\"],[0.3333333333333333,\"#9c179e\"],[0.4444444444444444,\"#bd3786\"],[0.5555555555555556,\"#d8576b\"],[0.6666666666666666,\"#ed7953\"],[0.7777777777777778,\"#fb9f3a\"],[0.8888888888888888,\"#fdca26\"],[1.0,\"#f0f921\"]]}],\"heatmapgl\":[{\"type\":\"heatmapgl\",\"colorbar\":{\"outlinewidth\":0,\"ticks\":\"\"},\"colorscale\":[[0.0,\"#0d0887\"],[0.1111111111111111,\"#46039f\"],[0.2222222222222222,\"#7201a8\"],[0.3333333333333333,\"#9c179e\"],[0.4444444444444444,\"#bd3786\"],[0.5555555555555556,\"#d8576b\"],[0.6666666666666666,\"#ed7953\"],[0.7777777777777778,\"#fb9f3a\"],[0.8888888888888888,\"#fdca26\"],[1.0,\"#f0f921\"]]}],\"contourcarpet\":[{\"type\":\"contourcarpet\",\"colorbar\":{\"outlinewidth\":0,\"ticks\":\"\"}}],\"contour\":[{\"type\":\"contour\",\"colorbar\":{\"outlinewidth\":0,\"ticks\":\"\"},\"colorscale\":[[0.0,\"#0d0887\"],[0.1111111111111111,\"#46039f\"],[0.2222222222222222,\"#7201a8\"],[0.3333333333333333,\"#9c179e\"],[0.4444444444444444,\"#bd3786\"],[0.5555555555555556,\"#d8576b\"],[0.6666666666666666,\"#ed7953\"],[0.7777777777777778,\"#fb9f3a\"],[0.8888888888888888,\"#fdca26\"],[1.0,\"#f0f921\"]]}],\"surface\":[{\"type\":\"surface\",\"colorbar\":{\"outlinewidth\":0,\"ticks\":\"\"},\"colorscale\":[[0.0,\"#0d0887\"],[0.1111111111111111,\"#46039f\"],[0.2222222222222222,\"#7201a8\"],[0.3333333333333333,\"#9c179e\"],[0.4444444444444444,\"#bd3786\"],[0.5555555555555556,\"#d8576b\"],[0.6666666666666666,\"#ed7953\"],[0.7777777777777778,\"#fb9f3a\"],[0.8888888888888888,\"#fdca26\"],[1.0,\"#f0f921\"]]}],\"mesh3d\":[{\"type\":\"mesh3d\",\"colorbar\":{\"outlinewidth\":0,\"ticks\":\"\"}}],\"scatter\":[{\"fillpattern\":{\"fillmode\":\"overlay\",\"size\":10,\"solidity\":0.2},\"type\":\"scatter\"}],\"parcoords\":[{\"type\":\"parcoords\",\"line\":{\"colorbar\":{\"outlinewidth\":0,\"ticks\":\"\"}}}],\"scatterpolargl\":[{\"type\":\"scatterpolargl\",\"marker\":{\"colorbar\":{\"outlinewidth\":0,\"ticks\":\"\"}}}],\"bar\":[{\"error_x\":{\"color\":\"#2a3f5f\"},\"error_y\":{\"color\":\"#2a3f5f\"},\"marker\":{\"line\":{\"color\":\"#E5ECF6\",\"width\":0.5},\"pattern\":{\"fillmode\":\"overlay\",\"size\":10,\"solidity\":0.2}},\"type\":\"bar\"}],\"scattergeo\":[{\"type\":\"scattergeo\",\"marker\":{\"colorbar\":{\"outlinewidth\":0,\"ticks\":\"\"}}}],\"scatterpolar\":[{\"type\":\"scatterpolar\",\"marker\":{\"colorbar\":{\"outlinewidth\":0,\"ticks\":\"\"}}}],\"histogram\":[{\"marker\":{\"pattern\":{\"fillmode\":\"overlay\",\"size\":10,\"solidity\":0.2}},\"type\":\"histogram\"}],\"scattergl\":[{\"type\":\"scattergl\",\"marker\":{\"colorbar\":{\"outlinewidth\":0,\"ticks\":\"\"}}}],\"scatter3d\":[{\"type\":\"scatter3d\",\"line\":{\"colorbar\":{\"outlinewidth\":0,\"ticks\":\"\"}},\"marker\":{\"colorbar\":{\"outlinewidth\":0,\"ticks\":\"\"}}}],\"scattermapbox\":[{\"type\":\"scattermapbox\",\"marker\":{\"colorbar\":{\"outlinewidth\":0,\"ticks\":\"\"}}}],\"scatterternary\":[{\"type\":\"scatterternary\",\"marker\":{\"colorbar\":{\"outlinewidth\":0,\"ticks\":\"\"}}}],\"scattercarpet\":[{\"type\":\"scattercarpet\",\"marker\":{\"colorbar\":{\"outlinewidth\":0,\"ticks\":\"\"}}}],\"carpet\":[{\"aaxis\":{\"endlinecolor\":\"#2a3f5f\",\"gridcolor\":\"white\",\"linecolor\":\"white\",\"minorgridcolor\":\"white\",\"startlinecolor\":\"#2a3f5f\"},\"baxis\":{\"endlinecolor\":\"#2a3f5f\",\"gridcolor\":\"white\",\"linecolor\":\"white\",\"minorgridcolor\":\"white\",\"startlinecolor\":\"#2a3f5f\"},\"type\":\"carpet\"}],\"table\":[{\"cells\":{\"fill\":{\"color\":\"#EBF0F8\"},\"line\":{\"color\":\"white\"}},\"header\":{\"fill\":{\"color\":\"#C8D4E3\"},\"line\":{\"color\":\"white\"}},\"type\":\"table\"}],\"barpolar\":[{\"marker\":{\"line\":{\"color\":\"#E5ECF6\",\"width\":0.5},\"pattern\":{\"fillmode\":\"overlay\",\"size\":10,\"solidity\":0.2}},\"type\":\"barpolar\"}],\"pie\":[{\"automargin\":true,\"type\":\"pie\"}]},\"layout\":{\"autotypenumbers\":\"strict\",\"colorway\":[\"#636efa\",\"#EF553B\",\"#00cc96\",\"#ab63fa\",\"#FFA15A\",\"#19d3f3\",\"#FF6692\",\"#B6E880\",\"#FF97FF\",\"#FECB52\"],\"font\":{\"color\":\"#2a3f5f\"},\"hovermode\":\"closest\",\"hoverlabel\":{\"align\":\"left\"},\"paper_bgcolor\":\"white\",\"plot_bgcolor\":\"#E5ECF6\",\"polar\":{\"bgcolor\":\"#E5ECF6\",\"angularaxis\":{\"gridcolor\":\"white\",\"linecolor\":\"white\",\"ticks\":\"\"},\"radialaxis\":{\"gridcolor\":\"white\",\"linecolor\":\"white\",\"ticks\":\"\"}},\"ternary\":{\"bgcolor\":\"#E5ECF6\",\"aaxis\":{\"gridcolor\":\"white\",\"linecolor\":\"white\",\"ticks\":\"\"},\"baxis\":{\"gridcolor\":\"white\",\"linecolor\":\"white\",\"ticks\":\"\"},\"caxis\":{\"gridcolor\":\"white\",\"linecolor\":\"white\",\"ticks\":\"\"}},\"coloraxis\":{\"colorbar\":{\"outlinewidth\":0,\"ticks\":\"\"}},\"colorscale\":{\"sequential\":[[0.0,\"#0d0887\"],[0.1111111111111111,\"#46039f\"],[0.2222222222222222,\"#7201a8\"],[0.3333333333333333,\"#9c179e\"],[0.4444444444444444,\"#bd3786\"],[0.5555555555555556,\"#d8576b\"],[0.6666666666666666,\"#ed7953\"],[0.7777777777777778,\"#fb9f3a\"],[0.8888888888888888,\"#fdca26\"],[1.0,\"#f0f921\"]],\"sequentialminus\":[[0.0,\"#0d0887\"],[0.1111111111111111,\"#46039f\"],[0.2222222222222222,\"#7201a8\"],[0.3333333333333333,\"#9c179e\"],[0.4444444444444444,\"#bd3786\"],[0.5555555555555556,\"#d8576b\"],[0.6666666666666666,\"#ed7953\"],[0.7777777777777778,\"#fb9f3a\"],[0.8888888888888888,\"#fdca26\"],[1.0,\"#f0f921\"]],\"diverging\":[[0,\"#8e0152\"],[0.1,\"#c51b7d\"],[0.2,\"#de77ae\"],[0.3,\"#f1b6da\"],[0.4,\"#fde0ef\"],[0.5,\"#f7f7f7\"],[0.6,\"#e6f5d0\"],[0.7,\"#b8e186\"],[0.8,\"#7fbc41\"],[0.9,\"#4d9221\"],[1,\"#276419\"]]},\"xaxis\":{\"gridcolor\":\"white\",\"linecolor\":\"white\",\"ticks\":\"\",\"title\":{\"standoff\":15},\"zerolinecolor\":\"white\",\"automargin\":true,\"zerolinewidth\":2},\"yaxis\":{\"gridcolor\":\"white\",\"linecolor\":\"white\",\"ticks\":\"\",\"title\":{\"standoff\":15},\"zerolinecolor\":\"white\",\"automargin\":true,\"zerolinewidth\":2},\"scene\":{\"xaxis\":{\"backgroundcolor\":\"#E5ECF6\",\"gridcolor\":\"white\",\"linecolor\":\"white\",\"showbackground\":true,\"ticks\":\"\",\"zerolinecolor\":\"white\",\"gridwidth\":2},\"yaxis\":{\"backgroundcolor\":\"#E5ECF6\",\"gridcolor\":\"white\",\"linecolor\":\"white\",\"showbackground\":true,\"ticks\":\"\",\"zerolinecolor\":\"white\",\"gridwidth\":2},\"zaxis\":{\"backgroundcolor\":\"#E5ECF6\",\"gridcolor\":\"white\",\"linecolor\":\"white\",\"showbackground\":true,\"ticks\":\"\",\"zerolinecolor\":\"white\",\"gridwidth\":2}},\"shapedefaults\":{\"line\":{\"color\":\"#2a3f5f\"}},\"annotationdefaults\":{\"arrowcolor\":\"#2a3f5f\",\"arrowhead\":0,\"arrowwidth\":1},\"geo\":{\"bgcolor\":\"white\",\"landcolor\":\"#E5ECF6\",\"subunitcolor\":\"white\",\"showland\":true,\"showlakes\":true,\"lakecolor\":\"white\"},\"title\":{\"x\":0.05},\"mapbox\":{\"style\":\"light\"}}},\"xaxis\":{\"anchor\":\"y\",\"domain\":[0.0,1.0],\"title\":{\"text\":\"BpD\"}},\"yaxis\":{\"anchor\":\"x\",\"domain\":[0.0,1.0],\"title\":{\"text\":\"NVRR\"}},\"legend\":{\"tracegroupgap\":0},\"margin\":{\"t\":60},\"shapes\":[{\"type\":\"line\",\"x0\":0,\"x1\":1,\"xref\":\"x domain\",\"y0\":0,\"y1\":0,\"yref\":\"y\"},{\"type\":\"line\",\"x0\":20,\"x1\":20,\"xref\":\"x\",\"y0\":0,\"y1\":1,\"yref\":\"y domain\"}]},                        {\"responsive\": true}                    ).then(function(){\n",
       "                            \n",
       "var gd = document.getElementById('fd721700-b7cc-419b-ad6c-fe8cf65790c3');\n",
       "var x = new MutationObserver(function (mutations, observer) {{\n",
       "        var display = window.getComputedStyle(gd).display;\n",
       "        if (!display || display === 'none') {{\n",
       "            console.log([gd, 'removed!']);\n",
       "            Plotly.purge(gd);\n",
       "            observer.disconnect();\n",
       "        }}\n",
       "}});\n",
       "\n",
       "// Listen for the removal of the full notebook cells\n",
       "var notebookContainer = gd.closest('#notebook-container');\n",
       "if (notebookContainer) {{\n",
       "    x.observe(notebookContainer, {childList: true});\n",
       "}}\n",
       "\n",
       "// Listen for the clearing of the current output cell\n",
       "var outputEl = gd.closest('.output');\n",
       "if (outputEl) {{\n",
       "    x.observe(outputEl, {childList: true});\n",
       "}}\n",
       "\n",
       "                        })                };                });            </script>        </div>"
      ]
     },
     "metadata": {},
     "output_type": "display_data"
    }
   ],
   "source": [
    "fig = px.scatter(final_df_v1, x = 'BpD', y='NVRR', text='Player')\n",
    "fig.update_traces(textposition='top center')\n",
    "fig.add_hline(y=0)\n",
    "fig.add_vline(x=20)\n",
    "# #fig.update_layout(title_text='Life Expectency', title_x=0.5)\n",
    "fig.show()"
   ]
  },
  {
   "cell_type": "code",
   "execution_count": 40,
   "id": "d5c4738c",
   "metadata": {},
   "outputs": [],
   "source": [
    "# final_df_v1.to_csv(\"350runs_CuttOff.csv\")"
   ]
  },
  {
   "cell_type": "code",
   "execution_count": 109,
   "id": "ca76af0f",
   "metadata": {},
   "outputs": [
    {
     "data": {
      "text/plain": [
       "(400, 6)"
      ]
     },
     "execution_count": 109,
     "metadata": {},
     "output_type": "execute_result"
    }
   ],
   "source": [
    "# No filter\n",
    "merged_top25[['Player', 'season', 'runs_off_bat', 'BpD', 'NVRR', 'SR']].shape"
   ]
  },
  {
   "cell_type": "code",
   "execution_count": 110,
   "id": "29dcc14e",
   "metadata": {},
   "outputs": [
    {
     "data": {
      "text/plain": [
       "(256, 6)"
      ]
     },
     "execution_count": 110,
     "metadata": {},
     "output_type": "execute_result"
    }
   ],
   "source": [
    "# 200 runs filter\n",
    "merged_top25[merged_top25['runs_off_bat']>200][['Player', 'season', 'runs_off_bat', 'BpD', 'NVRR', 'SR']].shape"
   ]
  },
  {
   "cell_type": "code",
   "execution_count": 111,
   "id": "6b8f1a7d",
   "metadata": {},
   "outputs": [
    {
     "data": {
      "text/plain": [
       "(156, 6)"
      ]
     },
     "execution_count": 111,
     "metadata": {},
     "output_type": "execute_result"
    }
   ],
   "source": [
    "# 350 runs filter\n",
    "merged_top25[merged_top25['runs_off_bat']>350][['Player', 'season', 'runs_off_bat', 'BpD', 'NVRR', 'SR']].shape"
   ]
  },
  {
   "cell_type": "code",
   "execution_count": 48,
   "id": "1c25ccd0",
   "metadata": {},
   "outputs": [],
   "source": [
    "# merged3.to_csv(\"All_Player_IPL_Seasons_Till2022.csv\")"
   ]
  },
  {
   "cell_type": "code",
   "execution_count": 47,
   "id": "e8901d09",
   "metadata": {},
   "outputs": [],
   "source": [
    "# top_25_scorers"
   ]
  },
  {
   "cell_type": "code",
   "execution_count": 51,
   "id": "77ff750e",
   "metadata": {},
   "outputs": [],
   "source": [
    "# match_by_match_individual_inns.to_csv('match_by_match_individual_inns_till_2022.csv')"
   ]
  },
  {
   "cell_type": "code",
   "execution_count": 112,
   "id": "22679384",
   "metadata": {},
   "outputs": [
    {
     "data": {
      "text/html": [
       "<div>\n",
       "<style scoped>\n",
       "    .dataframe tbody tr th:only-of-type {\n",
       "        vertical-align: middle;\n",
       "    }\n",
       "\n",
       "    .dataframe tbody tr th {\n",
       "        vertical-align: top;\n",
       "    }\n",
       "\n",
       "    .dataframe thead th {\n",
       "        text-align: right;\n",
       "    }\n",
       "</style>\n",
       "<table border=\"1\" class=\"dataframe\">\n",
       "  <thead>\n",
       "    <tr style=\"text-align: right;\">\n",
       "      <th></th>\n",
       "      <th>Player</th>\n",
       "      <th>season</th>\n",
       "      <th>runs_off_bat</th>\n",
       "      <th>BpD</th>\n",
       "      <th>NVRR</th>\n",
       "      <th>SR</th>\n",
       "      <th>Name</th>\n",
       "    </tr>\n",
       "  </thead>\n",
       "  <tbody>\n",
       "    <tr>\n",
       "      <th>75</th>\n",
       "      <td>V Kohli</td>\n",
       "      <td>2011</td>\n",
       "      <td>557.0</td>\n",
       "      <td>38.33</td>\n",
       "      <td>-0.137</td>\n",
       "      <td>121.09</td>\n",
       "      <td>(V Kohli, 2011)</td>\n",
       "    </tr>\n",
       "    <tr>\n",
       "      <th>100</th>\n",
       "      <td>V Kohli</td>\n",
       "      <td>2012</td>\n",
       "      <td>364.0</td>\n",
       "      <td>25.08</td>\n",
       "      <td>-0.908</td>\n",
       "      <td>111.66</td>\n",
       "      <td>(V Kohli, 2012)</td>\n",
       "    </tr>\n",
       "    <tr>\n",
       "      <th>125</th>\n",
       "      <td>V Kohli</td>\n",
       "      <td>2013</td>\n",
       "      <td>639.0</td>\n",
       "      <td>32.79</td>\n",
       "      <td>0.176</td>\n",
       "      <td>139.22</td>\n",
       "      <td>(V Kohli, 2013)</td>\n",
       "    </tr>\n",
       "    <tr>\n",
       "      <th>150</th>\n",
       "      <td>V Kohli</td>\n",
       "      <td>2014</td>\n",
       "      <td>359.0</td>\n",
       "      <td>22.62</td>\n",
       "      <td>-0.672</td>\n",
       "      <td>122.11</td>\n",
       "      <td>(V Kohli, 2014)</td>\n",
       "    </tr>\n",
       "    <tr>\n",
       "      <th>175</th>\n",
       "      <td>V Kohli</td>\n",
       "      <td>2015</td>\n",
       "      <td>505.0</td>\n",
       "      <td>35.09</td>\n",
       "      <td>-0.171</td>\n",
       "      <td>130.83</td>\n",
       "      <td>(V Kohli, 2015)</td>\n",
       "    </tr>\n",
       "    <tr>\n",
       "      <th>200</th>\n",
       "      <td>V Kohli</td>\n",
       "      <td>2016</td>\n",
       "      <td>973.0</td>\n",
       "      <td>53.33</td>\n",
       "      <td>0.297</td>\n",
       "      <td>152.03</td>\n",
       "      <td>(V Kohli, 2016)</td>\n",
       "    </tr>\n",
       "    <tr>\n",
       "      <th>250</th>\n",
       "      <td>V Kohli</td>\n",
       "      <td>2018</td>\n",
       "      <td>530.0</td>\n",
       "      <td>34.64</td>\n",
       "      <td>-0.502</td>\n",
       "      <td>139.11</td>\n",
       "      <td>(V Kohli, 2018)</td>\n",
       "    </tr>\n",
       "    <tr>\n",
       "      <th>275</th>\n",
       "      <td>V Kohli</td>\n",
       "      <td>2019</td>\n",
       "      <td>464.0</td>\n",
       "      <td>23.43</td>\n",
       "      <td>-0.338</td>\n",
       "      <td>141.46</td>\n",
       "      <td>(V Kohli, 2019)</td>\n",
       "    </tr>\n",
       "    <tr>\n",
       "      <th>300</th>\n",
       "      <td>V Kohli</td>\n",
       "      <td>2020</td>\n",
       "      <td>471.0</td>\n",
       "      <td>35.09</td>\n",
       "      <td>-0.403</td>\n",
       "      <td>122.02</td>\n",
       "      <td>(V Kohli, 2020)</td>\n",
       "    </tr>\n",
       "    <tr>\n",
       "      <th>325</th>\n",
       "      <td>V Kohli</td>\n",
       "      <td>2021</td>\n",
       "      <td>405.0</td>\n",
       "      <td>24.21</td>\n",
       "      <td>-0.202</td>\n",
       "      <td>119.47</td>\n",
       "      <td>(V Kohli, 2021)</td>\n",
       "    </tr>\n",
       "    <tr>\n",
       "      <th>375</th>\n",
       "      <td>V Kohli</td>\n",
       "      <td>2023</td>\n",
       "      <td>639.0</td>\n",
       "      <td>38.08</td>\n",
       "      <td>-0.719</td>\n",
       "      <td>139.82</td>\n",
       "      <td>(V Kohli, 2023)</td>\n",
       "    </tr>\n",
       "  </tbody>\n",
       "</table>\n",
       "</div>"
      ],
      "text/plain": [
       "      Player season  runs_off_bat    BpD   NVRR      SR             Name\n",
       "75   V Kohli   2011         557.0  38.33 -0.137  121.09  (V Kohli, 2011)\n",
       "100  V Kohli   2012         364.0  25.08 -0.908  111.66  (V Kohli, 2012)\n",
       "125  V Kohli   2013         639.0  32.79  0.176  139.22  (V Kohli, 2013)\n",
       "150  V Kohli   2014         359.0  22.62 -0.672  122.11  (V Kohli, 2014)\n",
       "175  V Kohli   2015         505.0  35.09 -0.171  130.83  (V Kohli, 2015)\n",
       "200  V Kohli   2016         973.0  53.33  0.297  152.03  (V Kohli, 2016)\n",
       "250  V Kohli   2018         530.0  34.64 -0.502  139.11  (V Kohli, 2018)\n",
       "275  V Kohli   2019         464.0  23.43 -0.338  141.46  (V Kohli, 2019)\n",
       "300  V Kohli   2020         471.0  35.09 -0.403  122.02  (V Kohli, 2020)\n",
       "325  V Kohli   2021         405.0  24.21 -0.202  119.47  (V Kohli, 2021)\n",
       "375  V Kohli   2023         639.0  38.08 -0.719  139.82  (V Kohli, 2023)"
      ]
     },
     "execution_count": 112,
     "metadata": {},
     "output_type": "execute_result"
    }
   ],
   "source": [
    "final_df_v1[final_df_v1['Player']=='V Kohli']"
   ]
  },
  {
   "cell_type": "code",
   "execution_count": null,
   "id": "186de399",
   "metadata": {},
   "outputs": [],
   "source": []
  }
 ],
 "metadata": {
  "kernelspec": {
   "display_name": "Python 3 (ipykernel)",
   "language": "python",
   "name": "python3"
  },
  "language_info": {
   "codemirror_mode": {
    "name": "ipython",
    "version": 3
   },
   "file_extension": ".py",
   "mimetype": "text/x-python",
   "name": "python",
   "nbconvert_exporter": "python",
   "pygments_lexer": "ipython3",
   "version": "3.11.3"
  }
 },
 "nbformat": 4,
 "nbformat_minor": 5
}
